{
 "cells": [
  {
   "cell_type": "markdown",
   "metadata": {},
   "source": [
    "# MadMiner particle physics tutorial\n",
    "\n",
    "# Part 3a: Training a likelihood ratio estimator\n",
    "\n",
    "Johann Brehmer, Felix Kling, Irina Espejo, and Kyle Cranmer 2018-2019"
   ]
  },
  {
   "cell_type": "markdown",
   "metadata": {},
   "source": [
    "In part 3a of this tutorial we will finally train a neural network to estimate likelihood ratios. We assume that you have run part 1 and 2a of this tutorial. If, instead of 2a, you have run part 2b, you just have to load a different filename later."
   ]
  },
  {
   "cell_type": "markdown",
   "metadata": {},
   "source": [
    "## Preparations"
   ]
  },
  {
   "cell_type": "code",
   "execution_count": 9,
   "metadata": {},
   "outputs": [],
   "source": [
    "from __future__ import absolute_import, division, print_function, unicode_literals\n",
    "\n",
    "\n",
    "import logging\n",
    "import numpy as np\n",
    "import matplotlib\n",
    "from matplotlib import pyplot as plt\n",
    "%matplotlib inline\n",
    "\n",
    "from madminer.sampling import SampleAugmenter\n",
    "from madminer import sampling\n",
    "from madminer.ml import ParameterizedRatioEstimator\n",
    "\n"
   ]
  },
  {
   "cell_type": "code",
   "execution_count": 10,
   "metadata": {},
   "outputs": [],
   "source": [
    "# MadMiner output\n",
    "logging.basicConfig(\n",
    "    format='%(asctime)-5.5s %(name)-20.20s %(levelname)-7.7s %(message)s',\n",
    "    datefmt='%H:%M',\n",
    "    level=logging.INFO\n",
    ")\n",
    "\n",
    "# Output of all other modules (e.g. matplotlib)\n",
    "for key in logging.Logger.manager.loggerDict:\n",
    "    if \"madminer\" not in key:\n",
    "        logging.getLogger(key).setLevel(logging.WARNING)"
   ]
  },
  {
   "cell_type": "markdown",
   "metadata": {},
   "source": [
    "## 1. Make (unweighted) training and test samples with augmented data"
   ]
  },
  {
   "cell_type": "markdown",
   "metadata": {},
   "source": [
    "At this point, we have all the information we need from the simulations. But the data is not quite ready to be used for machine learning. The `madminer.sampling` class `SampleAugmenter` will take care of the remaining book-keeping steps before we can train our estimators:\n",
    "\n",
    "First, it unweights the samples, i.e. for a given parameter vector `theta` (or a distribution `p(theta)`) it picks events `x` such that their distribution follows `p(x|theta)`. The selected samples will all come from the event file we have so far, but their frequency is changed -- some events will appear multiple times, some will disappear.\n",
    "\n",
    "Second, `SampleAugmenter` calculates all the augmented data (\"gold\") that is the key to our new inference methods. Depending on the specific technique, these are the joint likelihood ratio and / or the joint score. It saves all these pieces of information for the selected events in a set of numpy files that can easily be used in any machine learning framework."
   ]
  },
  {
   "cell_type": "code",
   "execution_count": 11,
   "metadata": {},
   "outputs": [
    {
     "name": "stderr",
     "output_type": "stream",
     "text": [
      "19:22 madminer.analysis.da INFO    Loading data from /data_CMS/cms/cortinovis/smeftsim/data_sme_hw_hbox/delphes_data_shuffled.h5\n",
      "19:22 madminer.analysis.da INFO    Found 2 parameters\n",
      "19:22 madminer.analysis.da INFO    Did not find nuisance parameters\n",
      "19:22 madminer.analysis.da INFO    Found 6 benchmarks, of which 6 physical\n",
      "19:22 madminer.analysis.da INFO    Found 12 observables\n",
      "19:22 madminer.analysis.da INFO    Found 13797 events\n",
      "19:22 madminer.analysis.da INFO      6983 signal events sampled from benchmark sm\n",
      "19:22 madminer.analysis.da INFO      1949 signal events sampled from benchmark w\n",
      "19:22 madminer.analysis.da INFO      2079 signal events sampled from benchmark neg_w\n",
      "19:22 madminer.analysis.da INFO      1398 signal events sampled from benchmark ww\n",
      "19:22 madminer.analysis.da INFO      1388 signal events sampled from benchmark neg_ww\n",
      "19:22 madminer.analysis.da INFO    Found morphing setup with 6 components\n",
      "19:22 madminer.analysis.da INFO    Did not find nuisance morphing setup\n"
     ]
    }
   ],
   "source": [
    "# sampler = SampleAugmenter('data/lhe_data_shuffled.h5')\n",
    "sampler = SampleAugmenter('/data_CMS/cms/cortinovis/smeftsim/data_sme_hw_hbox/delphes_data_shuffled.h5')"
   ]
  },
  {
   "cell_type": "markdown",
   "metadata": {},
   "source": [
    "The `SampleAugmenter` class defines five different high-level functions to generate train or test samples:\n",
    "- `sample_train_plain()`, which only saves observations x, for instance for histograms or ABC;\n",
    "- `sample_train_local()` for methods like SALLY and SALLINO, which will be demonstrated in the second part of the tutorial;\n",
    "- `sample_train_density()` for neural density estimation techniques like MAF or SCANDAL;\n",
    "- `sample_train_ratio()` for techniques like CARL, ROLR, CASCAL, and RASCAL, when only theta0 is parameterized;\n",
    "- `sample_train_more_ratios()` for the same techniques, but with both theta0 and theta1 parameterized;\n",
    "- `sample_test()` for the evaluation of any method.\n",
    "\n",
    "For the arguments `theta`, `theta0`, or `theta1`, you can (and should!) use the helper functions `benchmark()`, `benchmarks()`, `morphing_point()`, `morphing_points()`, and `random_morphing_points()`, all defined in the `madminer.sampling` module.\n",
    "\n",
    "Here we'll train a likelihood ratio estimator with the ALICES method, so we focus on the `extract_samples_train_ratio()` function. We'll sample the numerator hypothesis in the likelihood ratio with 1000 points drawn from a Gaussian prior, and fix the denominator hypothesis to the SM.\n",
    "\n",
    "Note the keyword `sample_only_from_closest_benchmark=True`, which makes sure that for each parameter point we only use the events that were originally (in MG) generated from the closest benchmark. This reduces the statistical fluctuations in the outcome quite a bit."
   ]
  },
  {
   "cell_type": "code",
   "execution_count": 28,
   "metadata": {},
   "outputs": [
    {
     "name": "stderr",
     "output_type": "stream",
     "text": [
      "19:49 madminer.sampling.sa INFO    Extracting training sample for ratio-based methods. Numerator hypothesis: 1000 random morphing points, drawn from the following priors:\n",
      "  theta_0 ~ Gaussian with mean 0.0 and std 0.15\n",
      "  theta_1 ~ Gaussian with mean 0.0 and std 0.5, denominator hypothesis: sm\n",
      "19:49 madminer.sampling.sa INFO    Starting sampling serially\n",
      "19:49 madminer.sampling.sa WARNING Large statistical uncertainty on the total cross section when sampling from theta = [-0.05756268 -0.05799636]: (0.000009 +/- 0.000058) pb (657.7594188632671 %). Skipping these warnings in the future...\n",
      "19:49 madminer.sampling.sa INFO    Sampling from parameter point 50 / 1000\n",
      "19:49 madminer.sampling.sa INFO    Sampling from parameter point 100 / 1000\n",
      "19:49 madminer.sampling.sa INFO    Sampling from parameter point 150 / 1000\n",
      "19:49 madminer.sampling.sa INFO    Sampling from parameter point 200 / 1000\n",
      "19:49 madminer.sampling.sa INFO    Sampling from parameter point 250 / 1000\n",
      "19:50 madminer.sampling.sa INFO    Sampling from parameter point 300 / 1000\n",
      "19:50 madminer.sampling.sa INFO    Sampling from parameter point 350 / 1000\n",
      "19:50 madminer.sampling.sa INFO    Sampling from parameter point 400 / 1000\n",
      "19:50 madminer.sampling.sa INFO    Sampling from parameter point 450 / 1000\n",
      "19:50 madminer.sampling.sa INFO    Sampling from parameter point 500 / 1000\n",
      "19:50 madminer.sampling.sa INFO    Sampling from parameter point 550 / 1000\n",
      "19:50 madminer.sampling.sa INFO    Sampling from parameter point 600 / 1000\n",
      "19:50 madminer.sampling.sa INFO    Sampling from parameter point 650 / 1000\n",
      "19:50 madminer.sampling.sa INFO    Sampling from parameter point 700 / 1000\n",
      "19:50 madminer.sampling.sa WARNING For this value of theta, 1 / 4223 events have negative weight and will be ignored\n",
      "19:50 madminer.sampling.sa INFO    Sampling from parameter point 750 / 1000\n",
      "19:50 madminer.sampling.sa INFO    Sampling from parameter point 800 / 1000\n",
      "19:50 madminer.sampling.sa INFO    Sampling from parameter point 850 / 1000\n",
      "19:50 madminer.sampling.sa INFO    Sampling from parameter point 900 / 1000\n",
      "19:50 madminer.sampling.sa WARNING For this value of theta, 1 / 4223 events have negative weight and will be ignored\n",
      "19:50 madminer.sampling.sa INFO    Sampling from parameter point 950 / 1000\n",
      "19:50 madminer.sampling.sa INFO    Sampling from parameter point 1000 / 1000\n",
      "19:50 madminer.sampling.sa INFO    Effective number of samples: mean 239.93267775807368, with individual thetas ranging from 6.463972632853439 to 4166.582498128307\n",
      "19:50 madminer.sampling.sa INFO    Starting sampling serially\n",
      "19:50 madminer.sampling.sa INFO    Sampling from parameter point 50 / 1000\n",
      "19:50 madminer.sampling.sa INFO    Sampling from parameter point 100 / 1000\n",
      "19:51 madminer.sampling.sa INFO    Sampling from parameter point 150 / 1000\n",
      "19:51 madminer.sampling.sa INFO    Sampling from parameter point 200 / 1000\n",
      "19:51 madminer.sampling.sa INFO    Sampling from parameter point 250 / 1000\n",
      "19:51 madminer.sampling.sa INFO    Sampling from parameter point 300 / 1000\n",
      "19:51 madminer.sampling.sa INFO    Sampling from parameter point 350 / 1000\n",
      "19:51 madminer.sampling.sa INFO    Sampling from parameter point 400 / 1000\n",
      "19:51 madminer.sampling.sa INFO    Sampling from parameter point 450 / 1000\n",
      "19:51 madminer.sampling.sa INFO    Sampling from parameter point 500 / 1000\n",
      "19:51 madminer.sampling.sa INFO    Sampling from parameter point 550 / 1000\n",
      "19:51 madminer.sampling.sa INFO    Sampling from parameter point 600 / 1000\n",
      "19:51 madminer.sampling.sa INFO    Sampling from parameter point 650 / 1000\n",
      "19:51 madminer.sampling.sa INFO    Sampling from parameter point 700 / 1000\n",
      "19:51 madminer.sampling.sa INFO    Sampling from parameter point 750 / 1000\n",
      "19:51 madminer.sampling.sa INFO    Sampling from parameter point 800 / 1000\n",
      "19:51 madminer.sampling.sa INFO    Sampling from parameter point 850 / 1000\n",
      "19:51 madminer.sampling.sa INFO    Sampling from parameter point 900 / 1000\n",
      "19:51 madminer.sampling.sa INFO    Sampling from parameter point 950 / 1000\n",
      "19:52 madminer.sampling.sa INFO    Sampling from parameter point 1000 / 1000\n",
      "19:52 madminer.sampling.sa INFO    Effective number of samples: mean 4222.999999999999, with individual thetas ranging from 4222.999999999999 to 4222.999999999999\n"
     ]
    }
   ],
   "source": [
    "x, theta0, theta1, y, r_xz, t_xz, n_effective = sampler.sample_train_ratio(\n",
    "    theta0=sampling.random_morphing_points(1000, [('gaussian', 0., 0.15), ('gaussian', 0., 0.5)]),\n",
    "    #theta0=sampling.random_morphing_points(1000, [('gaussian', 0., 0.5), ('gaussian', 0., 0.5)]),\n",
    "    theta1=sampling.benchmark('sm'),\n",
    "    n_samples=500000,\n",
    "    folder='/data_CMS/cms/cortinovis/smeftsim/data_sme_hw_hbox/samples',\n",
    "    filename='train_ratio',\n",
    "    sample_only_from_closest_benchmark=True,\n",
    "    return_individual_n_effective=True,\n",
    ")"
   ]
  },
  {
   "cell_type": "markdown",
   "metadata": {},
   "source": [
    "For the evaluation we'll need a test sample:"
   ]
  },
  {
   "cell_type": "code",
   "execution_count": 29,
   "metadata": {
    "scrolled": true
   },
   "outputs": [
    {
     "name": "stderr",
     "output_type": "stream",
     "text": [
      "19:52 madminer.sampling.sa INFO    Extracting evaluation sample. Sampling according to sm\n",
      "19:52 madminer.sampling.sa INFO    Starting sampling serially\n",
      "19:52 madminer.sampling.sa INFO    Sampling from parameter point 1 / 1\n",
      "19:52 madminer.sampling.sa INFO    Effective number of samples: mean 1376.0, with individual thetas ranging from 1376.0 to 1376.0\n"
     ]
    }
   ],
   "source": [
    "_ = sampler.sample_test(\n",
    "    theta=sampling.benchmark('sm'),\n",
    "    n_samples=1000,\n",
    "    folder='/data_CMS/cms/cortinovis/smeftsim/data_sme_hw_hbox/samples',\n",
    "    filename='test'\n",
    ")"
   ]
  },
  {
   "cell_type": "code",
   "execution_count": 32,
   "metadata": {},
   "outputs": [
    {
     "name": "stderr",
     "output_type": "stream",
     "text": [
      "19:52 madminer.sampling.sa INFO    Extracting plain training sample. Sampling according to [0.  0.5]\n",
      "19:52 madminer.sampling.sa INFO    Starting sampling serially\n",
      "19:52 madminer.sampling.sa INFO    Sampling from parameter point 1 / 1\n",
      "19:52 madminer.sampling.sa WARNING Large statistical uncertainty on the total cross section when sampling from theta = [0.  0.5]: (0.000019 +/- 0.000190) pb (981.2962515456177 %). Skipping these warnings in the future...\n",
      "19:52 madminer.sampling.sa INFO    Effective number of samples: mean 4222.997624245154, with individual thetas ranging from 4222.997624245155 to 4222.997624245155\n"
     ]
    }
   ],
   "source": [
    "_,_,neff=sampler.sample_train_plain(\n",
    "    theta=sampling.morphing_point([0,0.5]),\n",
    "    n_samples=10000,\n",
    ")"
   ]
  },
  {
   "cell_type": "markdown",
   "metadata": {},
   "source": [
    "You might notice the information about the \"eeffective number of samples\" in the output. This is defined as `1 / max_events(weights)`; the smaller it is, the bigger the statistical fluctuations from too large weights. Let's plot this over the parameter space:"
   ]
  },
  {
   "cell_type": "code",
   "execution_count": 33,
   "metadata": {},
   "outputs": [
    {
     "data": {
      "image/png": "[encoded data removed]",
      "text/plain": [
       "<Figure size 360x288 with 2 Axes>"
      ]
     },
     "metadata": {
      "needs_background": "light"
     },
     "output_type": "display_data"
    }
   ],
   "source": [
    "cmin, cmax = 10., 10000.\n",
    "\n",
    "cut = (y.flatten()==0)\n",
    "\n",
    "fig = plt.figure(figsize=(5,4))\n",
    "\n",
    "sc = plt.scatter(theta0[cut][:,0], theta0[cut][:,1], c=n_effective[cut],\n",
    "                 s=30., cmap='viridis',\n",
    "                 norm=matplotlib.colors.LogNorm(vmin=cmin, vmax=cmax),\n",
    "                 marker='o')\n",
    "\n",
    "cb = plt.colorbar(sc)\n",
    "cb.set_label('Effective number of samples')\n",
    "\n",
    "plt.xlim(-1.0,1.0)\n",
    "plt.ylim(-1.0,1.0)\n",
    "plt.tight_layout()\n",
    "plt.show()"
   ]
  },
  {
   "cell_type": "markdown",
   "metadata": {},
   "source": [
    "## 2. Plot cross section over parameter space"
   ]
  },
  {
   "cell_type": "markdown",
   "metadata": {},
   "source": [
    "This is not strictly necessary, but we can also plot the cross section as a function of parameter space:"
   ]
  },
  {
   "cell_type": "code",
   "execution_count": 34,
   "metadata": {},
   "outputs": [
    {
     "name": "stderr",
     "output_type": "stream",
     "text": [
      "19:53 madminer.sampling.sa INFO    Starting cross-section calculation\n",
      "19:53 madminer.sampling.sa INFO    Starting cross-section calculation\n"
     ]
    }
   ],
   "source": [
    "thetas_benchmarks, xsecs_benchmarks, xsec_errors_benchmarks = sampler.cross_sections(\n",
    "    theta=sampling.benchmarks(list(sampler.benchmarks.keys()))\n",
    ")\n",
    "\n",
    "thetas_morphing, xsecs_morphing, xsec_errors_morphing = sampler.cross_sections(\n",
    "    theta=sampling.random_morphing_points(1000, [('gaussian', 0., 0.15), ('gaussian', 0., 0.5)])\n",
    "    #theta=sampling.random_morphing_points(1000, [('gaussian', 0., 1.), ('gaussian', 0., 1.)])\n",
    ")"
   ]
  },
  {
   "cell_type": "code",
   "execution_count": 35,
   "metadata": {},
   "outputs": [
    {
     "data": {
      "image/png": "[encoded data removed]",
      "text/plain": [
       "<Figure size 360x288 with 2 Axes>"
      ]
     },
     "metadata": {
      "needs_background": "light"
     },
     "output_type": "display_data"
    }
   ],
   "source": [
    "cmin, cmax = 0., 2.5 * np.mean(xsecs_morphing)\n",
    "\n",
    "fig = plt.figure(figsize=(5,4))\n",
    "\n",
    "sc = plt.scatter(thetas_morphing[:,0], thetas_morphing[:,1], c=xsecs_morphing,\n",
    "            s=40., cmap='viridis', vmin=cmin, vmax=cmax,\n",
    "            marker='o')\n",
    "\n",
    "plt.scatter(thetas_benchmarks[:,0], thetas_benchmarks[:,1], c=xsecs_benchmarks,\n",
    "            s=200., cmap='viridis', vmin=cmin, vmax=cmax, lw=2., edgecolor='black',\n",
    "            marker='s')\n",
    "\n",
    "cb = plt.colorbar(sc)\n",
    "cb.set_label('xsec [pb]')\n",
    "\n",
    "plt.xlim(-3.,3.)\n",
    "plt.ylim(-3.,3.)\n",
    "plt.tight_layout()\n",
    "plt.show()"
   ]
  },
  {
   "cell_type": "markdown",
   "metadata": {},
   "source": [
    "What  you see here is a morphing algorithm in action. We only asked MadGraph to calculate event weights (differential cross sections, or basically squared matrix elements) at six fixed parameter points (shown here as squares with black edges). But with our knowledge about the structure of the process we can interpolate any observable to any parameter point without loss (except that statistical uncertainties might increase)!"
   ]
  },
  {
   "cell_type": "markdown",
   "metadata": {},
   "source": [
    "## 3. Train likelihood ratio estimator"
   ]
  },
  {
   "cell_type": "markdown",
   "metadata": {},
   "source": [
    "It's now time to build the neural network that estimates the likelihood ratio. The central object for this is the `madminer.ml.ParameterizedRatioEstimator` class. It defines functions that train, save, load, and evaluate the estimators.\n",
    "\n",
    "In the initialization, the keywords `n_hidden` and `activation` define the architecture of the (fully connected) neural network:"
   ]
  },
  {
   "cell_type": "code",
   "execution_count": 36,
   "metadata": {},
   "outputs": [],
   "source": [
    "estimator = ParameterizedRatioEstimator(\n",
    "    n_hidden=(60,60),\n",
    "    activation=\"tanh\"\n",
    ")"
   ]
  },
  {
   "cell_type": "markdown",
   "metadata": {},
   "source": [
    "To train this model we will minimize the ALICES loss function described in [\"Likelihood-free inference with an improved cross-entropy estimator\"](https://arxiv.org/abs/1808.00973). Many alternatives, including RASCAL, are described in [\"Constraining Effective Field Theories With Machine Learning\"](https://arxiv.org/abs/1805.00013) and [\"A Guide to Constraining Effective Field Theories With Machine Learning\"](https://arxiv.org/abs/1805.00020). There is also SCANDAL introduced in [\"Mining gold from implicit models to improve likelihood-free inference\"](https://arxiv.org/abs/1805.12244)."
   ]
  },
  {
   "cell_type": "code",
   "execution_count": 37,
   "metadata": {},
   "outputs": [
    {
     "name": "stderr",
     "output_type": "stream",
     "text": [
      "19:53 madminer.ml.paramete INFO    Starting training\n",
      "19:53 madminer.ml.paramete INFO      Method:                 alices\n",
      "19:53 madminer.ml.paramete INFO      alpha:                  10\n",
      "19:53 madminer.ml.paramete INFO      Batch size:             128\n",
      "19:53 madminer.ml.paramete INFO      Optimizer:              amsgrad\n",
      "19:53 madminer.ml.paramete INFO      Epochs:                 10\n",
      "19:53 madminer.ml.paramete INFO      Learning rate:          0.001 initially, decaying to 0.0001\n",
      "19:53 madminer.ml.paramete INFO      Validation split:       0.25\n",
      "19:53 madminer.ml.paramete INFO      Early stopping:         True\n",
      "19:53 madminer.ml.paramete INFO      Scale inputs:           True\n",
      "19:53 madminer.ml.paramete INFO      Scale parameters:       True\n",
      "19:53 madminer.ml.paramete INFO      Shuffle labels          False\n",
      "19:53 madminer.ml.paramete INFO      Samples:                all\n",
      "19:53 madminer.ml.paramete INFO    Loading training data\n",
      "19:53 madminer.utils.vario INFO      Loading /data_CMS/cms/cortinovis/smeftsim/data_sme_hw_hbox/samples/theta0_train_ratio.npy into RAM\n",
      "19:53 madminer.utils.vario INFO      Loading /data_CMS/cms/cortinovis/smeftsim/data_sme_hw_hbox/samples/x_train_ratio.npy into RAM\n",
      "19:53 madminer.utils.vario INFO      Loading /data_CMS/cms/cortinovis/smeftsim/data_sme_hw_hbox/samples/y_train_ratio.npy into RAM\n",
      "19:53 madminer.utils.vario INFO      Loading /data_CMS/cms/cortinovis/smeftsim/data_sme_hw_hbox/samples/r_xz_train_ratio.npy into RAM\n",
      "19:53 madminer.utils.vario INFO      Loading /data_CMS/cms/cortinovis/smeftsim/data_sme_hw_hbox/samples/t_xz_train_ratio.npy into RAM\n",
      "19:53 madminer.ml.paramete INFO    Found 500000 samples with 2 parameters and 12 observables\n",
      "19:53 madminer.ml.base     INFO    Setting up input rescaling\n",
      "19:53 madminer.ml.paramete INFO    Rescaling parameters\n",
      "19:53 madminer.ml.base     INFO    Setting up parameter rescaling\n",
      "19:53 madminer.ml.paramete INFO    Creating model\n",
      "19:53 madminer.ml.paramete INFO    Training model\n",
      "19:53 madminer.utils.ml.tr INFO    Training on CPU with single precision\n",
      "19:54 madminer.utils.ml.tr INFO      Epoch   1: train loss 10.76395 (improved_xe:  0.627, mse_score:  1.014)\n",
      "19:54 madminer.utils.ml.tr INFO                 val. loss   6.90904 (improved_xe:  0.618, mse_score:  0.629)\n",
      "19:55 madminer.utils.ml.tr INFO      Epoch   2: train loss  9.63942 (improved_xe:  0.616, mse_score:  0.902)\n",
      "19:55 madminer.utils.ml.tr INFO                 val. loss   6.72449 (improved_xe:  0.619, mse_score:  0.611)\n",
      "19:55 madminer.utils.ml.tr INFO      Epoch   3: train loss  9.20052 (improved_xe:  0.614, mse_score:  0.859)\n",
      "19:55 madminer.utils.ml.tr INFO                 val. loss   5.88068 (improved_xe:  0.615, mse_score:  0.527)\n",
      "19:56 madminer.utils.ml.tr INFO      Epoch   4: train loss  8.87981 (improved_xe:  0.613, mse_score:  0.827)\n",
      "19:56 madminer.utils.ml.tr INFO                 val. loss   6.45538 (improved_xe:  0.616, mse_score:  0.584)\n",
      "19:57 madminer.utils.ml.tr INFO      Epoch   5: train loss  8.74682 (improved_xe:  0.612, mse_score:  0.813)\n",
      "19:57 madminer.utils.ml.tr INFO                 val. loss   5.58586 (improved_xe:  0.613, mse_score:  0.497)\n",
      "19:58 madminer.utils.ml.tr INFO      Epoch   6: train loss  8.48174 (improved_xe:  0.611, mse_score:  0.787)\n",
      "19:58 madminer.utils.ml.tr INFO                 val. loss   5.32825 (improved_xe:  0.612, mse_score:  0.472)\n",
      "19:59 madminer.utils.ml.tr INFO      Epoch   7: train loss  8.33550 (improved_xe:  0.611, mse_score:  0.772)\n",
      "19:59 madminer.utils.ml.tr INFO                 val. loss   5.22426 (improved_xe:  0.612, mse_score:  0.461)\n",
      "20:00 madminer.utils.ml.tr INFO      Epoch   8: train loss  8.28113 (improved_xe:  0.611, mse_score:  0.767)\n",
      "20:00 madminer.utils.ml.tr INFO                 val. loss   5.20543 (improved_xe:  0.611, mse_score:  0.459)\n",
      "20:00 madminer.utils.ml.tr INFO      Epoch   9: train loss  8.15328 (improved_xe:  0.610, mse_score:  0.754)\n",
      "20:00 madminer.utils.ml.tr INFO                 val. loss   5.15232 (improved_xe:  0.611, mse_score:  0.454)\n",
      "20:01 madminer.utils.ml.tr INFO      Epoch  10: train loss  8.08348 (improved_xe:  0.610, mse_score:  0.747)\n",
      "20:01 madminer.utils.ml.tr INFO                 val. loss   5.09198 (improved_xe:  0.611, mse_score:  0.448)\n",
      "20:01 madminer.utils.ml.tr INFO    Early stopping did not improve performance\n",
      "20:01 madminer.utils.ml.tr INFO    Training time spend on:\n",
      "20:01 madminer.utils.ml.tr INFO                      initialize model:   0.00h\n",
      "20:01 madminer.utils.ml.tr INFO                                   ALL:   0.14h\n",
      "20:01 madminer.utils.ml.tr INFO                            check data:   0.00h\n",
      "20:01 madminer.utils.ml.tr INFO                          make dataset:   0.00h\n",
      "20:01 madminer.utils.ml.tr INFO                       make dataloader:   0.00h\n",
      "20:01 madminer.utils.ml.tr INFO                       setup optimizer:   0.00h\n",
      "20:01 madminer.utils.ml.tr INFO                   initialize training:   0.00h\n",
      "20:01 madminer.utils.ml.tr INFO                                set lr:   0.00h\n",
      "20:01 madminer.utils.ml.tr INFO                   load training batch:   0.04h\n",
      "20:01 madminer.utils.ml.tr INFO                        fwd: move data:   0.00h\n",
      "20:01 madminer.utils.ml.tr INFO                   fwd: check for nans:   0.01h\n",
      "20:01 madminer.utils.ml.tr INFO                    fwd: model.forward:   0.03h\n",
      "20:01 madminer.utils.ml.tr INFO                 fwd: calculate losses:   0.01h\n",
      "20:01 madminer.utils.ml.tr INFO                 training forward pass:   0.03h\n",
      "20:01 madminer.utils.ml.tr INFO                   training sum losses:   0.00h\n",
      "20:01 madminer.utils.ml.tr INFO                        opt: zero grad:   0.00h\n",
      "20:01 madminer.utils.ml.tr INFO                         opt: backward:   0.02h\n",
      "20:01 madminer.utils.ml.tr INFO                   opt: clip grad norm:   0.00h\n",
      "20:01 madminer.utils.ml.tr INFO                             opt: step:   0.01h\n",
      "20:01 madminer.utils.ml.tr INFO                        optimizer step:   0.03h\n",
      "20:01 madminer.utils.ml.tr INFO                 load validation batch:   0.01h\n",
      "20:01 madminer.utils.ml.tr INFO               validation forward pass:   0.01h\n",
      "20:01 madminer.utils.ml.tr INFO                 validation sum losses:   0.00h\n",
      "20:01 madminer.utils.ml.tr INFO                        early stopping:   0.00h\n",
      "20:01 madminer.utils.ml.tr INFO                          report epoch:   0.00h\n",
      "20:01 madminer.ml.base     INFO    Saving model to /data_CMS/cms/cortinovis/smeftsim/models_sme_hw_hbox/alices\n"
     ]
    }
   ],
   "source": [
    "estimator.train(\n",
    "    method='alices',\n",
    "    theta='/data_CMS/cms/cortinovis/smeftsim/data_sme_hw_hbox/samples/theta0_train_ratio.npy',\n",
    "    x='/data_CMS/cms/cortinovis/smeftsim/data_sme_hw_hbox/samples/x_train_ratio.npy',\n",
    "    y='/data_CMS/cms/cortinovis/smeftsim/data_sme_hw_hbox/samples/y_train_ratio.npy',\n",
    "    r_xz='/data_CMS/cms/cortinovis/smeftsim/data_sme_hw_hbox/samples/r_xz_train_ratio.npy',\n",
    "    t_xz='/data_CMS/cms/cortinovis/smeftsim/data_sme_hw_hbox/samples/t_xz_train_ratio.npy',\n",
    "    alpha=10,\n",
    "    n_epochs=10,\n",
    "    scale_parameters=True,\n",
    ")\n",
    "\n",
    "estimator.save('/data_CMS/cms/cortinovis/smeftsim/models_sme_hw_hbox/alices')"
   ]
  },
  {
   "cell_type": "markdown",
   "metadata": {},
   "source": [
    "Let's for fun also train a model that only used `pt_j1` as input observable, which can be specified using the option `features` when defining the `ParameterizedRatioEstimator`"
   ]
  },
  {
   "cell_type": "code",
   "execution_count": 147,
   "metadata": {},
   "outputs": [
    {
     "data": {
      "text/plain": [
       "'estimator_pt = ParameterizedRatioEstimator(\\n    n_hidden=(40,40),\\n    activation=\"tanh\",\\n    features=[0],\\n)\\n\\nestimator_pt.train(\\n    method=\\'alices\\',\\n    theta=\\'data_dim6/samples/theta0_train_ratio.npy\\',\\n    x=\\'data_dim6/samples/x_train_ratio.npy\\',\\n    y=\\'data_dim6/samples/y_train_ratio.npy\\',\\n    r_xz=\\'data_dim6/samples/r_xz_train_ratio.npy\\',\\n    t_xz=\\'data_dim6/samples/t_xz_train_ratio.npy\\',\\n    alpha=8,\\n    n_epochs=10,\\n    scale_parameters=True,\\n)\\n\\nestimator_pt.save(\\'models_dim6/alices_pt\\')'"
      ]
     },
     "execution_count": 147,
     "metadata": {},
     "output_type": "execute_result"
    }
   ],
   "source": [
    "'''estimator_pt = ParameterizedRatioEstimator(\n",
    "    n_hidden=(40,40),\n",
    "    activation=\"tanh\",\n",
    "    features=[0],\n",
    ")\n",
    "\n",
    "estimator_pt.train(\n",
    "    method='alices',\n",
    "    theta='data_dim6/samples/theta0_train_ratio.npy',\n",
    "    x='data_dim6/samples/x_train_ratio.npy',\n",
    "    y='data_dim6/samples/y_train_ratio.npy',\n",
    "    r_xz='data_dim6/samples/r_xz_train_ratio.npy',\n",
    "    t_xz='data_dim6/samples/t_xz_train_ratio.npy',\n",
    "    alpha=8,\n",
    "    n_epochs=10,\n",
    "    scale_parameters=True,\n",
    ")\n",
    "\n",
    "estimator_pt.save('models_dim6/alices_pt')'''"
   ]
  },
  {
   "cell_type": "markdown",
   "metadata": {},
   "source": [
    "## 4. Evaluate likelihood ratio estimator"
   ]
  },
  {
   "cell_type": "markdown",
   "metadata": {},
   "source": [
    "`estimator.evaluate_log_likelihood_ratio(theta,x)` estimated the log likelihood ratio and the score for all combination between the given phase-space points `x` and parameters `theta`. That is, if given 100 events `x` and a grid of 25 `theta` points, it will return 25\\*100 estimates for the log likelihood ratio and 25\\*100 estimates for the score, both indexed by `[i_theta,i_x]`."
   ]
  },
  {
   "cell_type": "code",
   "execution_count": 39,
   "metadata": {},
   "outputs": [],
   "source": [
    "#theta_each = np.linspace(-3,3,25)\n",
    "#theta_each = np.linspace(-1,1,25)\n",
    "\n",
    "theta0_each = np.linspace(-0.3,0.3,25)\n",
    "theta1_each = np.linspace(-1,1,25)\n",
    "\n",
    "theta0, theta1 = np.meshgrid(theta0_each, theta1_each)\n",
    "theta_grid = np.vstack((theta0.flatten(), theta1.flatten())).T\n",
    "np.save('/data_CMS/cms/cortinovis/smeftsim/data_sme_hw_hbox/samples/theta_grid.npy', theta_grid)\n",
    "\n",
    "theta_denom = np.array([[0.,0.]])\n",
    "np.save('/data_CMS/cms/cortinovis/smeftsim/data_sme_hw_hbox/samples/theta_ref.npy', theta_denom)\n"
   ]
  },
  {
   "cell_type": "code",
   "execution_count": 40,
   "metadata": {},
   "outputs": [
    {
     "name": "stderr",
     "output_type": "stream",
     "text": [
      "20:01 madminer.ml.base     INFO    Loading model from /data_CMS/cms/cortinovis/smeftsim/models_sme_hw_hbox/alices\n",
      "20:01 madminer.utils.vario INFO      Loading /data_CMS/cms/cortinovis/smeftsim/data_sme_hw_hbox/samples/x_test.npy into RAM\n",
      "20:01 madminer.utils.vario INFO      Loading /data_CMS/cms/cortinovis/smeftsim/data_sme_hw_hbox/samples/theta_grid.npy into RAM\n"
     ]
    }
   ],
   "source": [
    "estimator.load('/data_CMS/cms/cortinovis/smeftsim/models_sme_hw_hbox/alices')\n",
    "\n",
    "log_r_hat, _ = estimator.evaluate_log_likelihood_ratio(\n",
    "    theta='/data_CMS/cms/cortinovis/smeftsim/data_sme_hw_hbox/samples/theta_grid.npy',\n",
    "    x='/data_CMS/cms/cortinovis/smeftsim/data_sme_hw_hbox/samples/x_test.npy',\n",
    "    evaluate_score=False\n",
    ")"
   ]
  },
  {
   "cell_type": "markdown",
   "metadata": {},
   "source": [
    "Let's look at the result:"
   ]
  },
  {
   "cell_type": "code",
   "execution_count": 41,
   "metadata": {},
   "outputs": [
    {
     "data": {
      "image/png": "[encoded data removed]",
      "text/plain": [
       "<Figure size 432x360 with 2 Axes>"
      ]
     },
     "metadata": {
      "needs_background": "light"
     },
     "output_type": "display_data"
    }
   ],
   "source": [
    "bin0_size = theta0_each[1] - theta0_each[0]\n",
    "bin1_size = theta1_each[1] - theta1_each[0]\n",
    "edges0 = np.linspace(theta0_each[0] - bin0_size/2, theta0_each[-1] + bin0_size/2, len(theta0_each)+1)\n",
    "edges1 = np.linspace(theta1_each[0] - bin1_size/2, theta1_each[-1] + bin1_size/2, len(theta1_each)+1)\n",
    "\n",
    "fig = plt.figure(figsize=(6,5))\n",
    "ax = plt.gca()\n",
    "\n",
    "expected_llr = np.mean(log_r_hat,axis=1)\n",
    "best_fit = theta_grid[np.argmin(-2.*expected_llr)]\n",
    "\n",
    "cmin, cmax = np.min(-2*expected_llr), np.max(-2*expected_llr)\n",
    "    \n",
    "pcm = ax.pcolormesh(edges0, edges1, -2. * expected_llr.reshape((25,25)),\n",
    "                    norm=matplotlib.colors.Normalize(vmin=cmin, vmax=cmax),\n",
    "                    cmap='viridis_r')\n",
    "cbar = fig.colorbar(pcm, ax=ax, extend='both')\n",
    "\n",
    "plt.scatter(best_fit[0], best_fit[1], s=80., color='black', marker='*')\n",
    "\n",
    "plt.xlabel(r'$\\theta_0$')\n",
    "plt.ylabel(r'$\\theta_1$')\n",
    "cbar.set_label(r'$\\mathbb{E}_x [ -2\\, \\log \\,\\hat{r}(x | \\theta, \\theta_{SM}) ]$')\n",
    "\n",
    "plt.tight_layout()\n",
    "plt.show()\n"
   ]
  },
  {
   "cell_type": "markdown",
   "metadata": {},
   "source": [
    "###### Note that in this tutorial our sample size was very small, and the network might not really have a chance to converge to the correct likelihood ratio function. So don't worry if you find a minimum that is not at the right point (the SM, i.e. the origin in this plot). Feel free to dial up the event numbers in the run card as well as the training samples and see what happens then!"
   ]
  },
  {
   "cell_type": "code",
   "execution_count": null,
   "metadata": {},
   "outputs": [],
   "source": []
  }
 ],
 "metadata": {
  "kernelspec": {
   "display_name": "Python 3",
   "language": "python",
   "name": "python3"
  },
  "language_info": {
   "codemirror_mode": {
    "name": "ipython",
    "version": 3
   },
   "file_extension": ".py",
   "mimetype": "text/x-python",
   "name": "python",
   "nbconvert_exporter": "python",
   "pygments_lexer": "ipython3",
   "version": "3.7.0"
  }
 },
 "nbformat": 4,
 "nbformat_minor": 2
}
