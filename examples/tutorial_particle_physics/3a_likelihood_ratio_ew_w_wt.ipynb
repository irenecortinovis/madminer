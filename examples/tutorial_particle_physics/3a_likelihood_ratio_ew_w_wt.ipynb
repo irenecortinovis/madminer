{
 "cells": [
  {
   "cell_type": "markdown",
   "metadata": {},
   "source": [
    "# MadMiner particle physics tutorial\n",
    "\n",
    "# Part 3a: Training a likelihood ratio estimator\n",
    "\n",
    "Johann Brehmer, Felix Kling, Irina Espejo, and Kyle Cranmer 2018-2019"
   ]
  },
  {
   "cell_type": "markdown",
   "metadata": {},
   "source": [
    "In part 3a of this tutorial we will finally train a neural network to estimate likelihood ratios. We assume that you have run part 1 and 2a of this tutorial. If, instead of 2a, you have run part 2b, you just have to load a different filename later."
   ]
  },
  {
   "cell_type": "markdown",
   "metadata": {},
   "source": [
    "## Preparations"
   ]
  },
  {
   "cell_type": "code",
   "execution_count": 3,
   "metadata": {},
   "outputs": [],
   "source": [
    "from __future__ import absolute_import, division, print_function, unicode_literals\n",
    "\n",
    "\n",
    "import logging\n",
    "import numpy as np\n",
    "import matplotlib\n",
    "from matplotlib import pyplot as plt\n",
    "%matplotlib inline\n",
    "\n",
    "from madminer.sampling import SampleAugmenter\n",
    "from madminer import sampling\n",
    "from madminer.ml import ParameterizedRatioEstimator\n",
    "\n"
   ]
  },
  {
   "cell_type": "code",
   "execution_count": 4,
   "metadata": {},
   "outputs": [],
   "source": [
    "# MadMiner output\n",
    "logging.basicConfig(\n",
    "    format='%(asctime)-5.5s %(name)-20.20s %(levelname)-7.7s %(message)s',\n",
    "    datefmt='%H:%M',\n",
    "    level=logging.INFO\n",
    ")\n",
    "\n",
    "# Output of all other modules (e.g. matplotlib)\n",
    "for key in logging.Logger.manager.loggerDict:\n",
    "    if \"madminer\" not in key:\n",
    "        logging.getLogger(key).setLevel(logging.WARNING)"
   ]
  },
  {
   "cell_type": "markdown",
   "metadata": {},
   "source": [
    "## 1. Make (unweighted) training and test samples with augmented data"
   ]
  },
  {
   "cell_type": "markdown",
   "metadata": {},
   "source": [
    "At this point, we have all the information we need from the simulations. But the data is not quite ready to be used for machine learning. The `madminer.sampling` class `SampleAugmenter` will take care of the remaining book-keeping steps before we can train our estimators:\n",
    "\n",
    "First, it unweights the samples, i.e. for a given parameter vector `theta` (or a distribution `p(theta)`) it picks events `x` such that their distribution follows `p(x|theta)`. The selected samples will all come from the event file we have so far, but their frequency is changed -- some events will appear multiple times, some will disappear.\n",
    "\n",
    "Second, `SampleAugmenter` calculates all the augmented data (\"gold\") that is the key to our new inference methods. Depending on the specific technique, these are the joint likelihood ratio and / or the joint score. It saves all these pieces of information for the selected events in a set of numpy files that can easily be used in any machine learning framework."
   ]
  },
  {
   "cell_type": "code",
   "execution_count": 5,
   "metadata": {},
   "outputs": [
    {
     "name": "stderr",
     "output_type": "stream",
     "text": [
      "14:29 madminer.analysis.da INFO    Loading data from /data_CMS/cms/cortinovis/ewdim6/data_ew_1M/delphes_data_shuffled_mjj.h5\n",
      "14:29 madminer.analysis.da INFO    Found 2 parameters\n",
      "14:29 madminer.analysis.da INFO    Did not find nuisance parameters\n",
      "14:29 madminer.analysis.da INFO    Found 6 benchmarks, of which 6 physical\n",
      "14:29 madminer.analysis.da INFO    Found 18 observables\n",
      "14:29 madminer.analysis.da INFO    Found 89478 events\n",
      "14:29 madminer.analysis.da INFO      34023 signal events sampled from benchmark sm\n",
      "14:29 madminer.analysis.da INFO      17352 signal events sampled from benchmark w\n",
      "14:29 madminer.analysis.da INFO      16155 signal events sampled from benchmark neg_w\n",
      "14:29 madminer.analysis.da INFO      10831 signal events sampled from benchmark ww\n",
      "14:29 madminer.analysis.da INFO      11117 signal events sampled from benchmark neg_ww\n",
      "14:29 madminer.analysis.da INFO    Found morphing setup with 6 components\n",
      "14:29 madminer.analysis.da INFO    Did not find nuisance morphing setup\n"
     ]
    }
   ],
   "source": [
    "# sampler = SampleAugmenter('data/lhe_data_shuffled.h5')\n",
    "sampler = SampleAugmenter('ewdim6/data_ew_1M/delphes_data_shuffled.h5')"
   ]
  },
  {
   "cell_type": "markdown",
   "metadata": {},
   "source": [
    "The `SampleAugmenter` class defines five different high-level functions to generate train or test samples:\n",
    "- `sample_train_plain()`, which only saves observations x, for instance for histograms or ABC;\n",
    "- `sample_train_local()` for methods like SALLY and SALLINO, which will be demonstrated in the second part of the tutorial;\n",
    "- `sample_train_density()` for neural density estimation techniques like MAF or SCANDAL;\n",
    "- `sample_train_ratio()` for techniques like CARL, ROLR, CASCAL, and RASCAL, when only theta0 is parameterized;\n",
    "- `sample_train_more_ratios()` for the same techniques, but with both theta0 and theta1 parameterized;\n",
    "- `sample_test()` for the evaluation of any method.\n",
    "\n",
    "For the arguments `theta`, `theta0`, or `theta1`, you can (and should!) use the helper functions `benchmark()`, `benchmarks()`, `morphing_point()`, `morphing_points()`, and `random_morphing_points()`, all defined in the `madminer.sampling` module.\n",
    "\n",
    "Here we'll train a likelihood ratio estimator with the ALICES method, so we focus on the `extract_samples_train_ratio()` function. We'll sample the numerator hypothesis in the likelihood ratio with 1000 points drawn from a Gaussian prior, and fix the denominator hypothesis to the SM.\n",
    "\n",
    "Note the keyword `sample_only_from_closest_benchmark=True`, which makes sure that for each parameter point we only use the events that were originally (in MG) generated from the closest benchmark. This reduces the statistical fluctuations in the outcome quite a bit."
   ]
  },
  {
   "cell_type": "code",
   "execution_count": 6,
   "metadata": {},
   "outputs": [
    {
     "name": "stderr",
     "output_type": "stream",
     "text": [
      "14:29 madminer.sampling.sa INFO    Extracting training sample for ratio-based methods. Numerator hypothesis: 1000 random morphing points, drawn from the following priors:\n",
      "  theta_0 ~ Gaussian with mean 0.0 and std 0.5\n",
      "  theta_1 ~ Gaussian with mean 0.0 and std 0.5, denominator hypothesis: sm\n",
      "14:29 madminer.sampling.sa INFO    Starting sampling serially\n",
      "14:29 madminer.sampling.sa WARNING Large statistical uncertainty on the total cross section when sampling from theta = [0.02129802 0.66061425]: (0.000004 +/- 0.000002) pb (50.26207829320891 %). Skipping these warnings in the future...\n",
      "14:29 madminer.sampling.sa INFO    Sampling from parameter point 50 / 1000\n",
      "14:29 madminer.sampling.sa INFO    Sampling from parameter point 100 / 1000\n",
      "14:30 madminer.sampling.sa INFO    Sampling from parameter point 150 / 1000\n",
      "14:30 madminer.sampling.sa INFO    Sampling from parameter point 200 / 1000\n"
     ]
    },
    {
     "ename": "KeyboardInterrupt",
     "evalue": "",
     "output_type": "error",
     "traceback": [
      "\u001b[0;31m---------------------------------------------------------------------------\u001b[0m",
      "\u001b[0;31mKeyboardInterrupt\u001b[0m                         Traceback (most recent call last)",
      "\u001b[0;32m<ipython-input-6-a1c7aad0b570>\u001b[0m in \u001b[0;36m<module>\u001b[0;34m\u001b[0m\n\u001b[1;32m      7\u001b[0m     \u001b[0mfilename\u001b[0m\u001b[0;34m=\u001b[0m\u001b[0;34m'train_ratio'\u001b[0m\u001b[0;34m,\u001b[0m\u001b[0;34m\u001b[0m\u001b[0m\n\u001b[1;32m      8\u001b[0m     \u001b[0msample_only_from_closest_benchmark\u001b[0m\u001b[0;34m=\u001b[0m\u001b[0;32mTrue\u001b[0m\u001b[0;34m,\u001b[0m\u001b[0;34m\u001b[0m\u001b[0m\n\u001b[0;32m----> 9\u001b[0;31m     \u001b[0mreturn_individual_n_effective\u001b[0m\u001b[0;34m=\u001b[0m\u001b[0;32mTrue\u001b[0m\u001b[0;34m,\u001b[0m\u001b[0;34m\u001b[0m\u001b[0m\n\u001b[0m\u001b[1;32m     10\u001b[0m )\n",
      "\u001b[0;32m/grid_mnt/vol__vol_U__u/llr/cms/cortinovis/miner/madminer/madminer/sampling/sampleaugmenter.py\u001b[0m in \u001b[0;36msample_train_ratio\u001b[0;34m(self, theta0, theta1, n_samples, nu0, nu1, sample_only_from_closest_benchmark, folder, filename, nuisance_score, test_split, validation_split, partition, n_processes, return_individual_n_effective, n_eff_forced, double_precision)\u001b[0m\n\u001b[1;32m    625\u001b[0m                 \u001b[0msample_only_from_closest_benchmark\u001b[0m\u001b[0;34m=\u001b[0m\u001b[0msample_only_from_closest_benchmark\u001b[0m\u001b[0;34m,\u001b[0m\u001b[0;34m\u001b[0m\u001b[0m\n\u001b[1;32m    626\u001b[0m                 \u001b[0mn_eff_forced\u001b[0m\u001b[0;34m=\u001b[0m\u001b[0mn_eff_forced\u001b[0m\u001b[0;34m,\u001b[0m\u001b[0;34m\u001b[0m\u001b[0m\n\u001b[0;32m--> 627\u001b[0;31m                 \u001b[0mdouble_precision\u001b[0m\u001b[0;34m=\u001b[0m\u001b[0mdouble_precision\u001b[0m\u001b[0;34m,\u001b[0m\u001b[0;34m\u001b[0m\u001b[0m\n\u001b[0m\u001b[1;32m    628\u001b[0m             )\n\u001b[1;32m    629\u001b[0m \u001b[0;34m\u001b[0m\u001b[0m\n",
      "\u001b[0;32m/grid_mnt/vol__vol_U__u/llr/cms/cortinovis/miner/madminer/madminer/sampling/sampleaugmenter.py\u001b[0m in \u001b[0;36m_sample\u001b[0;34m(self, sets, n_samples_per_set, sampling_index, sample_only_from_closest_benchmark, augmented_data_definitions, nuisance_score, partition, test_split, validation_split, verbose, n_processes, update_patience, force_update_patience, n_eff_forced, double_precision)\u001b[0m\n\u001b[1;32m   1395\u001b[0m                     \u001b[0msample_only_from_closest_benchmark\u001b[0m\u001b[0;34m=\u001b[0m\u001b[0msample_only_from_closest_benchmark\u001b[0m\u001b[0;34m,\u001b[0m\u001b[0;34m\u001b[0m\u001b[0m\n\u001b[1;32m   1396\u001b[0m                     \u001b[0mn_eff_forced\u001b[0m\u001b[0;34m=\u001b[0m\u001b[0mn_eff_forced\u001b[0m\u001b[0;34m,\u001b[0m\u001b[0;34m\u001b[0m\u001b[0m\n\u001b[0;32m-> 1397\u001b[0;31m                     \u001b[0mdouble_precision\u001b[0m\u001b[0;34m=\u001b[0m\u001b[0mdouble_precision\u001b[0m\u001b[0;34m,\u001b[0m\u001b[0;34m\u001b[0m\u001b[0m\n\u001b[0m\u001b[1;32m   1398\u001b[0m                 )\n\u001b[1;32m   1399\u001b[0m \u001b[0;34m\u001b[0m\u001b[0m\n",
      "\u001b[0;32m/grid_mnt/vol__vol_U__u/llr/cms/cortinovis/miner/madminer/madminer/sampling/sampleaugmenter.py\u001b[0m in \u001b[0;36m_sample_set\u001b[0;34m(self, set_, n_samples, sample_only_from_closest_benchmark, augmented_data_definitions, sampling_index, needs_gradients, nuisance_score, partition, test_split, validation_split, n_stats_warnings, n_neg_weights_warnings, n_too_large_weights_warnings, n_eff_forced, double_precision)\u001b[0m\n\u001b[1;32m   1504\u001b[0m             \u001b[0mtest_split\u001b[0m\u001b[0;34m=\u001b[0m\u001b[0mtest_split\u001b[0m\u001b[0;34m,\u001b[0m\u001b[0;34m\u001b[0m\u001b[0m\n\u001b[1;32m   1505\u001b[0m             \u001b[0mvalidation_split\u001b[0m\u001b[0;34m=\u001b[0m\u001b[0mvalidation_split\u001b[0m\u001b[0;34m,\u001b[0m\u001b[0;34m\u001b[0m\u001b[0m\n\u001b[0;32m-> 1506\u001b[0;31m             \u001b[0mgenerated_close_to\u001b[0m\u001b[0;34m=\u001b[0m\u001b[0;32mNone\u001b[0m \u001b[0;32mif\u001b[0m \u001b[0;32mnot\u001b[0m \u001b[0msample_only_from_closest_benchmark\u001b[0m \u001b[0;32melse\u001b[0m \u001b[0mtheta_value_sampling\u001b[0m\u001b[0;34m,\u001b[0m\u001b[0;34m\u001b[0m\u001b[0m\n\u001b[0m\u001b[1;32m   1507\u001b[0m         )\n\u001b[1;32m   1508\u001b[0m         \u001b[0;32mif\u001b[0m \u001b[0mneeds_gradients\u001b[0m\u001b[0;34m:\u001b[0m\u001b[0;34m\u001b[0m\u001b[0m\n",
      "\u001b[0;32m/grid_mnt/vol__vol_U__u/llr/cms/cortinovis/miner/madminer/madminer/analysis/dataanalyzer.py\u001b[0m in \u001b[0;36mxsecs\u001b[0;34m(self, thetas, nus, partition, test_split, validation_split, include_nuisance_benchmarks, batch_size, generated_close_to)\u001b[0m\n\u001b[1;32m    332\u001b[0m                 \u001b[0minclude_nuisance_parameters\u001b[0m\u001b[0;34m=\u001b[0m\u001b[0minclude_nuisance_benchmarks\u001b[0m\u001b[0;34m,\u001b[0m\u001b[0;34m\u001b[0m\u001b[0m\n\u001b[1;32m    333\u001b[0m                 \u001b[0mbatch_size\u001b[0m\u001b[0;34m=\u001b[0m\u001b[0mbatch_size\u001b[0m\u001b[0;34m,\u001b[0m\u001b[0;34m\u001b[0m\u001b[0m\n\u001b[0;32m--> 334\u001b[0;31m                 \u001b[0mgenerated_close_to\u001b[0m\u001b[0;34m=\u001b[0m\u001b[0mgenerated_close_to\u001b[0m\u001b[0;34m,\u001b[0m\u001b[0;34m\u001b[0m\u001b[0m\n\u001b[0m\u001b[1;32m    335\u001b[0m             )\n\u001b[1;32m    336\u001b[0m         ):\n",
      "\u001b[0;32m/grid_mnt/vol__vol_U__u/llr/cms/cortinovis/miner/madminer/madminer/analysis/dataanalyzer.py\u001b[0m in \u001b[0;36mevent_loader\u001b[0;34m(self, start, end, batch_size, include_nuisance_parameters, generated_close_to, return_sampling_ids)\u001b[0m\n\u001b[1;32m    149\u001b[0m             \u001b[0msampling_benchmark\u001b[0m\u001b[0;34m=\u001b[0m\u001b[0msampling_benchmark\u001b[0m\u001b[0;34m,\u001b[0m\u001b[0;34m\u001b[0m\u001b[0m\n\u001b[1;32m    150\u001b[0m             \u001b[0msampling_factors\u001b[0m\u001b[0;34m=\u001b[0m\u001b[0msampling_factors\u001b[0m\u001b[0;34m,\u001b[0m\u001b[0;34m\u001b[0m\u001b[0m\n\u001b[0;32m--> 151\u001b[0;31m             \u001b[0mreturn_sampling_ids\u001b[0m\u001b[0;34m=\u001b[0m\u001b[0mreturn_sampling_ids\u001b[0m\u001b[0;34m,\u001b[0m\u001b[0;34m\u001b[0m\u001b[0m\n\u001b[0m\u001b[1;32m    152\u001b[0m         ):\n\u001b[1;32m    153\u001b[0m             \u001b[0;32myield\u001b[0m \u001b[0mdata\u001b[0m\u001b[0;34m\u001b[0m\u001b[0m\n",
      "\u001b[0;32m/grid_mnt/vol__vol_U__u/llr/cms/cortinovis/miner/madminer/madminer/utils/interfaces/madminer_hdf5.py\u001b[0m in \u001b[0;36mmadminer_event_loader\u001b[0;34m(filename, start, end, batch_size, include_nuisance_parameters, benchmark_is_nuisance, sampling_benchmark, sampling_factors, return_sampling_ids)\u001b[0m\n\u001b[1;32m    228\u001b[0m             \u001b[0mthis_end\u001b[0m \u001b[0;34m=\u001b[0m \u001b[0mmin\u001b[0m\u001b[0;34m(\u001b[0m\u001b[0mcurrent\u001b[0m \u001b[0;34m+\u001b[0m \u001b[0mbatch_size\u001b[0m\u001b[0;34m,\u001b[0m \u001b[0mend\u001b[0m\u001b[0;34m)\u001b[0m\u001b[0;34m\u001b[0m\u001b[0m\n\u001b[1;32m    229\u001b[0m \u001b[0;34m\u001b[0m\u001b[0m\n\u001b[0;32m--> 230\u001b[0;31m             \u001b[0mthis_observations\u001b[0m \u001b[0;34m=\u001b[0m \u001b[0mnp\u001b[0m\u001b[0;34m.\u001b[0m\u001b[0marray\u001b[0m\u001b[0;34m(\u001b[0m\u001b[0mobservations\u001b[0m\u001b[0;34m[\u001b[0m\u001b[0mcurrent\u001b[0m\u001b[0;34m:\u001b[0m\u001b[0mthis_end\u001b[0m\u001b[0;34m]\u001b[0m\u001b[0;34m)\u001b[0m\u001b[0;34m\u001b[0m\u001b[0m\n\u001b[0m\u001b[1;32m    231\u001b[0m             \u001b[0;32mif\u001b[0m \u001b[0minclude_nuisance_parameters\u001b[0m\u001b[0;34m:\u001b[0m\u001b[0;34m\u001b[0m\u001b[0m\n\u001b[1;32m    232\u001b[0m                 \u001b[0mthis_weights\u001b[0m \u001b[0;34m=\u001b[0m \u001b[0mnp\u001b[0m\u001b[0;34m.\u001b[0m\u001b[0marray\u001b[0m\u001b[0;34m(\u001b[0m\u001b[0mweights\u001b[0m\u001b[0;34m[\u001b[0m\u001b[0mcurrent\u001b[0m\u001b[0;34m:\u001b[0m\u001b[0mthis_end\u001b[0m\u001b[0;34m]\u001b[0m\u001b[0;34m)\u001b[0m\u001b[0;34m\u001b[0m\u001b[0m\n",
      "\u001b[0;32mh5py/_objects.pyx\u001b[0m in \u001b[0;36mh5py._objects.with_phil.wrapper\u001b[0;34m()\u001b[0m\n",
      "\u001b[0;32mh5py/_objects.pyx\u001b[0m in \u001b[0;36mh5py._objects.with_phil.wrapper\u001b[0;34m()\u001b[0m\n",
      "\u001b[0;32m/opt/exp_soft/llr/python/3.7.0/el7/lib/python3.7/site-packages/h5py/_hl/dataset.py\u001b[0m in \u001b[0;36m__getitem__\u001b[0;34m(self, args)\u001b[0m\n\u001b[1;32m    571\u001b[0m         \u001b[0mmspace\u001b[0m \u001b[0;34m=\u001b[0m \u001b[0mh5s\u001b[0m\u001b[0;34m.\u001b[0m\u001b[0mcreate_simple\u001b[0m\u001b[0;34m(\u001b[0m\u001b[0mmshape\u001b[0m\u001b[0;34m)\u001b[0m\u001b[0;34m\u001b[0m\u001b[0m\n\u001b[1;32m    572\u001b[0m         \u001b[0mfspace\u001b[0m \u001b[0;34m=\u001b[0m \u001b[0mselection\u001b[0m\u001b[0;34m.\u001b[0m\u001b[0mid\u001b[0m\u001b[0;34m\u001b[0m\u001b[0m\n\u001b[0;32m--> 573\u001b[0;31m         \u001b[0mself\u001b[0m\u001b[0;34m.\u001b[0m\u001b[0mid\u001b[0m\u001b[0;34m.\u001b[0m\u001b[0mread\u001b[0m\u001b[0;34m(\u001b[0m\u001b[0mmspace\u001b[0m\u001b[0;34m,\u001b[0m \u001b[0mfspace\u001b[0m\u001b[0;34m,\u001b[0m \u001b[0marr\u001b[0m\u001b[0;34m,\u001b[0m \u001b[0mmtype\u001b[0m\u001b[0;34m,\u001b[0m \u001b[0mdxpl\u001b[0m\u001b[0;34m=\u001b[0m\u001b[0mself\u001b[0m\u001b[0;34m.\u001b[0m\u001b[0m_dxpl\u001b[0m\u001b[0;34m)\u001b[0m\u001b[0;34m\u001b[0m\u001b[0m\n\u001b[0m\u001b[1;32m    574\u001b[0m \u001b[0;34m\u001b[0m\u001b[0m\n\u001b[1;32m    575\u001b[0m         \u001b[0;31m# Patch up the output for NumPy\u001b[0m\u001b[0;34m\u001b[0m\u001b[0;34m\u001b[0m\u001b[0m\n",
      "\u001b[0;31mKeyboardInterrupt\u001b[0m: "
     ]
    }
   ],
   "source": [
    "x, theta0, theta1, y, r_xz, t_xz, n_effective = sampler.sample_train_ratio(\n",
    "    #theta0=sampling.random_morphing_points(1000, [('gaussian', 0., 5), ('gaussian', 0., 5)]),\n",
    "    theta0=sampling.random_morphing_points(1000, [('gaussian', 0., 0.5), ('gaussian', 0., 0.5)]),\n",
    "    theta1=sampling.benchmark('sm'),\n",
    "    n_samples=500000,\n",
    "    folder='./ewdim6/data_ew_1M/samples',\n",
    "    filename='train_ratio',\n",
    "    sample_only_from_closest_benchmark=True,\n",
    "    return_individual_n_effective=True,\n",
    ")"
   ]
  },
  {
   "cell_type": "markdown",
   "metadata": {},
   "source": [
    "For the evaluation we'll need a test sample:"
   ]
  },
  {
   "cell_type": "code",
   "execution_count": null,
   "metadata": {
    "scrolled": true
   },
   "outputs": [],
   "source": [
    "_ = sampler.sample_test(\n",
    "    theta=sampling.benchmark('sm'),\n",
    "    n_samples=1000,\n",
    "    folder='./ewdim6/data_ew_1M/samples',\n",
    "    filename='test'\n",
    ")"
   ]
  },
  {
   "cell_type": "code",
   "execution_count": null,
   "metadata": {},
   "outputs": [],
   "source": [
    "_,_,neff=sampler.sample_train_plain(\n",
    "    theta=sampling.morphing_point([0,0.5]),\n",
    "    n_samples=10000,\n",
    ")"
   ]
  },
  {
   "cell_type": "markdown",
   "metadata": {},
   "source": [
    "You might notice the information about the \"eeffective number of samples\" in the output. This is defined as `1 / max_events(weights)`; the smaller it is, the bigger the statistical fluctuations from too large weights. Let's plot this over the parameter space:"
   ]
  },
  {
   "cell_type": "code",
   "execution_count": null,
   "metadata": {},
   "outputs": [],
   "source": [
    "cmin, cmax = 10., 10000.\n",
    "\n",
    "cut = (y.flatten()==0)\n",
    "\n",
    "fig = plt.figure(figsize=(5,4))\n",
    "\n",
    "sc = plt.scatter(theta0[cut][:,0], theta0[cut][:,1], c=n_effective[cut],\n",
    "                 s=30., cmap='viridis',\n",
    "                 norm=matplotlib.colors.LogNorm(vmin=cmin, vmax=cmax),\n",
    "                 marker='o')\n",
    "\n",
    "cb = plt.colorbar(sc)\n",
    "cb.set_label('Effective number of samples')\n",
    "\n",
    "plt.xlim(-1.0,1.0)\n",
    "plt.ylim(-1.0,1.0)\n",
    "plt.tight_layout()\n",
    "plt.show()"
   ]
  },
  {
   "cell_type": "markdown",
   "metadata": {},
   "source": [
    "## 2. Plot cross section over parameter space"
   ]
  },
  {
   "cell_type": "markdown",
   "metadata": {},
   "source": [
    "This is not strictly necessary, but we can also plot the cross section as a function of parameter space:"
   ]
  },
  {
   "cell_type": "code",
   "execution_count": null,
   "metadata": {},
   "outputs": [],
   "source": [
    "thetas_benchmarks, xsecs_benchmarks, xsec_errors_benchmarks = sampler.cross_sections(\n",
    "    theta=sampling.benchmarks(list(sampler.benchmarks.keys()))\n",
    ")\n",
    "\n",
    "thetas_morphing, xsecs_morphing, xsec_errors_morphing = sampler.cross_sections(\n",
    "    #theta=sampling.random_morphing_points(1000, [('gaussian', 0., 5), ('gaussian', 0., 5)])\n",
    "    theta=sampling.random_morphing_points(1000, [('gaussian', 0., 0.5), ('gaussian', 0., 0.5)])\n",
    ")"
   ]
  },
  {
   "cell_type": "code",
   "execution_count": null,
   "metadata": {},
   "outputs": [],
   "source": [
    "cmin, cmax = 0., 2.5 * np.mean(xsecs_morphing)\n",
    "\n",
    "fig = plt.figure(figsize=(5,4))\n",
    "\n",
    "sc = plt.scatter(thetas_morphing[:,0], thetas_morphing[:,1], c=xsecs_morphing,\n",
    "            s=40., cmap='viridis', vmin=cmin, vmax=cmax,\n",
    "            marker='o')\n",
    "\n",
    "plt.scatter(thetas_benchmarks[:,0], thetas_benchmarks[:,1], c=xsecs_benchmarks,\n",
    "            s=200., cmap='viridis', vmin=cmin, vmax=cmax, lw=2., edgecolor='black',\n",
    "            marker='s')\n",
    "\n",
    "cb = plt.colorbar(sc)\n",
    "cb.set_label('xsec [pb]')\n",
    "\n",
    "plt.xlim(-1.,1.)\n",
    "plt.ylim(-1.,1.)\n",
    "plt.tight_layout()\n",
    "plt.show()"
   ]
  },
  {
   "cell_type": "markdown",
   "metadata": {},
   "source": [
    "What  you see here is a morphing algorithm in action. We only asked MadGraph to calculate event weights (differential cross sections, or basically squared matrix elements) at six fixed parameter points (shown here as squares with black edges). But with our knowledge about the structure of the process we can interpolate any observable to any parameter point without loss (except that statistical uncertainties might increase)!"
   ]
  },
  {
   "cell_type": "markdown",
   "metadata": {},
   "source": [
    "## 3. Train likelihood ratio estimator"
   ]
  },
  {
   "cell_type": "markdown",
   "metadata": {},
   "source": [
    "It's now time to build the neural network that estimates the likelihood ratio. The central object for this is the `madminer.ml.ParameterizedRatioEstimator` class. It defines functions that train, save, load, and evaluate the estimators.\n",
    "\n",
    "In the initialization, the keywords `n_hidden` and `activation` define the architecture of the (fully connected) neural network:"
   ]
  },
  {
   "cell_type": "code",
   "execution_count": null,
   "metadata": {},
   "outputs": [],
   "source": [
    "estimator = ParameterizedRatioEstimator(\n",
    "    n_hidden=(60,60),\n",
    "    activation=\"tanh\",\n",
    ")"
   ]
  },
  {
   "cell_type": "markdown",
   "metadata": {},
   "source": [
    "To train this model we will minimize the ALICES loss function described in [\"Likelihood-free inference with an improved cross-entropy estimator\"](https://arxiv.org/abs/1808.00973). Many alternatives, including RASCAL, are described in [\"Constraining Effective Field Theories With Machine Learning\"](https://arxiv.org/abs/1805.00013) and [\"A Guide to Constraining Effective Field Theories With Machine Learning\"](https://arxiv.org/abs/1805.00020). There is also SCANDAL introduced in [\"Mining gold from implicit models to improve likelihood-free inference\"](https://arxiv.org/abs/1805.12244)."
   ]
  },
  {
   "cell_type": "code",
   "execution_count": 60,
   "metadata": {},
   "outputs": [
    {
     "name": "stderr",
     "output_type": "stream",
     "text": [
      "01:35 madminer.ml.paramete INFO    Starting training\n",
      "01:35 madminer.ml.paramete INFO      Method:                 alices\n",
      "01:35 madminer.ml.paramete INFO      alpha:                  10\n",
      "01:35 madminer.ml.paramete INFO      Batch size:             128\n",
      "01:35 madminer.ml.paramete INFO      Optimizer:              amsgrad\n",
      "01:35 madminer.ml.paramete INFO      Epochs:                 10\n",
      "01:35 madminer.ml.paramete INFO      Learning rate:          0.001 initially, decaying to 0.0001\n",
      "01:35 madminer.ml.paramete INFO      Validation split:       0.25\n",
      "01:35 madminer.ml.paramete INFO      Early stopping:         True\n",
      "01:35 madminer.ml.paramete INFO      Scale inputs:           True\n",
      "01:35 madminer.ml.paramete INFO      Scale parameters:       True\n",
      "01:35 madminer.ml.paramete INFO      Shuffle labels          False\n",
      "01:35 madminer.ml.paramete INFO      Samples:                all\n",
      "01:35 madminer.ml.paramete INFO    Loading training data\n",
      "01:35 madminer.utils.vario INFO      Loading ewdim6/data_ew_1M/samples/theta0_train_ratio.npy into RAM\n",
      "01:35 madminer.utils.vario INFO      Loading ewdim6/data_ew_1M/samples/x_train_ratio.npy into RAM\n",
      "01:35 madminer.utils.vario INFO      Loading ewdim6/data_ew_1M/samples/y_train_ratio.npy into RAM\n",
      "01:35 madminer.utils.vario INFO      Loading ewdim6/data_ew_1M/samples/r_xz_train_ratio.npy into RAM\n",
      "01:35 madminer.utils.vario INFO      Loading ewdim6/data_ew_1M/samples/t_xz_train_ratio.npy into RAM\n",
      "01:35 madminer.ml.paramete INFO    Found 500000 samples with 2 parameters and 12 observables\n",
      "01:35 madminer.ml.base     INFO    Setting up input rescaling\n",
      "01:35 madminer.ml.paramete INFO    Rescaling parameters\n",
      "01:35 madminer.ml.base     INFO    Setting up parameter rescaling\n",
      "01:35 madminer.ml.paramete INFO    Creating model\n",
      "01:35 madminer.ml.paramete INFO    Training model\n",
      "01:35 madminer.utils.ml.tr INFO    Training on CPU with single precision\n",
      "01:36 madminer.utils.ml.tr INFO      Epoch   1: train loss  1.22058 (improved_xe:  0.670, mse_score:  0.055)\n",
      "01:36 madminer.utils.ml.tr INFO                 val. loss   1.08451 (improved_xe:  0.667, mse_score:  0.042)\n",
      "01:37 madminer.utils.ml.tr INFO      Epoch   2: train loss  1.09053 (improved_xe:  0.666, mse_score:  0.042)\n",
      "01:37 madminer.utils.ml.tr INFO                 val. loss   1.05800 (improved_xe:  0.666, mse_score:  0.039)\n",
      "01:38 madminer.utils.ml.tr INFO      Epoch   3: train loss  1.06163 (improved_xe:  0.665, mse_score:  0.040)\n",
      "01:38 madminer.utils.ml.tr INFO                 val. loss   1.04674 (improved_xe:  0.666, mse_score:  0.038)\n",
      "01:40 madminer.utils.ml.tr INFO      Epoch   4: train loss  1.04188 (improved_xe:  0.665, mse_score:  0.038)\n",
      "01:40 madminer.utils.ml.tr INFO                 val. loss   1.03014 (improved_xe:  0.666, mse_score:  0.036)\n",
      "01:41 madminer.utils.ml.tr INFO      Epoch   5: train loss  1.02875 (improved_xe:  0.665, mse_score:  0.036)\n",
      "01:41 madminer.utils.ml.tr INFO                 val. loss   1.01405 (improved_xe:  0.665, mse_score:  0.035)\n",
      "01:42 madminer.utils.ml.tr INFO      Epoch   6: train loss  1.02189 (improved_xe:  0.665, mse_score:  0.036)\n",
      "01:42 madminer.utils.ml.tr INFO                 val. loss   1.00722 (improved_xe:  0.665, mse_score:  0.034)\n",
      "01:43 madminer.utils.ml.tr INFO      Epoch   7: train loss  1.01386 (improved_xe:  0.664, mse_score:  0.035)\n",
      "01:43 madminer.utils.ml.tr INFO                 val. loss   1.00763 (improved_xe:  0.665, mse_score:  0.034)\n",
      "01:44 madminer.utils.ml.tr INFO      Epoch   8: train loss  1.00968 (improved_xe:  0.664, mse_score:  0.035)\n",
      "01:44 madminer.utils.ml.tr INFO                 val. loss   1.00160 (improved_xe:  0.665, mse_score:  0.034)\n",
      "01:45 madminer.utils.ml.tr INFO      Epoch   9: train loss  1.00577 (improved_xe:  0.664, mse_score:  0.034)\n",
      "01:45 madminer.utils.ml.tr INFO                 val. loss   1.00414 (improved_xe:  0.665, mse_score:  0.034)\n",
      "01:46 madminer.utils.ml.tr INFO      Epoch  10: train loss  1.00279 (improved_xe:  0.664, mse_score:  0.034)\n",
      "01:46 madminer.utils.ml.tr INFO                 val. loss   0.99830 (improved_xe:  0.665, mse_score:  0.033)\n",
      "01:46 madminer.utils.ml.tr INFO    Early stopping did not improve performance\n",
      "01:46 madminer.utils.ml.tr INFO    Training time spend on:\n",
      "01:46 madminer.utils.ml.tr INFO                      initialize model:   0.00h\n",
      "01:46 madminer.utils.ml.tr INFO                                   ALL:   0.19h\n",
      "01:46 madminer.utils.ml.tr INFO                            check data:   0.00h\n",
      "01:46 madminer.utils.ml.tr INFO                          make dataset:   0.00h\n",
      "01:46 madminer.utils.ml.tr INFO                       make dataloader:   0.00h\n",
      "01:46 madminer.utils.ml.tr INFO                       setup optimizer:   0.00h\n",
      "01:46 madminer.utils.ml.tr INFO                   initialize training:   0.00h\n",
      "01:46 madminer.utils.ml.tr INFO                                set lr:   0.00h\n",
      "01:46 madminer.utils.ml.tr INFO                   load training batch:   0.04h\n",
      "01:46 madminer.utils.ml.tr INFO                        fwd: move data:   0.00h\n",
      "01:46 madminer.utils.ml.tr INFO                   fwd: check for nans:   0.01h\n",
      "01:46 madminer.utils.ml.tr INFO                    fwd: model.forward:   0.06h\n",
      "01:46 madminer.utils.ml.tr INFO                 fwd: calculate losses:   0.01h\n",
      "01:46 madminer.utils.ml.tr INFO                 training forward pass:   0.05h\n",
      "01:46 madminer.utils.ml.tr INFO                   training sum losses:   0.00h\n",
      "01:46 madminer.utils.ml.tr INFO                        opt: zero grad:   0.00h\n",
      "01:46 madminer.utils.ml.tr INFO                         opt: backward:   0.04h\n",
      "01:46 madminer.utils.ml.tr INFO                   opt: clip grad norm:   0.00h\n",
      "01:46 madminer.utils.ml.tr INFO                             opt: step:   0.01h\n",
      "01:46 madminer.utils.ml.tr INFO                        optimizer step:   0.05h\n",
      "01:46 madminer.utils.ml.tr INFO                 load validation batch:   0.01h\n",
      "01:46 madminer.utils.ml.tr INFO               validation forward pass:   0.02h\n",
      "01:46 madminer.utils.ml.tr INFO                 validation sum losses:   0.00h\n",
      "01:46 madminer.utils.ml.tr INFO                        early stopping:   0.00h\n",
      "01:46 madminer.utils.ml.tr INFO                          report epoch:   0.00h\n",
      "01:46 madminer.ml.base     INFO    Saving model to ewdim6/models_ew_1M/alices\n"
     ]
    }
   ],
   "source": [
    "estimator.train(\n",
    "    method='alices',\n",
    "    theta='ewdim6/data_ew_1M/samples/theta0_train_ratio.npy',\n",
    "    x='ewdim6/data_ew_1M/samples/x_train_ratio.npy',\n",
    "    y='ewdim6/data_ew_1M/samples/y_train_ratio.npy',\n",
    "    r_xz='ewdim6/data_ew_1M/samples/r_xz_train_ratio.npy',\n",
    "    t_xz='ewdim6/data_ew_1M/samples/t_xz_train_ratio.npy',\n",
    "    alpha=10,\n",
    "    n_epochs=10,\n",
    "    scale_parameters=True,\n",
    ")\n",
    "\n",
    "estimator.save('ewdim6/models_ew_1M/alices')"
   ]
  },
  {
   "cell_type": "markdown",
   "metadata": {},
   "source": [
    "Let's for fun also train a model that only used `pt_j1` as input observable, which can be specified using the option `features` when defining the `ParameterizedRatioEstimator`"
   ]
  },
  {
   "cell_type": "code",
   "execution_count": 12,
   "metadata": {},
   "outputs": [
    {
     "data": {
      "text/plain": [
       "'estimator_pt = ParameterizedRatioEstimator(\\n    n_hidden=(40,40),\\n    activation=\"tanh\",\\n    features=[0],\\n)\\n\\nestimator_pt.train(\\n    method=\\'alices\\',\\n    theta=\\'data_ew_wb/samples/theta0_train_ratio.npy\\',\\n    x=\\'data_ew_wb/samples/x_train_ratio.npy\\',\\n    y=\\'data_ew_wb/samples/y_train_ratio.npy\\',\\n    r_xz=\\'data_ew_wb/samples/r_xz_train_ratio.npy\\',\\n    t_xz=\\'data_ew_wb/samples/t_xz_train_ratio.npy\\',\\n    alpha=8,\\n    n_epochs=10,\\n    scale_parameters=True,\\n)\\n\\nestimator_pt.save(\\'models_sme_hw_hbox/alices_pt\\')'"
      ]
     },
     "execution_count": 12,
     "metadata": {},
     "output_type": "execute_result"
    }
   ],
   "source": [
    "'''estimator_pt = ParameterizedRatioEstimator(\n",
    "    n_hidden=(40,40),\n",
    "    activation=\"tanh\",\n",
    "    features=[0],\n",
    ")\n",
    "\n",
    "estimator_pt.train(\n",
    "    method='alices',\n",
    "    theta='data_ew_wb/samples/theta0_train_ratio.npy',\n",
    "    x='data_ew_wb/samples/x_train_ratio.npy',\n",
    "    y='data_ew_wb/samples/y_train_ratio.npy',\n",
    "    r_xz='data_ew_wb/samples/r_xz_train_ratio.npy',\n",
    "    t_xz='data_ew_wb/samples/t_xz_train_ratio.npy',\n",
    "    alpha=8,\n",
    "    n_epochs=10,\n",
    "    scale_parameters=True,\n",
    ")\n",
    "\n",
    "estimator_pt.save('models_sme_hw_hbox/alices_pt')'''"
   ]
  },
  {
   "cell_type": "markdown",
   "metadata": {},
   "source": [
    "## 4. Evaluate likelihood ratio estimator"
   ]
  },
  {
   "cell_type": "markdown",
   "metadata": {},
   "source": [
    "`estimator.evaluate_log_likelihood_ratio(theta,x)` estimated the log likelihood ratio and the score for all combination between the given phase-space points `x` and parameters `theta`. That is, if given 100 events `x` and a grid of 25 `theta` points, it will return 25\\*100 estimates for the log likelihood ratio and 25\\*100 estimates for the score, both indexed by `[i_theta,i_x]`."
   ]
  },
  {
   "cell_type": "code",
   "execution_count": 61,
   "metadata": {},
   "outputs": [],
   "source": [
    "#theta_each = np.linspace(-10,10,25)\n",
    "theta_each = np.linspace(-1.,1.,25)\n",
    "theta0, theta1 = np.meshgrid(theta_each, theta_each)\n",
    "theta_grid = np.vstack((theta0.flatten(), theta1.flatten())).T\n",
    "np.save('ewdim6/data_ew_1M/samples/theta_grid.npy', theta_grid)\n",
    "\n",
    "theta_denom = np.array([[0.,0.]])\n",
    "np.save('ewdim6/data_ew_1M/samples/theta_ref.npy', theta_denom)\n"
   ]
  },
  {
   "cell_type": "code",
   "execution_count": 62,
   "metadata": {},
   "outputs": [
    {
     "name": "stderr",
     "output_type": "stream",
     "text": [
      "01:46 madminer.ml.base     INFO    Loading model from ewdim6/models_ew_1M/alices\n",
      "01:46 madminer.utils.vario INFO      Loading ewdim6/data_ew_1M/samples/x_test.npy into RAM\n",
      "01:46 madminer.utils.vario INFO      Loading ewdim6/data_ew_1M/samples/theta_grid.npy into RAM\n"
     ]
    }
   ],
   "source": [
    "estimator.load('ewdim6/models_ew_1M/alices')\n",
    "\n",
    "log_r_hat, _ = estimator.evaluate_log_likelihood_ratio(\n",
    "    theta='ewdim6/data_ew_1M/samples/theta_grid.npy',\n",
    "    x='ewdim6/data_ew_1M/samples/x_test.npy',\n",
    "    evaluate_score=False\n",
    ")"
   ]
  },
  {
   "cell_type": "markdown",
   "metadata": {},
   "source": [
    "Let's look at the result:"
   ]
  },
  {
   "cell_type": "code",
   "execution_count": 63,
   "metadata": {},
   "outputs": [
    {
     "data": {
      "image/png": "[encoded data removed]",
      "text/plain": [
       "<Figure size 432x360 with 2 Axes>"
      ]
     },
     "metadata": {
      "needs_background": "light"
     },
     "output_type": "display_data"
    }
   ],
   "source": [
    "bin_size = theta_each[1] - theta_each[0]\n",
    "edges = np.linspace(theta_each[0] - bin_size/2, theta_each[-1] + bin_size/2, len(theta_each)+1)\n",
    "\n",
    "fig = plt.figure(figsize=(6,5))\n",
    "ax = plt.gca()\n",
    "\n",
    "expected_llr = np.mean(log_r_hat,axis=1)\n",
    "best_fit = theta_grid[np.argmin(-2.*expected_llr)]\n",
    "\n",
    "cmin, cmax = np.min(-2*expected_llr), np.max(-2*expected_llr)\n",
    "    \n",
    "pcm = ax.pcolormesh(edges, edges, -2. * expected_llr.reshape((25,25)),\n",
    "                    norm=matplotlib.colors.Normalize(vmin=cmin, vmax=cmax),\n",
    "                    cmap='viridis_r')\n",
    "cbar = fig.colorbar(pcm, ax=ax, extend='both')\n",
    "\n",
    "plt.scatter(best_fit[0], best_fit[1], s=80., color='black', marker='*')\n",
    "\n",
    "plt.xlabel(r'$\\theta_0$')\n",
    "plt.ylabel(r'$\\theta_1$')\n",
    "cbar.set_label(r'$\\mathbb{E}_x [ -2\\, \\log \\,\\hat{r}(x | \\theta, \\theta_{SM}) ]$')\n",
    "\n",
    "plt.tight_layout()\n",
    "plt.show()\n"
   ]
  },
  {
   "cell_type": "markdown",
   "metadata": {},
   "source": [
    "Note that in this tutorial our sample size was very small, and the network might not really have a chance to converge to the correct likelihood ratio function. So don't worry if you find a minimum that is not at the right point (the SM, i.e. the origin in this plot). Feel free to dial up the event numbers in the run card as well as the training samples and see what happens then!"
   ]
  },
  {
   "cell_type": "code",
   "execution_count": null,
   "metadata": {},
   "outputs": [],
   "source": []
  }
 ],
 "metadata": {
  "kernelspec": {
   "display_name": "Python 3",
   "language": "python",
   "name": "python3"
  },
  "language_info": {
   "codemirror_mode": {
    "name": "ipython",
    "version": 3
   },
   "file_extension": ".py",
   "mimetype": "text/x-python",
   "name": "python",
   "nbconvert_exporter": "python",
   "pygments_lexer": "ipython3",
   "version": "3.7.0"
  }
 },
 "nbformat": 4,
 "nbformat_minor": 2
}
