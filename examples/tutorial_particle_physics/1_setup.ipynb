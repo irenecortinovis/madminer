{
 "cells": [
  {
   "cell_type": "markdown",
   "metadata": {},
   "source": [
    "# MadMiner particle physics tutorial\n",
    "\n",
    "# Part 1: Setup\n",
    "\n",
    "Johann Brehmer, Felix Kling, Irina Espejo, and Kyle Cranmer 2018-2019"
   ]
  },
  {
   "cell_type": "markdown",
   "metadata": {},
   "source": [
    "Welcome to the MadMiner particle-physics tutorial! It consists of six numbered notebooks. They build on each other, so please go through them in the right order, starting with this notebook.\n",
    "\n",
    "In this first part, we'll show how to set up the parameter space and define a morphing setups -- typically the first steps in a MadMiner analysis.\n",
    "\n",
    "This tutorial does not try to explain the theory behind the tool. To understand what MadMiner is doing, please have a look at some papers first. In\n",
    "[\"Constraining Effective Field Theories With Machine Learning\"](https://arxiv.org/abs/1805.00013)\n",
    "we explain the basic idea of most of the methods presented here, while [\"A Guide to Constraining Effective Field Theories With Machine Learning\"](https://arxiv.org/abs/1805.00020) is an extensive 65-page handbook going through the details."
   ]
  },
  {
   "cell_type": "markdown",
   "metadata": {},
   "source": [
    "## 0. Preparations"
   ]
  },
  {
   "cell_type": "code",
   "execution_count": 1,
   "metadata": {},
   "outputs": [],
   "source": [
    "from __future__ import absolute_import, division, print_function, unicode_literals\n",
    "\n",
    "import logging\n",
    "import numpy as np\n",
    "import matplotlib\n",
    "from matplotlib import pyplot as plt\n",
    "%matplotlib inline\n",
    "\n",
    "from madminer.core import MadMiner\n",
    "from madminer.plotting import plot_2d_morphing_basis\n"
   ]
  },
  {
   "cell_type": "code",
   "execution_count": 2,
   "metadata": {},
   "outputs": [
    {
     "name": "stdout",
     "output_type": "stream",
     "text": [
      "Python 3.7.0\r\n"
     ]
    }
   ],
   "source": [
    "!python --version"
   ]
  },
  {
   "cell_type": "code",
   "execution_count": null,
   "metadata": {},
   "outputs": [],
   "source": []
  },
  {
   "cell_type": "markdown",
   "metadata": {},
   "source": [
    "\n",
    "MadMiner uses the Python `logging` module to provide additional information and debugging output. You can choose how much of this output you want to see by switching the level in the following lines to `logging.DEBUG` or `logging.WARNING`."
   ]
  },
  {
   "cell_type": "code",
   "execution_count": 3,
   "metadata": {},
   "outputs": [],
   "source": [
    "# MadMiner output\n",
    "logging.basicConfig(\n",
    "    format='%(asctime)-5.5s %(name)-20.20s %(levelname)-7.7s %(message)s',\n",
    "    datefmt='%H:%M',\n",
    "    level=logging.INFO\n",
    ")\n",
    "\n",
    "# Output of all other modules (e.g. matplotlib)\n",
    "for key in logging.Logger.manager.loggerDict:\n",
    "    if \"madminer\" not in key:\n",
    "        logging.getLogger(key).setLevel(logging.WARNING)"
   ]
  },
  {
   "cell_type": "markdown",
   "metadata": {},
   "source": [
    "## 1. Input data"
   ]
  },
  {
   "cell_type": "markdown",
   "metadata": {},
   "source": [
    "As an example process, we'll simulate VBF Higgs production with a decay into two photons. We'll try to measure two EFT coefficients that affect this process.\n",
    "\n",
    "Have a look at the `cards` folder. You'll find text files (\"cards\") that specify the process simulation in typical MadGraph convention."
   ]
  },
  {
   "cell_type": "markdown",
   "metadata": {},
   "source": [
    "## 2. Define parameter space"
   ]
  },
  {
   "cell_type": "markdown",
   "metadata": {},
   "source": [
    "After creating a `MadMiner` instance, the first important step is the definition of the parameter space. Each model parameter is characterized by a name as well as the LHA block and ID.\n",
    "\n",
    "If morphing is used, one also has to specify the maximal power with which the parameter contributes to the squared matrix element. For instance, a parameter that contributes only to one vertex, will typically have `morphing_max_power=2`, while a parameter that contributes to two vertices usually has `morphing_max_power=4`. Exceptions arise for instance when the interference effects between the SM and dimension-six operators are modelled, but the square of the dimension-six amplitude (subleading in 1/Lambda) is not taken into account, in which case `morphing_max_power=1`. The `parameter_range` argument defines the range of parameter values that are used for the automatic optimization of the morphing basis.\n",
    "\n",
    "Finally, the parameter values theta used internally by MadMiner and the parameter values written to the param_card (or reweight_card) given to MadGraph do not have to be exactly the same. With the option `parm_card_transform`, the user can supply a one-parameter function that maps a parameter value theta to the value given to MadGraph. This string is a python expression, in which `theta` is parsed as the parameter value. For instance, if the internal parameters are in the range (0, 1), but should be linearly scaled to (0, 100) in the param_card, one would have to use `param_card_transform=\"100*theta\"`."
   ]
  },
  {
   "cell_type": "code",
   "execution_count": 146,
   "metadata": {},
   "outputs": [
    {
     "name": "stderr",
     "output_type": "stream",
     "text": [
      "17:00 madminer.core.madmin INFO    Added parameter cu (LHA: newcoup 4, maximal power in squared ME: (2,), range: (-10.0, 10.0))\n",
      "17:00 madminer.core.madmin INFO    Added parameter cG (LHA: newcoup 12, maximal power in squared ME: (2,), range: (-10.0, 10.0))\n",
      "17:00 madminer.core.madmin INFO    Added benchmark sm: cu = 0.00e+00, cG = 0.00e+00)\n",
      "17:00 madminer.core.madmin INFO    Added benchmark w: cu = 6.00, cG = 0.10)\n",
      "17:00 madminer.core.madmin INFO    Added benchmark neg_w: cu = -6.80e+00, cG = 0.20)\n",
      "17:00 madminer.core.madmin INFO    Added benchmark ww: cu = 0.40, cG = 6.60)\n",
      "17:00 madminer.core.madmin INFO    Added benchmark neg_ww: cu = 0.30, cG = -6.70e+00)\n",
      "17:00 madminer.core.madmin INFO    Optimizing basis for morphing\n",
      "17:00 madminer.core.madmin INFO    Set up morphing with 2 parameters, 6 morphing components, 5 predefined basis points, and 1 new basis points\n",
      "17:00 madminer.core.madmin INFO    Saving setup (including morphing) to data_hel/setup.h5\n"
     ]
    },
    {
     "data": {
      "image/png": "[encoded data removed]",
      "text/plain": [
       "<Figure size 468x360 with 2 Axes>"
      ]
     },
     "metadata": {
      "needs_background": "light"
     },
     "output_type": "display_data"
    }
   ],
   "source": [
    "def setup_benchmark(miner,operators):\n",
    "    if \"cu\" in operators:\n",
    "        miner.add_parameter(\n",
    "            lha_block='newcoup',\n",
    "            lha_id=4,\n",
    "            parameter_name='cu',\n",
    "            morphing_max_power=2,\n",
    "            parameter_range=(-10.,10.)\n",
    "        )\n",
    "    if \"cG\" in operators:\n",
    "        miner.add_parameter(\n",
    "            lha_block='newcoup',\n",
    "            lha_id=12,\n",
    "            parameter_name='cG',\n",
    "            morphing_max_power=2,\n",
    "            param_card_transform=\"100*theta\",\n",
    "            parameter_range=(-10.,10.)\n",
    "        )\n",
    "\n",
    "miner = MadMiner()\n",
    "useoperator=['cu','cG']\n",
    "setup_benchmark(miner,useoperator)\n",
    "\n",
    "miner.add_benchmark( {useoperator[0]:0., useoperator[1]:0. }, 'sm')\n",
    "miner.add_benchmark( {useoperator[0]:6., useoperator[1]:0.1 }, 'w')\n",
    "miner.add_benchmark( {useoperator[0]:-6.8, useoperator[1]:0.2 }, 'neg_w')\n",
    "miner.add_benchmark( {useoperator[0]:0.4, useoperator[1]:6.6 }, 'ww')\n",
    "miner.add_benchmark( {useoperator[0]:0.3, useoperator[1]:-6.7 }, 'neg_ww')\n",
    "\n",
    "miner.set_morphing(\n",
    "    include_existing_benchmarks=True,\n",
    "    n_trials=1000,\n",
    "    max_overall_power=2\n",
    ")\n",
    "\n",
    "\n",
    "\n",
    "fig = plot_2d_morphing_basis(\n",
    "    miner.morpher,\n",
    "    xlabel=useoperator[0],\n",
    "    ylabel=useoperator[1],\n",
    "    xrange=(-10,10),\n",
    "    yrange=(-10,10)\n",
    ")\n",
    "\n",
    "miner.save('data_hel/setup.h5')\n"
   ]
  },
  {
   "cell_type": "code",
   "execution_count": 7,
   "metadata": {},
   "outputs": [
    {
     "name": "stderr",
     "output_type": "stream",
     "text": [
      "12:32 madminer.core.madmin INFO    Added parameter cHW (LHA: newcoup 9, maximal power in squared ME: (2,), range: (-10.0, 10.0))\n",
      "12:32 madminer.core.madmin INFO    Added parameter cHB (LHA: newcoup 10, maximal power in squared ME: (2,), range: (-10.0, 10.0))\n",
      "12:32 madminer.core.madmin INFO    Added benchmark sm: cHW = 0.00e+00, cHB = 0.00e+00)\n",
      "12:32 madminer.core.madmin INFO    Added benchmark w: cHW = 6.00, cHB = 0.10)\n",
      "12:32 madminer.core.madmin INFO    Added benchmark neg_w: cHW = -6.80e+00, cHB = 0.20)\n",
      "12:32 madminer.core.madmin INFO    Added benchmark ww: cHW = 0.40, cHB = 6.60)\n",
      "12:32 madminer.core.madmin INFO    Added benchmark neg_ww: cHW = 0.30, cHB = -6.70e+00)\n",
      "12:32 madminer.core.madmin INFO    Optimizing basis for morphing\n",
      "12:32 madminer.core.madmin INFO    Set up morphing with 2 parameters, 6 morphing components, 5 predefined basis points, and 1 new basis points\n",
      "12:32 madminer.core.madmin INFO    Saving setup (including morphing) to data_hel_hw_hb/setup.h5\n"
     ]
    },
    {
     "data": {
      "image/png": "[encoded data removed]",
      "text/plain": [
       "<Figure size 468x360 with 2 Axes>"
      ]
     },
     "metadata": {
      "needs_background": "light"
     },
     "output_type": "display_data"
    }
   ],
   "source": [
    "def setup_benchmark(miner,operators):\n",
    "    if \"cHW\" in operators:\n",
    "        miner.add_parameter(\n",
    "            lha_block='newcoup',\n",
    "            lha_id=9,\n",
    "            parameter_name='cHW',\n",
    "            morphing_max_power=2,\n",
    "            parameter_range=(-10.,10.)\n",
    "        )\n",
    "    if \"cHB\" in operators:\n",
    "        miner.add_parameter(\n",
    "            lha_block='newcoup',\n",
    "            lha_id=10,\n",
    "            parameter_name='cHB',\n",
    "            morphing_max_power=2,\n",
    "            parameter_range=(-10.,10.)\n",
    "        )\n",
    "\n",
    "miner = MadMiner()\n",
    "useoperator=['cHW','cHB']\n",
    "setup_benchmark(miner,useoperator)\n",
    "\n",
    "miner.add_benchmark( {useoperator[0]:0., useoperator[1]:0. }, 'sm')\n",
    "miner.add_benchmark( {useoperator[0]:6., useoperator[1]:0.1 }, 'w')\n",
    "miner.add_benchmark( {useoperator[0]:-6.8, useoperator[1]:0.2 }, 'neg_w')\n",
    "miner.add_benchmark( {useoperator[0]:0.4, useoperator[1]:6.6 }, 'ww')\n",
    "miner.add_benchmark( {useoperator[0]:0.3, useoperator[1]:-6.7 }, 'neg_ww')\n",
    "\n",
    "miner.set_morphing(\n",
    "    include_existing_benchmarks=True,\n",
    "    n_trials=1000,\n",
    "    max_overall_power=2\n",
    ")\n",
    "\n",
    "\n",
    "\n",
    "fig = plot_2d_morphing_basis(\n",
    "    miner.morpher,\n",
    "    xlabel=useoperator[0],\n",
    "    ylabel=useoperator[1],\n",
    "    xrange=(-10,10),\n",
    "    yrange=(-10,10)\n",
    ")\n",
    "\n",
    "miner.save('data_hel_hw_hb/setup.h5')\n"
   ]
  },
  {
   "cell_type": "code",
   "execution_count": 9,
   "metadata": {},
   "outputs": [
    {
     "name": "stderr",
     "output_type": "stream",
     "text": [
      "12:35 madminer.core.madmin INFO    Added parameter cWW (LHA: newcoup 7, maximal power in squared ME: (2,), range: (-10.0, 10.0))\n",
      "12:35 madminer.core.madmin INFO    Added parameter cB (LHA: newcoup 8, maximal power in squared ME: (2,), range: (-10.0, 10.0))\n",
      "12:35 madminer.core.madmin INFO    Added benchmark sm: cWW = 0.00e+00, cB = 0.00e+00)\n",
      "12:35 madminer.core.madmin INFO    Added benchmark w: cWW = 6.00, cB = 0.10)\n",
      "12:35 madminer.core.madmin INFO    Added benchmark neg_w: cWW = -6.80e+00, cB = 0.20)\n",
      "12:35 madminer.core.madmin INFO    Added benchmark ww: cWW = 0.40, cB = 6.60)\n",
      "12:35 madminer.core.madmin INFO    Added benchmark neg_ww: cWW = 0.30, cB = -6.70e+00)\n",
      "12:35 madminer.core.madmin INFO    Optimizing basis for morphing\n",
      "12:36 madminer.core.madmin INFO    Set up morphing with 2 parameters, 6 morphing components, 5 predefined basis points, and 1 new basis points\n",
      "12:36 madminer.core.madmin INFO    Saving setup (including morphing) to data_hel_w_b/setup.h5\n"
     ]
    },
    {
     "data": {
      "image/png": "[encoded data removed]",
      "text/plain": [
       "<Figure size 468x360 with 2 Axes>"
      ]
     },
     "metadata": {
      "needs_background": "light"
     },
     "output_type": "display_data"
    }
   ],
   "source": [
    "def setup_benchmark(miner,operators):\n",
    "    if \"cWW\" in operators:\n",
    "        miner.add_parameter(\n",
    "            lha_block='newcoup',\n",
    "            lha_id=7,\n",
    "            parameter_name='cWW',\n",
    "            morphing_max_power=2,\n",
    "            parameter_range=(-10.,10.)\n",
    "        )\n",
    "    if \"cB\" in operators:\n",
    "        miner.add_parameter(\n",
    "            lha_block='newcoup',\n",
    "            lha_id=8,\n",
    "            parameter_name='cB',\n",
    "            morphing_max_power=2,\n",
    "            parameter_range=(-10.,10.)\n",
    "        )\n",
    "\n",
    "miner = MadMiner()\n",
    "useoperator=['cWW','cB']\n",
    "setup_benchmark(miner,useoperator)\n",
    "\n",
    "miner.add_benchmark( {useoperator[0]:0., useoperator[1]:0. }, 'sm')\n",
    "miner.add_benchmark( {useoperator[0]:6., useoperator[1]:0.1 }, 'w')\n",
    "miner.add_benchmark( {useoperator[0]:-6.8, useoperator[1]:0.2 }, 'neg_w')\n",
    "miner.add_benchmark( {useoperator[0]:0.4, useoperator[1]:6.6 }, 'ww')\n",
    "miner.add_benchmark( {useoperator[0]:0.3, useoperator[1]:-6.7 }, 'neg_ww')\n",
    "\n",
    "miner.set_morphing(\n",
    "    include_existing_benchmarks=True,\n",
    "    n_trials=1000,\n",
    "    max_overall_power=2\n",
    ")\n",
    "\n",
    "\n",
    "\n",
    "fig = plot_2d_morphing_basis(\n",
    "    miner.morpher,\n",
    "    xlabel=useoperator[0],\n",
    "    ylabel=useoperator[1],\n",
    "    xrange=(-10,10),\n",
    "    yrange=(-10,10)\n",
    ")\n",
    "\n",
    "miner.save('data_hel_w_b/setup.h5')\n"
   ]
  },
  {
   "cell_type": "code",
   "execution_count": 10,
   "metadata": {},
   "outputs": [
    {
     "name": "stderr",
     "output_type": "stream",
     "text": [
      "12:37 madminer.core.madmin INFO    Added parameter tcHW (LHA: newcoup 9, maximal power in squared ME: (2,), range: (-10.0, 10.0))\n",
      "12:37 madminer.core.madmin INFO    Added parameter tcHB (LHA: newcoup 10, maximal power in squared ME: (2,), range: (-10.0, 10.0))\n",
      "12:37 madminer.core.madmin INFO    Added benchmark sm: tcHW = 0.00e+00, tcHB = 0.00e+00)\n",
      "12:37 madminer.core.madmin INFO    Added benchmark w: tcHW = 6.00, tcHB = 0.10)\n",
      "12:37 madminer.core.madmin INFO    Added benchmark neg_w: tcHW = -6.80e+00, tcHB = 0.20)\n",
      "12:37 madminer.core.madmin INFO    Added benchmark ww: tcHW = 0.40, tcHB = 6.60)\n",
      "12:37 madminer.core.madmin INFO    Added benchmark neg_ww: tcHW = 0.30, tcHB = -6.70e+00)\n",
      "12:37 madminer.core.madmin INFO    Optimizing basis for morphing\n",
      "12:37 madminer.core.madmin INFO    Set up morphing with 2 parameters, 6 morphing components, 5 predefined basis points, and 1 new basis points\n",
      "12:37 madminer.core.madmin INFO    Saving setup (including morphing) to data_hel_hwt_hbt/setup.h5\n"
     ]
    },
    {
     "data": {
      "image/png": "[encoded data removed]",
      "text/plain": [
       "<Figure size 468x360 with 2 Axes>"
      ]
     },
     "metadata": {
      "needs_background": "light"
     },
     "output_type": "display_data"
    }
   ],
   "source": [
    "def setup_benchmark(miner,operators):\n",
    "    if \"tcHW\" in operators:\n",
    "        miner.add_parameter(\n",
    "            lha_block='newcoup',\n",
    "            lha_id=9,\n",
    "            parameter_name='tcHW',\n",
    "            morphing_max_power=2,\n",
    "            parameter_range=(-10.,10.)\n",
    "        )\n",
    "    if \"tcHB\" in operators:\n",
    "        miner.add_parameter(\n",
    "            lha_block='newcoup',\n",
    "            lha_id=10,\n",
    "            parameter_name='tcHB',\n",
    "            morphing_max_power=2,\n",
    "            parameter_range=(-10.,10.)\n",
    "        )\n",
    "\n",
    "miner = MadMiner()\n",
    "useoperator=['tcHW','tcHB']\n",
    "setup_benchmark(miner,useoperator)\n",
    "\n",
    "miner.add_benchmark( {useoperator[0]:0., useoperator[1]:0. }, 'sm')\n",
    "miner.add_benchmark( {useoperator[0]:6., useoperator[1]:0.1 }, 'w')\n",
    "miner.add_benchmark( {useoperator[0]:-6.8, useoperator[1]:0.2 }, 'neg_w')\n",
    "miner.add_benchmark( {useoperator[0]:0.4, useoperator[1]:6.6 }, 'ww')\n",
    "miner.add_benchmark( {useoperator[0]:0.3, useoperator[1]:-6.7 }, 'neg_ww')\n",
    "\n",
    "miner.set_morphing(\n",
    "    include_existing_benchmarks=True,\n",
    "    n_trials=1000,\n",
    "    max_overall_power=2\n",
    ")\n",
    "\n",
    "\n",
    "\n",
    "fig = plot_2d_morphing_basis(\n",
    "    miner.morpher,\n",
    "    xlabel=useoperator[0],\n",
    "    ylabel=useoperator[1],\n",
    "    xrange=(-10,10),\n",
    "    yrange=(-10,10)\n",
    ")\n",
    "\n",
    "miner.save('data_hel_hwt_hbt/setup.h5')\n"
   ]
  },
  {
   "cell_type": "code",
   "execution_count": 11,
   "metadata": {},
   "outputs": [
    {
     "name": "stderr",
     "output_type": "stream",
     "text": [
      "12:40 madminer.core.madmin INFO    Added parameter cH (LHA: newcoup 1, maximal power in squared ME: (2,), range: (-10.0, 10.0))\n",
      "12:40 madminer.core.madmin INFO    Added parameter c6 (LHA: newcoup 3, maximal power in squared ME: (2,), range: (-10.0, 10.0))\n",
      "12:40 madminer.core.madmin INFO    Added benchmark sm: cH = 0.00e+00, c6 = 0.00e+00)\n",
      "12:40 madminer.core.madmin INFO    Added benchmark w: cH = 6.00, c6 = 0.10)\n",
      "12:40 madminer.core.madmin INFO    Added benchmark neg_w: cH = -6.80e+00, c6 = 0.20)\n",
      "12:40 madminer.core.madmin INFO    Added benchmark ww: cH = 0.40, c6 = 6.60)\n",
      "12:40 madminer.core.madmin INFO    Added benchmark neg_ww: cH = 0.30, c6 = -6.70e+00)\n",
      "12:40 madminer.core.madmin INFO    Optimizing basis for morphing\n",
      "12:40 madminer.core.madmin INFO    Set up morphing with 2 parameters, 6 morphing components, 5 predefined basis points, and 1 new basis points\n",
      "12:40 madminer.core.madmin INFO    Saving setup (including morphing) to data_hel_h_6/setup.h5\n"
     ]
    },
    {
     "data": {
      "image/png": "[encoded data removed]",
      "text/plain": [
       "<Figure size 468x360 with 2 Axes>"
      ]
     },
     "metadata": {
      "needs_background": "light"
     },
     "output_type": "display_data"
    }
   ],
   "source": [
    "def setup_benchmark(miner,operators):\n",
    "    if \"cH\" in operators:\n",
    "        miner.add_parameter(\n",
    "            lha_block='newcoup',\n",
    "            lha_id=1,\n",
    "            parameter_name='cH',\n",
    "            morphing_max_power=2,\n",
    "            parameter_range=(-10.,10.)\n",
    "        )\n",
    "    if \"c6\" in operators:\n",
    "        miner.add_parameter(\n",
    "            lha_block='newcoup',\n",
    "            lha_id=3,\n",
    "            parameter_name='c6',\n",
    "            morphing_max_power=2,\n",
    "            parameter_range=(-10.,10.)\n",
    "        )\n",
    "\n",
    "miner = MadMiner()\n",
    "useoperator=['cH','c6']\n",
    "setup_benchmark(miner,useoperator)\n",
    "\n",
    "miner.add_benchmark( {useoperator[0]:0., useoperator[1]:0. }, 'sm')\n",
    "miner.add_benchmark( {useoperator[0]:6., useoperator[1]:0.1 }, 'w')\n",
    "miner.add_benchmark( {useoperator[0]:-6.8, useoperator[1]:0.2 }, 'neg_w')\n",
    "miner.add_benchmark( {useoperator[0]:0.4, useoperator[1]:6.6 }, 'ww')\n",
    "miner.add_benchmark( {useoperator[0]:0.3, useoperator[1]:-6.7 }, 'neg_ww')\n",
    "\n",
    "miner.set_morphing(\n",
    "    include_existing_benchmarks=True,\n",
    "    n_trials=1000,\n",
    "    max_overall_power=2\n",
    ")\n",
    "\n",
    "\n",
    "\n",
    "fig = plot_2d_morphing_basis(\n",
    "    miner.morpher,\n",
    "    xlabel=useoperator[0],\n",
    "    ylabel=useoperator[1],\n",
    "    xrange=(-10,10),\n",
    "    yrange=(-10,10)\n",
    ")\n",
    "\n",
    "miner.save('data_hel_h_6/setup.h5')\n"
   ]
  },
  {
   "cell_type": "code",
   "execution_count": null,
   "metadata": {},
   "outputs": [],
   "source": []
  },
  {
   "cell_type": "code",
   "execution_count": null,
   "metadata": {},
   "outputs": [],
   "source": []
  },
  {
   "cell_type": "code",
   "execution_count": null,
   "metadata": {},
   "outputs": [],
   "source": []
  },
  {
   "cell_type": "code",
   "execution_count": null,
   "metadata": {},
   "outputs": [],
   "source": []
  },
  {
   "cell_type": "code",
   "execution_count": 253,
   "metadata": {},
   "outputs": [
    {
     "name": "stderr",
     "output_type": "stream",
     "text": [
      "12:10 madminer.core.madmin INFO    Added parameter cHW (LHA: FRBlock 28, maximal power in squared ME: (2,), range: (-20.0, 20.0))\n",
      "12:10 madminer.core.madmin INFO    Added parameter cHbox (LHA: FRBlock 24, maximal power in squared ME: (2,), range: (-20.0, 20.0))\n"
     ]
    }
   ],
   "source": [
    "miner = MadMiner()\n",
    "\n",
    "miner.add_parameter(\n",
    "    lha_block='FRBlock',\n",
    "    lha_id=28,\n",
    "    parameter_name='cHW',\n",
    "    morphing_max_power=2,\n",
    "    param_card_transform=\"16.52*theta\",\n",
    "    parameter_range=(-20.,20.)\n",
    ")\n",
    "miner.add_parameter(\n",
    "    lha_block='FRBlock',\n",
    "    lha_id=24,\n",
    "    parameter_name='cHbox',\n",
    "    morphing_max_power=2,\n",
    "    param_card_transform=\"16.52*theta\",\n",
    "    parameter_range=(-20.,20.0)\n",
    ")"
   ]
  },
  {
   "cell_type": "code",
   "execution_count": 121,
   "metadata": {},
   "outputs": [
    {
     "name": "stderr",
     "output_type": "stream",
     "text": [
      "20:06 madminer.core.madmin INFO    Added parameter FW (LHA: anoinputs 3, maximal power in squared ME: (2,), range: (-10, 10))\n",
      "20:06 madminer.core.madmin INFO    Added parameter FWW (LHA: anoinputs 7, maximal power in squared ME: (2,), range: (-10, 10))\n",
      "20:06 madminer.core.madmin INFO    Added benchmark sm: FW = 0.00e+00, FWW = 0.00e+00)\n",
      "20:06 madminer.core.madmin INFO    Added benchmark w: FW = 7.50, FWW = 0.10)\n",
      "20:06 madminer.core.madmin INFO    Added benchmark neg_w: FW = -4.00e+00, FWW = 0.20)\n",
      "20:06 madminer.core.madmin INFO    Added benchmark ww: FW = 0.30, FWW = 7.40)\n",
      "20:06 madminer.core.madmin INFO    Added benchmark neg_ww: FW = 0.40, FWW = -3.10e+00)\n",
      "20:06 madminer.core.madmin INFO    Optimizing basis for morphing\n",
      "20:06 madminer.core.madmin INFO    Set up morphing with 2 parameters, 6 morphing components, 5 predefined basis points, and 1 new basis points\n"
     ]
    },
    {
     "data": {
      "image/png": "[encoded data removed]",
      "text/plain": [
       "<Figure size 468x360 with 2 Axes>"
      ]
     },
     "metadata": {
      "needs_background": "light"
     },
     "output_type": "display_data"
    }
   ],
   "source": [
    "miner = MadMiner()\n",
    "\n",
    "miner.add_parameter(\n",
    "    lha_block='anoinputs',\n",
    "    lha_id=3,\n",
    "    parameter_name='FW',\n",
    "    morphing_max_power=2,\n",
    "    param_card_transform=\"0.000001*theta\",\n",
    "    parameter_range=(-10,10)\n",
    ")\n",
    "miner.add_parameter(\n",
    "    lha_block='anoinputs',\n",
    "    lha_id=7,\n",
    "    parameter_name='FWW',\n",
    "    morphing_max_power=2,\n",
    "    param_card_transform=\"0.000001*theta\",\n",
    "    parameter_range=(-10,10)\n",
    ")\n",
    "\n",
    "miner.add_benchmark({'FW':0., 'FWW':0.}, 'sm')\n",
    "miner.add_benchmark({'FW':7.5, 'FWW':0.1}, 'w')\n",
    "#miner.add_benchmark({'FW':-7.6, 'FWW':0.2}, 'neg_w')\n",
    "miner.add_benchmark({'FW':-4., 'FWW':0.2}, 'neg_w')\n",
    "miner.add_benchmark({'FW':0.3, 'FWW':7.4}, 'ww')\n",
    "miner.add_benchmark({'FW':0.4, 'FWW':-3.1}, 'neg_ww')\n",
    "#miner.add_benchmark({'FW':0.4, 'FWW':-7.3}, 'neg_ww')\n",
    "#miner.add_benchmark({'FW':3.5, 'FWW':3.6}, 'add')\n",
    "\n",
    "\n",
    "miner.set_morphing(include_existing_benchmarks=True, max_overall_power=2)\n",
    "\n",
    "fig = plot_2d_morphing_basis(\n",
    "    miner.morpher,\n",
    "    xlabel=r'$c_{W} v^2 / \\Lambda^2$',\n",
    "    ylabel=r'$c_{\\tilde{W}} v^2 / \\Lambda^2$',\n",
    "    xrange=(-10.,10.),\n",
    "    yrange=(-10.,10.)\n",
    ")"
   ]
  },
  {
   "cell_type": "code",
   "execution_count": 242,
   "metadata": {},
   "outputs": [
    {
     "name": "stderr",
     "output_type": "stream",
     "text": [
      "10:17 madminer.core.madmin INFO    Added parameter cHG (LHA: FRBlock 26, maximal power in squared ME: (2,), range: (-20.0, 20.0))\n",
      "10:17 madminer.core.madmin INFO    Added parameter cHGtil (LHA: FRBlock 27, maximal power in squared ME: (2,), range: (-20.0, 20.0))\n"
     ]
    }
   ],
   "source": [
    "miner = MadMiner()\n",
    "\n",
    "miner.add_parameter(\n",
    "    lha_block='FRBlock',\n",
    "    lha_id=26,\n",
    "    parameter_name='cHG',\n",
    "    morphing_max_power=2,\n",
    "    param_card_transform=\"16.52*theta\",\n",
    "    parameter_range=(-20.,20.)\n",
    ")\n",
    "miner.add_parameter(\n",
    "    lha_block='FRBlock',\n",
    "    lha_id=27,\n",
    "    parameter_name='cHGtil',\n",
    "    morphing_max_power=2,\n",
    "    param_card_transform=\"16.52*theta\",\n",
    "    parameter_range=(-20.,20.0)\n",
    ")"
   ]
  },
  {
   "cell_type": "code",
   "execution_count": 226,
   "metadata": {},
   "outputs": [
    {
     "name": "stderr",
     "output_type": "stream",
     "text": [
      "11:38 madminer.core.madmin INFO    Added parameter cHW (LHA: FRBlock 28, maximal power in squared ME: (2,), range: (-20.0, 20.0))\n",
      "11:38 madminer.core.madmin INFO    Added parameter cHWtil (LHA: FRBlock 29, maximal power in squared ME: (2,), range: (-20.0, 20.0))\n"
     ]
    }
   ],
   "source": [
    "miner = MadMiner()\n",
    "\n",
    "miner.add_parameter(\n",
    "    lha_block='FRBlock',\n",
    "    lha_id=28,\n",
    "    parameter_name='cHW',\n",
    "    morphing_max_power=2,\n",
    "    param_card_transform=\"16.52*theta\",\n",
    "    parameter_range=(-20.,20.)\n",
    ")\n",
    "miner.add_parameter(\n",
    "    lha_block='FRBlock',\n",
    "    lha_id=29,\n",
    "    parameter_name='cHWtil',\n",
    "    morphing_max_power=2,\n",
    "    param_card_transform=\"16.52*theta\",\n",
    "    parameter_range=(-20.,20.0)\n",
    ")"
   ]
  },
  {
   "cell_type": "code",
   "execution_count": 258,
   "metadata": {},
   "outputs": [
    {
     "name": "stderr",
     "output_type": "stream",
     "text": [
      "12:19 madminer.core.madmin INFO    Added parameter CWL2 (LHA: dim6 2, maximal power in squared ME: (2,), range: (-20.0, 20.0))\n",
      "12:19 madminer.core.madmin INFO    Added parameter CphidL2 (LHA: dim6 6, maximal power in squared ME: (2,), range: (-20.0, 20.0))\n"
     ]
    }
   ],
   "source": [
    "miner = MadMiner()\n",
    "\n",
    "miner.add_parameter(\n",
    "    lha_block='dim6',\n",
    "    lha_id=2,\n",
    "    parameter_name='CWL2',\n",
    "    morphing_max_power=2,\n",
    "    param_card_transform=\"16.52*theta\",\n",
    "    parameter_range=(-20.,20.)\n",
    ")\n",
    "miner.add_parameter(\n",
    "    lha_block='dim6',\n",
    "    lha_id=6,\n",
    "    parameter_name='CphidL2',\n",
    "    morphing_max_power=2,\n",
    "    param_card_transform=\"16.52*theta\",\n",
    "    parameter_range=(-20.,20.0)\n",
    ")"
   ]
  },
  {
   "cell_type": "code",
   "execution_count": 4,
   "metadata": {},
   "outputs": [
    {
     "name": "stderr",
     "output_type": "stream",
     "text": [
      "12:24 madminer.core.madmin INFO    Added parameter CWL2 (LHA: dim6 2, maximal power in squared ME: (2,), range: (-20.0, 20.0))\n",
      "12:24 madminer.core.madmin INFO    Added parameter CPWL2 (LHA: dim6 3, maximal power in squared ME: (5,), range: (-20.0, 20.0))\n"
     ]
    }
   ],
   "source": [
    "miner = MadMiner()\n",
    "\n",
    "miner.add_parameter(\n",
    "    lha_block='dim6',\n",
    "    lha_id=2,\n",
    "    parameter_name='CWL2',\n",
    "    morphing_max_power=2,\n",
    "    param_card_transform=\"16.52*theta\",\n",
    "    parameter_range=(-20.,20.)\n",
    ")\n",
    "miner.add_parameter(\n",
    "    lha_block='dim6',\n",
    "    lha_id=3,\n",
    "    parameter_name='CPWL2',\n",
    "    morphing_max_power=5,\n",
    "    param_card_transform=\"16.52*theta\",\n",
    "    parameter_range=(-20.,20.0)\n",
    ")"
   ]
  },
  {
   "cell_type": "markdown",
   "metadata": {},
   "source": [
    "## 3. Define benchmarks (evaluation points for |M|^2) manually"
   ]
  },
  {
   "cell_type": "markdown",
   "metadata": {},
   "source": [
    "The next step is the definition of all the points at which the weights (squared matrix elements) should be evaluated by MadGraph. We call these points \"benchmarks\". One can define benchmarks by hand:"
   ]
  },
  {
   "cell_type": "code",
   "execution_count": 5,
   "metadata": {},
   "outputs": [
    {
     "name": "stderr",
     "output_type": "stream",
     "text": [
      "12:24 madminer.core.madmin INFO    Added benchmark sm: CWL2 = 0.00e+00, CPWL2 = 0.00e+00)\n",
      "12:24 madminer.core.madmin INFO    Added benchmark w: CWL2 = 15.20, CPWL2 = 0.10)\n",
      "12:24 madminer.core.madmin INFO    Added benchmark neg_w: CWL2 = -1.54e+01, CPWL2 = 0.20)\n",
      "12:24 madminer.core.madmin INFO    Added benchmark ww: CWL2 = 0.30, CPWL2 = 15.10)\n",
      "12:24 madminer.core.madmin INFO    Added benchmark neg_ww: CWL2 = 0.40, CPWL2 = -1.53e+01)\n"
     ]
    }
   ],
   "source": [
    "miner.add_benchmark({'CWL2':0., 'CPWL2':0.}, 'sm')\n",
    "miner.add_benchmark({'CWL2':15.2, 'CPWL2':0.1}, 'w')\n",
    "miner.add_benchmark({'CWL2':-15.4, 'CPWL2':0.2}, 'neg_w')\n",
    "miner.add_benchmark({'CWL2':0.3, 'CPWL2':15.1}, 'ww')\n",
    "miner.add_benchmark({'CWL2':0.4, 'CPWL2':-15.3}, 'neg_ww')"
   ]
  },
  {
   "cell_type": "code",
   "execution_count": 259,
   "metadata": {},
   "outputs": [
    {
     "name": "stderr",
     "output_type": "stream",
     "text": [
      "12:19 madminer.core.madmin INFO    Added benchmark sm: CWL2 = 0.00e+00, CphidL2 = 0.00e+00)\n",
      "12:19 madminer.core.madmin INFO    Added benchmark w: CWL2 = 15.20, CphidL2 = 0.10)\n",
      "12:19 madminer.core.madmin INFO    Added benchmark neg_w: CWL2 = -1.54e+01, CphidL2 = 0.20)\n",
      "12:19 madminer.core.madmin INFO    Added benchmark ww: CWL2 = 0.30, CphidL2 = 15.10)\n",
      "12:19 madminer.core.madmin INFO    Added benchmark neg_ww: CWL2 = 0.40, CphidL2 = -1.53e+01)\n"
     ]
    }
   ],
   "source": [
    "miner.add_benchmark({'CWL2':0., 'CphidL2':0.}, 'sm')\n",
    "miner.add_benchmark({'CWL2':15.2, 'CphidL2':0.1}, 'w')\n",
    "miner.add_benchmark({'CWL2':-15.4, 'CphidL2':0.2}, 'neg_w')\n",
    "miner.add_benchmark({'CWL2':0.3, 'CphidL2':15.1}, 'ww')\n",
    "miner.add_benchmark({'CWL2':0.4, 'CphidL2':-15.3}, 'neg_ww')"
   ]
  },
  {
   "cell_type": "code",
   "execution_count": 243,
   "metadata": {},
   "outputs": [
    {
     "name": "stderr",
     "output_type": "stream",
     "text": [
      "10:17 madminer.core.madmin INFO    Added benchmark sm: cHG = 0.00e+00, cHGtil = 0.00e+00)\n",
      "10:17 madminer.core.madmin INFO    Added benchmark w: cHG = 15.20, cHGtil = 0.10)\n",
      "10:17 madminer.core.madmin INFO    Added benchmark neg_w: cHG = -1.54e+01, cHGtil = 0.20)\n",
      "10:17 madminer.core.madmin INFO    Added benchmark ww: cHG = 0.30, cHGtil = 15.10)\n",
      "10:17 madminer.core.madmin INFO    Added benchmark neg_ww: cHG = 0.40, cHGtil = -1.53e+01)\n"
     ]
    }
   ],
   "source": [
    "miner.add_benchmark({'cHG':0., 'cHGtil':0.}, 'sm')\n",
    "miner.add_benchmark({'cHG':15.2, 'cHGtil':0.1}, 'w')\n",
    "miner.add_benchmark({'cHG':-15.4, 'cHGtil':0.2}, 'neg_w')\n",
    "miner.add_benchmark({'cHG':0.3, 'cHGtil':15.1}, 'ww')\n",
    "miner.add_benchmark({'cHG':0.4, 'cHGtil':-15.3}, 'neg_ww')"
   ]
  },
  {
   "cell_type": "code",
   "execution_count": 254,
   "metadata": {},
   "outputs": [
    {
     "name": "stderr",
     "output_type": "stream",
     "text": [
      "12:10 madminer.core.madmin INFO    Added benchmark sm: cHW = 0.00e+00, cHbox = 0.00e+00)\n",
      "12:10 madminer.core.madmin INFO    Added benchmark w: cHW = 15.20, cHbox = 0.10)\n",
      "12:10 madminer.core.madmin INFO    Added benchmark neg_w: cHW = -1.54e+01, cHbox = 0.20)\n",
      "12:10 madminer.core.madmin INFO    Added benchmark ww: cHW = 0.30, cHbox = 15.10)\n",
      "12:10 madminer.core.madmin INFO    Added benchmark neg_ww: cHW = 0.40, cHbox = -1.53e+01)\n"
     ]
    }
   ],
   "source": [
    "miner.add_benchmark({'cHW':0., 'cHbox':0.}, 'sm')\n",
    "miner.add_benchmark({'cHW':15.2, 'cHbox':0.1}, 'w')\n",
    "miner.add_benchmark({'cHW':-15.4, 'cHbox':0.2}, 'neg_w')\n",
    "miner.add_benchmark({'cHW':0.3, 'cHbox':15.1}, 'ww')\n",
    "miner.add_benchmark({'cHW':0.4, 'cHbox':-15.3}, 'neg_ww')"
   ]
  },
  {
   "cell_type": "code",
   "execution_count": 6,
   "metadata": {},
   "outputs": [
    {
     "name": "stderr",
     "output_type": "stream",
     "text": [
      "12:25 madminer.core.madmin INFO    Optimizing basis for morphing\n",
      "12:25 madminer.core.madmin INFO    Set up morphing with 2 parameters, 6 morphing components, 5 predefined basis points, and 1 new basis points\n"
     ]
    }
   ],
   "source": [
    "\n",
    "miner.set_morphing(\n",
    "    include_existing_benchmarks=True,\n",
    "    n_trials=1000,\n",
    "    max_overall_power=2\n",
    ")"
   ]
  },
  {
   "cell_type": "markdown",
   "metadata": {},
   "source": [
    "## 4. Morphing"
   ]
  },
  {
   "cell_type": "markdown",
   "metadata": {},
   "source": [
    "Morphing is a powerful technique that allows for the fast and exact interpolation of event weights (or any derived quantity) from a set of original benchmark points (the \"morphing basis\") to anywhere in theory parameter space. This procedure depends on the powers with which the parameters affect the differential cross sections (this is why `add_parameter()` wants to know about this). Please see Sec. II.C.2 of [\"A Guide to Constraining Effective Field Theories With Machine Learning\"](https://arxiv.org/abs/1805.00020) for an explanation of the techniqe.\n",
    "\n",
    "Morphing is not strictly necessary to run MadMiner, but it makes life easier in so many ways (and many methods are so far only implemented for morphing-based problems). We strongly recommend to use this wherever possible.\n",
    "\n",
    "To activate morphing, the function `set_morphing` has to be called. With the option `include_existing_benchmarks=True`, MadMiner will keep all the benchmark points defined beforehand and run a simple optimization algorithm to fix the remaining ones for the basis (which may be none). Otherwise, MadMiner will optimize the full basis and forget about all previously defined benchmark points.\n",
    "\n",
    "The other important keyword is `max_overall_power`. This sets the maximal combined power with which all parameters together contribute to the squared matrix element (cross section). This constraint is in addition to the `morphing_max_power` keyword of `add_parameter()` (see above). For instance, if there are two parameters of interest `a` and `b`, and it is known that there are contributions proportional to `1` (constant), `a`, `a^2`, `b`, `b^2`, and `ab`, then `max_overall_power=2`. If there are also contributions proportional to `a^2 b`, `a b^2`, and `a^2 b^2`, then `max_overall_power=4`."
   ]
  },
  {
   "cell_type": "code",
   "execution_count": 7,
   "metadata": {
    "scrolled": true
   },
   "outputs": [
    {
     "name": "stderr",
     "output_type": "stream",
     "text": [
      "12:25 madminer.core.madmin INFO    Optimizing basis for morphing\n",
      "12:25 madminer.core.madmin WARNING Reset morphing\n",
      "12:25 madminer.core.madmin INFO    Set up morphing with 2 parameters, 6 morphing components, 6 predefined basis points, and 0 new basis points\n"
     ]
    }
   ],
   "source": [
    "miner.set_morphing(include_existing_benchmarks=True, max_overall_power=2)"
   ]
  },
  {
   "cell_type": "markdown",
   "metadata": {},
   "source": [
    "Let's have a look at the resulting morphing basis and the \"morphing error\", i.e. the sum of squared morphing weights as a function of the parameter space. The black dots mark the benchmarks at which the squared matrix element will be evaluated when MadGraph is run. In between them, the morphing will interpolate. Since the morphing knows about the functional form of the amplitudes, there is only a small numerical uncertainty in this interpolation, we expect that the color in this plot is indicative of this uncertainty."
   ]
  },
  {
   "cell_type": "code",
   "execution_count": 8,
   "metadata": {},
   "outputs": [
    {
     "name": "stderr",
     "output_type": "stream",
     "text": [
      "12:25 madminer.core.madmin INFO    Optimizing basis for morphing\n",
      "12:25 madminer.core.madmin WARNING Reset morphing\n",
      "12:25 madminer.core.madmin INFO    Set up morphing with 2 parameters, 6 morphing components, 6 predefined basis points, and 0 new basis points\n"
     ]
    },
    {
     "data": {
      "image/png": "[encoded data removed]",
      "text/plain": [
       "<Figure size 468x360 with 2 Axes>"
      ]
     },
     "metadata": {
      "needs_background": "light"
     },
     "output_type": "display_data"
    }
   ],
   "source": [
    "miner.set_morphing(include_existing_benchmarks=True, max_overall_power=2)\n",
    "\n",
    "fig = plot_2d_morphing_basis(\n",
    "    miner.morpher,\n",
    "    xlabel=r'$c_{W} v^2 / \\Lambda^2$',\n",
    "    ylabel=r'$c_{\\tilde{W}} v^2 / \\Lambda^2$',\n",
    "    xrange=(-20.,20.),\n",
    "    yrange=(-20.,20.)\n",
    ")"
   ]
  },
  {
   "cell_type": "markdown",
   "metadata": {},
   "source": [
    "Note that squared weights (the colormap here) up to 1000 or even 10000 can still be perfectly fine and are in fact sometimes unavoidable."
   ]
  },
  {
   "cell_type": "markdown",
   "metadata": {},
   "source": [
    "## 5. Save setup"
   ]
  },
  {
   "cell_type": "markdown",
   "metadata": {},
   "source": [
    "The parameter space, benchmark points, and morphing setup are saved in a HDF5 file:"
   ]
  },
  {
   "cell_type": "code",
   "execution_count": 122,
   "metadata": {},
   "outputs": [
    {
     "name": "stderr",
     "output_type": "stream",
     "text": [
      "20:06 madminer.core.madmin INFO    Saving setup (including morphing) to data_dim6_3/setup.h5\n"
     ]
    }
   ],
   "source": [
    "miner.save('data_dim6_3/setup.h5')"
   ]
  },
  {
   "cell_type": "markdown",
   "metadata": {},
   "source": [
    "They can now be loaded again with `miner.load(filename)`."
   ]
  },
  {
   "cell_type": "markdown",
   "metadata": {},
   "source": [
    "That's it for the setup (we'll only add one step when talking about systematic uncertainties in part 5 of the tutorial). Please continue with part 2a **or** part 2b, depending on whether you want to run the faster parton-level analysis or the more realistic Delphes-level analysis."
   ]
  },
  {
   "cell_type": "code",
   "execution_count": 4,
   "metadata": {},
   "outputs": [],
   "source": [
    "import h5py\n"
   ]
  },
  {
   "cell_type": "code",
   "execution_count": 18,
   "metadata": {},
   "outputs": [
    {
     "name": "stdout",
     "output_type": "stream",
     "text": [
      "[b'sm' b'w' b'neg_w' b'ww' b'neg_ww' b'morphing_basis_vector_5']\n"
     ]
    }
   ],
   "source": [
    "def get_all(name):\n",
    "    print(name)\n",
    "\n",
    "with h5py.File('/data_CMS/cms/cortinovis/ewdim6/data_ew_1M/setup.h5', 'r') as f:\n",
    "    #g_name = f.visit(get_all)\n",
    "    d = f['benchmarks/names']\n",
    "    print(d[:])\n",
    "\n",
    "\n",
    "\n"
   ]
  },
  {
   "cell_type": "code",
   "execution_count": 14,
   "metadata": {},
   "outputs": [
    {
     "name": "stdout",
     "output_type": "stream",
     "text": [
      "[[ 1.00000000e+00  0.00000000e+00  0.00000000e+00  0.00000000e+00\n",
      "   0.00000000e+00  0.00000000e+00]\n",
      " [ 1.12593751e-03 -1.02369321e-03 -9.10396198e-05  3.30831464e-02\n",
      "  -3.43328912e-02  1.23854016e-03]\n",
      " [-4.34495149e-03 -3.99539224e-05  4.76672776e-05  2.18079535e-03\n",
      "   2.16887999e-03 -1.24372086e-05]\n",
      " [ 1.48409492e-06  3.26245614e-02 -3.22552916e-02  1.46753467e-07\n",
      "  -9.04252322e-04  5.33351685e-04]\n",
      " [-5.72263166e-03  3.21982079e-03 -1.83662987e-06  7.07067098e-04\n",
      "   5.33511735e-03 -3.53753695e-03]\n",
      " [-4.29100287e-03  2.16116390e-03  2.12210808e-03 -1.90750313e-05\n",
      "   3.91571037e-05 -1.23511907e-05]]\n"
     ]
    }
   ],
   "source": [
    "with h5py.File('/data_CMS/cms/cortinovis/ewdim6/data_ew_1M/delphes_data.h5', 'r') as f:\n",
    "    #g_name = f.visit(get_all)\n",
    "    d = f['morphing/morphing_matrix']\n",
    "    print(d[:])"
   ]
  },
  {
   "cell_type": "code",
   "execution_count": 12,
   "metadata": {},
   "outputs": [
    {
     "name": "stdout",
     "output_type": "stream",
     "text": [
      "benchmarks\n",
      "benchmarks/is_nuisance\n",
      "benchmarks/names\n",
      "benchmarks/values\n",
      "morphing\n",
      "morphing/components\n",
      "morphing/morphing_matrix\n",
      "parameters\n",
      "parameters/lha_blocks\n",
      "parameters/lha_ids\n",
      "parameters/max_power\n",
      "parameters/names\n",
      "parameters/ranges\n",
      "parameters/transforms\n"
     ]
    }
   ],
   "source": [
    "with h5py.File('/data_CMS/cms/cortinovis/ewdim6/data_ew_1M/setup.h5', 'r') as f:\n",
    "    g_name = f.visit(get_all)\n",
    "    #d = f['benchmarks/values']\n",
    "    #print(d[:])"
   ]
  },
  {
   "cell_type": "code",
   "execution_count": null,
   "metadata": {},
   "outputs": [],
   "source": []
  }
 ],
 "metadata": {
  "kernelspec": {
   "display_name": "Python 3",
   "language": "python",
   "name": "python3"
  },
  "language_info": {
   "codemirror_mode": {
    "name": "ipython",
    "version": 3
   },
   "file_extension": ".py",
   "mimetype": "text/x-python",
   "name": "python",
   "nbconvert_exporter": "python",
   "pygments_lexer": "ipython3",
   "version": "3.7.0"
  }
 },
 "nbformat": 4,
 "nbformat_minor": 2
}
