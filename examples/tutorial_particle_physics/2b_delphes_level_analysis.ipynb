{
 "cells": [
  {
   "cell_type": "markdown",
   "metadata": {},
   "source": [
    "# MadMiner particle physics tutorial\n",
    "\n",
    "# Part 2b: Analyzing events at Delphes level\n",
    "\n",
    "Johann Brehmer, Felix Kling, Irina Espejo, and Kyle Cranmer 2018-2019"
   ]
  },
  {
   "cell_type": "markdown",
   "metadata": {},
   "source": [
    "In this second part of the tutorial, we'll generate events and extract the observables and weights from them. You have two options: In this notebook we'll do this with Delphes, in the alternative part 2a we stick to parton level."
   ]
  },
  {
   "cell_type": "markdown",
   "metadata": {},
   "source": [
    "## 0. Preparations"
   ]
  },
  {
   "cell_type": "markdown",
   "metadata": {},
   "source": [
    "Before you execute this notebook, make sure you have working installations of MadGraph, Pythia, and Delphes."
   ]
  },
  {
   "cell_type": "code",
   "execution_count": 184,
   "metadata": {},
   "outputs": [],
   "source": [
    "from __future__ import absolute_import, division, print_function, unicode_literals\n",
    "\n",
    "import logging\n",
    "import numpy as np\n",
    "import matplotlib\n",
    "from matplotlib import pyplot as plt\n",
    "%matplotlib inline\n",
    "\n",
    "\n",
    "from madminer.core import MadMiner\n",
    "from madminer.delphes import DelphesReader\n",
    "from madminer.sampling import combine_and_shuffle\n",
    "from madminer.plotting import plot_distributions\n"
   ]
  },
  {
   "cell_type": "code",
   "execution_count": 185,
   "metadata": {},
   "outputs": [],
   "source": [
    "# MadMiner output\n",
    "logging.basicConfig(\n",
    "    format='%(asctime)-5.5s %(name)-20.20s %(levelname)-7.7s %(message)s',\n",
    "    datefmt='%H:%M',\n",
    "    level=logging.DEBUG\n",
    ")\n",
    "\n",
    "# Output of all other modules (e.g. matplotlib)\n",
    "for key in logging.Logger.manager.loggerDict:\n",
    "    if \"madminer\" not in key:\n",
    "        logging.getLogger(key).setLevel(logging.WARNING)"
   ]
  },
  {
   "cell_type": "markdown",
   "metadata": {},
   "source": [
    "Please enter here the path to your MG5 root directory. This notebook assumes that you installed Delphes and Pythia through MG5."
   ]
  },
  {
   "cell_type": "code",
   "execution_count": 176,
   "metadata": {},
   "outputs": [],
   "source": [
    "mg_dir = '/home/llr/cms/cortinovis/EFT2Obs/MG5_aMC_v2_6_7'"
   ]
  },
  {
   "cell_type": "markdown",
   "metadata": {},
   "source": [
    "## 1. Generate events"
   ]
  },
  {
   "cell_type": "markdown",
   "metadata": {},
   "source": [
    "Let's load our setup:"
   ]
  },
  {
   "cell_type": "code",
   "execution_count": 186,
   "metadata": {},
   "outputs": [
    {
     "name": "stderr",
     "output_type": "stream",
     "text": [
      "16:17 madminer.utils.inter DEBUG   HDF5 file does not contain is_reference field.\n",
      "16:17 madminer.core.madmin INFO    Found 2 parameters:\n",
      "16:17 madminer.core.madmin INFO       CWL2 (LHA: dim6 2, maximal power in squared ME: (2,), range: (-20.0, 20.0))\n",
      "16:17 madminer.core.madmin INFO       CPWL2 (LHA: dim6 5, maximal power in squared ME: (2,), range: (-20.0, 20.0))\n",
      "16:17 madminer.core.madmin INFO    Found 6 benchmarks:\n",
      "16:17 madminer.core.madmin INFO       sm: CWL2 = 0.00e+00, CPWL2 = 0.00e+00\n",
      "16:17 madminer.core.madmin INFO       w: CWL2 = 15.20, CPWL2 = 0.10\n",
      "16:17 madminer.core.madmin INFO       neg_w: CWL2 = -1.54e+01, CPWL2 = 0.20\n",
      "16:17 madminer.core.madmin INFO       ww: CWL2 = 0.30, CPWL2 = 15.10\n",
      "16:17 madminer.core.madmin INFO       neg_ww: CWL2 = 0.40, CPWL2 = -1.53e+01\n",
      "16:17 madminer.core.madmin INFO       morphing_basis_vector_5: CWL2 = 14.51, CPWL2 = -2.00e+01\n",
      "16:17 madminer.core.madmin INFO    Found morphing setup with 6 components\n",
      "16:17 madminer.core.madmin INFO    Did not find systematics setup.\n"
     ]
    }
   ],
   "source": [
    "miner = MadMiner()\n",
    "miner.load(\"data_ew/setup.h5\")"
   ]
  },
  {
   "cell_type": "markdown",
   "metadata": {},
   "source": [
    "In a next step, MadMiner starts MadGraph and Pythia to generate events and calculate the weights. You can use `run()` or `run_multiple()`; the latter allows to generate different runs with different run cards and optimizing the phase space for different benchmark points. \n",
    "\n",
    "In either case, you have to provide paths to the process card, run card, param card (the entries corresponding to the parameters of interest will be automatically adapted), and an empty reweight card. Log files in the `log_directory` folder collect the MadGraph output and are important for debugging.\n",
    "\n",
    "The `sample_benchmark` (or in the case of `run_all`, `sample_benchmarks`) option can be used to specify which benchmark should be used for sampling, i.e. for which benchmark point the phase space is optimized. If you just use one benchmark, reweighting to far-away points in parameter space can lead to large event weights and thus large statistical fluctuations. It is therefore often a good idea to combine at least a few different benchmarks for this option. Here we use the SM and the benchmark \"w\" that we defined during the setup step.\n",
    "\n",
    "One slight annoyance is that MadGraph only supports Python 2. The `run()` and `run_multiple()` commands have a keyword `initial_command` that let you load a virtual environment in which `python` maps to Python 2 (which is what we do below). Alternatively / additionally you can set `python2_override=True`, which calls `python2.7` instead of `python` to start MadGraph."
   ]
  },
  {
   "cell_type": "code",
   "execution_count": 193,
   "metadata": {},
   "outputs": [
    {
     "name": "stderr",
     "output_type": "stream",
     "text": [
      "16:52 madminer.utils.inter INFO    Generating MadGraph process folder from cards/proc_card_signal.dat at ./mg_processes_ew/signal_pythia\n",
      "16:52 madminer.core.madmin INFO    Run 0\n",
      "16:52 madminer.core.madmin INFO      Sampling from benchmark: sm\n",
      "16:52 madminer.core.madmin INFO      Original run card:       cards/run_card_signal_large.dat\n",
      "16:52 madminer.core.madmin INFO      Original Pythia8 card:   cards/pythia8_card.dat\n",
      "16:52 madminer.core.madmin INFO      Original config card:    None\n",
      "16:52 madminer.core.madmin INFO      Copied run card:         /madminer/cards/run_card_0.dat\n",
      "16:52 madminer.core.madmin INFO      Copied Pythia8 card:     /madminer/cards/pythia8_card_0.dat\n",
      "16:52 madminer.core.madmin INFO      Copied config card:      None\n",
      "16:52 madminer.core.madmin INFO      Param card:              /madminer/cards/param_card_0.dat\n",
      "16:52 madminer.core.madmin INFO      Reweight card:           /madminer/cards/reweight_card_0.dat\n",
      "16:52 madminer.core.madmin INFO      Log file:                run_0.log\n",
      "16:52 madminer.core.madmin INFO    Creating param and reweight cards in ./mg_processes_ew/signal_pythia//madminer/cards/param_card_0.dat, ./mg_processes_ew/signal_pythia//madminer/cards/reweight_card_0.dat\n",
      "16:52 madminer.utils.inter INFO    Starting MadGraph and Pythia in ./mg_processes_ew/signal_pythia\n",
      "17:35 madminer.core.madmin INFO    Finished running MadGraph! Please check that events were succesfully generated in the following folders:\n",
      "\n",
      "./mg_processes_ew/signal_pythia/Events/run_01\n",
      "\n",
      "\n"
     ]
    }
   ],
   "source": [
    "miner.run(\n",
    "    sample_benchmark='sm',\n",
    "    temp_directory = './',\n",
    "    mg_directory=mg_dir,\n",
    "    mg_process_directory='./mg_processes_ew/signal_pythia',\n",
    "    proc_card_file='cards/proc_card_signal.dat',\n",
    "    param_card_template_file='cards/param_card_template.dat',\n",
    "    pythia8_card_file='cards/pythia8_card.dat',\n",
    "    run_card_file='cards/run_card_signal_large.dat',\n",
    "    log_directory='logs_ew/signal',\n",
    "    initial_command=\"PYTHONPATH=/usr/lib64/python\",\n",
    "    python2_override=True,\n",
    ")\n",
    "\n"
   ]
  },
  {
   "cell_type": "code",
   "execution_count": 194,
   "metadata": {},
   "outputs": [],
   "source": [
    "additional_benchmarks = ['w', 'ww', 'neg_w', 'neg_ww']"
   ]
  },
  {
   "cell_type": "code",
   "execution_count": 195,
   "metadata": {
    "scrolled": true
   },
   "outputs": [
    {
     "name": "stderr",
     "output_type": "stream",
     "text": [
      "17:35 madminer.utils.inter INFO    Generating MadGraph process folder from cards/proc_card_signal.dat at ./mg_processes_ew/signal_pythia2\n",
      "17:35 madminer.core.madmin INFO    Run 0\n",
      "17:35 madminer.core.madmin INFO      Sampling from benchmark: w\n",
      "17:35 madminer.core.madmin INFO      Original run card:       cards/run_card_signal_small.dat\n",
      "17:35 madminer.core.madmin INFO      Original Pythia8 card:   cards/pythia8_card.dat\n",
      "17:35 madminer.core.madmin INFO      Original config card:    None\n",
      "17:35 madminer.core.madmin INFO      Copied run card:         /madminer/cards/run_card_0.dat\n",
      "17:35 madminer.core.madmin INFO      Copied Pythia8 card:     /madminer/cards/pythia8_card_0.dat\n",
      "17:35 madminer.core.madmin INFO      Copied config card:      None\n",
      "17:35 madminer.core.madmin INFO      Param card:              /madminer/cards/param_card_0.dat\n",
      "17:35 madminer.core.madmin INFO      Reweight card:           /madminer/cards/reweight_card_0.dat\n",
      "17:35 madminer.core.madmin INFO      Log file:                run_0.log\n",
      "17:35 madminer.core.madmin INFO    Creating param and reweight cards in ./mg_processes_ew/signal_pythia2//madminer/cards/param_card_0.dat, ./mg_processes_ew/signal_pythia2//madminer/cards/reweight_card_0.dat\n",
      "17:35 madminer.utils.inter INFO    Starting MadGraph and Pythia in ./mg_processes_ew/signal_pythia2\n",
      "18:06 madminer.core.madmin INFO    Run 1\n",
      "18:06 madminer.core.madmin INFO      Sampling from benchmark: ww\n",
      "18:06 madminer.core.madmin INFO      Original run card:       cards/run_card_signal_small.dat\n",
      "18:06 madminer.core.madmin INFO      Original Pythia8 card:   cards/pythia8_card.dat\n",
      "18:06 madminer.core.madmin INFO      Original config card:    None\n",
      "18:06 madminer.core.madmin INFO      Copied run card:         /madminer/cards/run_card_1.dat\n",
      "18:06 madminer.core.madmin INFO      Copied Pythia8 card:     /madminer/cards/pythia8_card_1.dat\n",
      "18:06 madminer.core.madmin INFO      Copied config card:      None\n",
      "18:06 madminer.core.madmin INFO      Param card:              /madminer/cards/param_card_1.dat\n",
      "18:06 madminer.core.madmin INFO      Reweight card:           /madminer/cards/reweight_card_1.dat\n",
      "18:06 madminer.core.madmin INFO      Log file:                run_1.log\n",
      "18:06 madminer.core.madmin INFO    Creating param and reweight cards in ./mg_processes_ew/signal_pythia2//madminer/cards/param_card_1.dat, ./mg_processes_ew/signal_pythia2//madminer/cards/reweight_card_1.dat\n",
      "18:06 madminer.utils.inter INFO    Starting MadGraph and Pythia in ./mg_processes_ew/signal_pythia2\n",
      "18:24 madminer.core.madmin INFO    Run 2\n",
      "18:24 madminer.core.madmin INFO      Sampling from benchmark: neg_w\n",
      "18:24 madminer.core.madmin INFO      Original run card:       cards/run_card_signal_small.dat\n",
      "18:24 madminer.core.madmin INFO      Original Pythia8 card:   cards/pythia8_card.dat\n",
      "18:24 madminer.core.madmin INFO      Original config card:    None\n",
      "18:24 madminer.core.madmin INFO      Copied run card:         /madminer/cards/run_card_2.dat\n",
      "18:24 madminer.core.madmin INFO      Copied Pythia8 card:     /madminer/cards/pythia8_card_2.dat\n",
      "18:24 madminer.core.madmin INFO      Copied config card:      None\n",
      "18:24 madminer.core.madmin INFO      Param card:              /madminer/cards/param_card_2.dat\n",
      "18:24 madminer.core.madmin INFO      Reweight card:           /madminer/cards/reweight_card_2.dat\n",
      "18:24 madminer.core.madmin INFO      Log file:                run_2.log\n",
      "18:24 madminer.core.madmin INFO    Creating param and reweight cards in ./mg_processes_ew/signal_pythia2//madminer/cards/param_card_2.dat, ./mg_processes_ew/signal_pythia2//madminer/cards/reweight_card_2.dat\n",
      "18:24 madminer.utils.inter INFO    Starting MadGraph and Pythia in ./mg_processes_ew/signal_pythia2\n",
      "18:55 madminer.core.madmin INFO    Run 3\n",
      "18:55 madminer.core.madmin INFO      Sampling from benchmark: neg_ww\n",
      "18:55 madminer.core.madmin INFO      Original run card:       cards/run_card_signal_small.dat\n",
      "18:55 madminer.core.madmin INFO      Original Pythia8 card:   cards/pythia8_card.dat\n",
      "18:55 madminer.core.madmin INFO      Original config card:    None\n",
      "18:55 madminer.core.madmin INFO      Copied run card:         /madminer/cards/run_card_3.dat\n",
      "18:55 madminer.core.madmin INFO      Copied Pythia8 card:     /madminer/cards/pythia8_card_3.dat\n",
      "18:55 madminer.core.madmin INFO      Copied config card:      None\n",
      "18:55 madminer.core.madmin INFO      Param card:              /madminer/cards/param_card_3.dat\n",
      "18:55 madminer.core.madmin INFO      Reweight card:           /madminer/cards/reweight_card_3.dat\n",
      "18:55 madminer.core.madmin INFO      Log file:                run_3.log\n",
      "18:55 madminer.core.madmin INFO    Creating param and reweight cards in ./mg_processes_ew/signal_pythia2//madminer/cards/param_card_3.dat, ./mg_processes_ew/signal_pythia2//madminer/cards/reweight_card_3.dat\n",
      "18:55 madminer.utils.inter INFO    Starting MadGraph and Pythia in ./mg_processes_ew/signal_pythia2\n",
      "19:14 madminer.core.madmin INFO    Finished running MadGraph! Please check that events were succesfully generated in the following folders:\n",
      "\n",
      "./mg_processes_ew/signal_pythia2/Events/run_01\n",
      "./mg_processes_ew/signal_pythia2/Events/run_02\n",
      "./mg_processes_ew/signal_pythia2/Events/run_03\n",
      "./mg_processes_ew/signal_pythia2/Events/run_04\n",
      "\n",
      "\n"
     ]
    }
   ],
   "source": [
    "miner.run_multiple(\n",
    "    sample_benchmarks=additional_benchmarks,\n",
    "    mg_directory=mg_dir,\n",
    "    temp_directory = './',\n",
    "    mg_process_directory='./mg_processes_ew/signal_pythia2',\n",
    "    proc_card_file='cards/proc_card_signal.dat',\n",
    "    param_card_template_file='cards/param_card_template.dat',\n",
    "    pythia8_card_file='cards/pythia8_card.dat',\n",
    "    run_card_files=['cards/run_card_signal_small.dat'],\n",
    "    log_directory='logs_ew/signal2',\n",
    "    initial_command=\"PYTHONPATH=/usr/lib64/python\",\n",
    "    python2_override=True,\n",
    ")"
   ]
  },
  {
   "cell_type": "markdown",
   "metadata": {},
   "source": [
    "This will take a moment -- time for a coffee break!\n",
    "\n",
    "After running any event generation through MadMiner, you should check whether the run succeeded: are the usual output files there (LHE and HepMC), do the log files show any error messages? MadMiner does not (yet) perform any explicit checks, and if something went wrong in the event generation, it will only notice later when trying to load the event files."
   ]
  },
  {
   "cell_type": "markdown",
   "metadata": {},
   "source": [
    "### Backgrounds"
   ]
  },
  {
   "cell_type": "markdown",
   "metadata": {},
   "source": [
    "We can also easily add other processes like backgrounds. An important option is the `is_background` keyword, which should be used for processes that do *not* depend on the parameters theta. `is_background=True` will disable the reweighting and re-use the same weights for all cross sections.\n",
    "\n",
    "To reduce the runtime of the notebook, the background part is commented out here. Feel free to activate it and let it run during a lunch break."
   ]
  },
  {
   "cell_type": "code",
   "execution_count": 145,
   "metadata": {},
   "outputs": [
    {
     "data": {
      "text/plain": [
       "\"\\nminer.run(\\n    is_background=True,\\n    sample_benchmark='sm',\\n    mg_directory=mg_dir,\\n    mg_process_directory='./mg_processes/background_pythia',\\n    proc_card_file='cards/proc_card_background.dat',\\n    pythia8_card_file='cards/pythia8_card.dat',\\n    param_card_template_file='cards/param_card_template.dat',\\n    run_card_file='cards/run_card_background.dat',\\n    log_directory='logs/background',\\n)\\n\""
      ]
     },
     "execution_count": 145,
     "metadata": {},
     "output_type": "execute_result"
    }
   ],
   "source": [
    "\"\"\"\n",
    "miner.run(\n",
    "    is_background=True,\n",
    "    sample_benchmark='sm',\n",
    "    mg_directory=mg_dir,\n",
    "    mg_process_directory='./mg_processes/background_pythia',\n",
    "    proc_card_file='cards/proc_card_background.dat',\n",
    "    pythia8_card_file='cards/pythia8_card.dat',\n",
    "    param_card_template_file='cards/param_card_template.dat',\n",
    "    run_card_file='cards/run_card_background.dat',\n",
    "    log_directory='logs/background',\n",
    ")\n",
    "\"\"\""
   ]
  },
  {
   "cell_type": "markdown",
   "metadata": {},
   "source": [
    "Finally, note that both `MadMiner.run()` and `MadMiner.run_multiple()` have a `only_create_script` keyword. If that is set to True, MadMiner will not start the event generation directly, but prepare folders with all the right settings and ready-to-run bash scripts. This might make it much easier to generate Events on a high-performance computing system. "
   ]
  },
  {
   "cell_type": "markdown",
   "metadata": {},
   "source": [
    "## 2. Run Delphes"
   ]
  },
  {
   "cell_type": "markdown",
   "metadata": {},
   "source": [
    "The `madminer.delphes.DelphesReader` class wraps around Delphes, a popular fast detector simulation, to simulate the effects of the detector."
   ]
  },
  {
   "cell_type": "code",
   "execution_count": 196,
   "metadata": {},
   "outputs": [
    {
     "name": "stderr",
     "output_type": "stream",
     "text": [
      "19:14 madminer.utils.inter DEBUG   HDF5 file does not contain is_reference field.\n"
     ]
    }
   ],
   "source": [
    "delphes = DelphesReader('data_ew/setup.h5')"
   ]
  },
  {
   "cell_type": "markdown",
   "metadata": {},
   "source": [
    "After creating the `DelphesReader` object, one can add a number of event samples (the output of running MadGraph and Pythia in step 1 above) with the `add_sample()` function.\n",
    "\n",
    "In addition, you have to provide the information which sample was generated from which benchmark with the `sampled_from_benchmark` keyword, and set `is_background=True` for all background samples."
   ]
  },
  {
   "cell_type": "code",
   "execution_count": 197,
   "metadata": {
    "scrolled": false
   },
   "outputs": [
    {
     "name": "stderr",
     "output_type": "stream",
     "text": [
      "19:14 madminer.delphes.del DEBUG   Adding event sample mg_processes_ew/signal_pythia/Events/run_01/tag_1_pythia8_events.hepmc.gz\n",
      "19:14 madminer.delphes.del DEBUG   Adding event sample mg_processes_ew/signal_pythia2/Events/run_01/tag_1_pythia8_events.hepmc.gz\n",
      "19:14 madminer.delphes.del DEBUG   Adding event sample mg_processes_ew/signal_pythia2/Events/run_02/tag_1_pythia8_events.hepmc.gz\n",
      "19:14 madminer.delphes.del DEBUG   Adding event sample mg_processes_ew/signal_pythia2/Events/run_03/tag_1_pythia8_events.hepmc.gz\n",
      "19:14 madminer.delphes.del DEBUG   Adding event sample mg_processes_ew/signal_pythia2/Events/run_04/tag_1_pythia8_events.hepmc.gz\n"
     ]
    },
    {
     "data": {
      "text/plain": [
       "\"\\ndelphes.add_sample(\\n    lhe_filename='mg_processes/background_pythia/Events/run_01/unweighted_events.lhe.gz',\\n    hepmc_filename='mg_processes/background_pythia/Events/run_01/tag_1_pythia8_events.hepmc.gz',\\n    sampled_from_benchmark='sm',\\n    is_background=True,\\n    k_factor=1.0,\\n\""
      ]
     },
     "execution_count": 197,
     "metadata": {},
     "output_type": "execute_result"
    }
   ],
   "source": [
    "delphes.add_sample(\n",
    "    lhe_filename='mg_processes_ew/signal_pythia/Events/run_01/unweighted_events.lhe.gz',\n",
    "    hepmc_filename='mg_processes_ew/signal_pythia/Events/run_01/tag_1_pythia8_events.hepmc.gz',\n",
    "    sampled_from_benchmark='sm',\n",
    "    is_background=False,\n",
    "    k_factor=1.1, #Why??\n",
    ")\n",
    "\n",
    "for i, benchmark in enumerate(additional_benchmarks):\n",
    "    delphes.add_sample(\n",
    "        lhe_filename='mg_processes_ew/signal_pythia2/Events/run_0{}/unweighted_events.lhe.gz'.format(i+1),\n",
    "        hepmc_filename='mg_processes_ew/signal_pythia2/Events/run_0{}/tag_1_pythia8_events.hepmc.gz'.format(i+1),\n",
    "        sampled_from_benchmark=benchmark,\n",
    "        is_background=False,\n",
    "        k_factor=1.1,\n",
    "    )\n",
    "\n",
    "\"\"\"\n",
    "delphes.add_sample(\n",
    "    lhe_filename='mg_processes/background_pythia/Events/run_01/unweighted_events.lhe.gz',\n",
    "    hepmc_filename='mg_processes/background_pythia/Events/run_01/tag_1_pythia8_events.hepmc.gz',\n",
    "    sampled_from_benchmark='sm',\n",
    "    is_background=True,\n",
    "    k_factor=1.0,\n",
    "\"\"\"\n"
   ]
  },
  {
   "cell_type": "markdown",
   "metadata": {},
   "source": [
    "Now we run Delphes on these samples (you can also do this externally and then add the keyword `delphes_filename` when calling `DelphesReader.add_sample()`):"
   ]
  },
  {
   "cell_type": "code",
   "execution_count": 198,
   "metadata": {
    "scrolled": false
   },
   "outputs": [
    {
     "name": "stderr",
     "output_type": "stream",
     "text": [
      "19:14 madminer.delphes.del INFO    Running Delphes on HepMC sample at mg_processes_ew/signal_pythia/Events/run_01/tag_1_pythia8_events.hepmc.gz\n",
      "19:14 madminer.utils.inter DEBUG   Unzipping mg_processes_ew/signal_pythia/Events/run_01/tag_1_pythia8_events.hepmc.gz\n",
      "19:20 madminer.utils.inter DEBUG   Deleting mg_processes_ew/signal_pythia/Events/run_01/tag_1_pythia8_events.hepmc\n",
      "19:20 madminer.delphes.del INFO    Running Delphes on HepMC sample at mg_processes_ew/signal_pythia2/Events/run_01/tag_1_pythia8_events.hepmc.gz\n",
      "19:20 madminer.utils.inter DEBUG   Unzipping mg_processes_ew/signal_pythia2/Events/run_01/tag_1_pythia8_events.hepmc.gz\n",
      "19:22 madminer.utils.inter DEBUG   Deleting mg_processes_ew/signal_pythia2/Events/run_01/tag_1_pythia8_events.hepmc\n",
      "19:22 madminer.delphes.del INFO    Running Delphes on HepMC sample at mg_processes_ew/signal_pythia2/Events/run_02/tag_1_pythia8_events.hepmc.gz\n",
      "19:22 madminer.utils.inter DEBUG   Unzipping mg_processes_ew/signal_pythia2/Events/run_02/tag_1_pythia8_events.hepmc.gz\n",
      "19:24 madminer.utils.inter DEBUG   Deleting mg_processes_ew/signal_pythia2/Events/run_02/tag_1_pythia8_events.hepmc\n",
      "19:24 madminer.delphes.del INFO    Running Delphes on HepMC sample at mg_processes_ew/signal_pythia2/Events/run_03/tag_1_pythia8_events.hepmc.gz\n",
      "19:24 madminer.utils.inter DEBUG   Unzipping mg_processes_ew/signal_pythia2/Events/run_03/tag_1_pythia8_events.hepmc.gz\n",
      "19:26 madminer.utils.inter DEBUG   Deleting mg_processes_ew/signal_pythia2/Events/run_03/tag_1_pythia8_events.hepmc\n",
      "19:26 madminer.delphes.del INFO    Running Delphes on HepMC sample at mg_processes_ew/signal_pythia2/Events/run_04/tag_1_pythia8_events.hepmc.gz\n",
      "19:26 madminer.utils.inter DEBUG   Unzipping mg_processes_ew/signal_pythia2/Events/run_04/tag_1_pythia8_events.hepmc.gz\n",
      "19:28 madminer.utils.inter DEBUG   Deleting mg_processes_ew/signal_pythia2/Events/run_04/tag_1_pythia8_events.hepmc\n"
     ]
    }
   ],
   "source": [
    "delphes.run_delphes(\n",
    "    delphes_directory=mg_dir + '/HEPTools/Delphes-3.4.2',\n",
    "    delphes_card='cards/delphes_card_CMS.dat',\n",
    "    log_file='logs_ew/delphes.log',\n",
    ")"
   ]
  },
  {
   "cell_type": "markdown",
   "metadata": {},
   "source": [
    "## 3. Observables and cuts"
   ]
  },
  {
   "cell_type": "markdown",
   "metadata": {},
   "source": [
    "The next step is the definition of observables, either through a Python function or an expression that can be evaluated. Here we demonstrate the latter, which is implemented in `add_observable()`. In the expression string, you can use the terms `j[i]`, `e[i]`, `mu[i]`, `a[i]`, `met`, where the indices `i` refer to a ordering by the transverse momentum. In addition, you can use `p[i]`, which denotes the `i`-th particle in the order given in the LHE sample (which is the order in which the final-state particles where defined in MadGraph).\n",
    "\n",
    "All of these represent objects inheriting from scikit-hep [LorentzVectors](http://scikit-hep.org/api/math.html#vector-classes), see the link for a documentation of their properties. In addition, they have `charge` and `pdg_id` properties.\n",
    "\n",
    "`add_observable()` has an optional keyword `required`. If `required=True`, we will only keep events where the observable can be parsed, i.e. all involved particles have been detected. If `required=False`, un-parseable observables will be filled with the value of another keyword `default`.\n",
    "\n",
    "In a realistic project, you would want to add a large number of observables that capture all information in your events. Here we will just define two observables, the transverse momentum of the leading (= higher-pT) jet, and the azimuthal angle between the two leading jets."
   ]
  },
  {
   "cell_type": "code",
   "execution_count": 199,
   "metadata": {},
   "outputs": [
    {
     "name": "stderr",
     "output_type": "stream",
     "text": [
      "19:28 madminer.delphes.del DEBUG   Adding optional observable pt_j1 = j[0].pt with default nan\n",
      "19:28 madminer.delphes.del DEBUG   Adding optional observable delta_phi_jj = j[0].deltaphi(j[1]) * (-1. + 2.*float(j[0].eta > j[1].eta)) with default nan\n",
      "19:28 madminer.delphes.del DEBUG   Adding optional observable delta_eta_jj = j[0].deltaeta(j[1]) * (-1. + 2.*float(j[0].eta > j[1].eta)) with default nan\n",
      "19:28 madminer.delphes.del DEBUG   Adding optional observable m_jj = (j[0]+j[1]).m with default nan\n",
      "19:28 madminer.delphes.del DEBUG   Adding required observable isZZcand = isZZcand\n",
      "19:28 madminer.delphes.del DEBUG   Adding required observable H_pt = (lep1ZZ+lep2ZZ+lep3ZZ+lep4ZZ).pt\n",
      "19:28 madminer.delphes.del DEBUG   Adding required observable H_m = (lep1ZZ+lep2ZZ+lep3ZZ+lep4ZZ).m\n",
      "19:28 madminer.delphes.del DEBUG   Adding required observable Z1_pt = (lep1ZZ+lep2ZZ).pt\n",
      "19:28 madminer.delphes.del DEBUG   Adding required observable Z2_pt = (lep3ZZ+lep4ZZ).pt\n",
      "19:28 madminer.delphes.del DEBUG   Adding required observable H_eta = (lep1ZZ+lep2ZZ+lep3ZZ+lep4ZZ).eta\n",
      "19:28 madminer.delphes.del DEBUG   Adding required observable n_jets = len(j)\n",
      "19:28 madminer.delphes.del DEBUG   Adding required observable met = met.pt\n"
     ]
    }
   ],
   "source": [
    "delphes.add_observable(\n",
    "    'pt_j1',\n",
    "    'j[0].pt',\n",
    "    required=False,\n",
    "    default=float('nan'),\n",
    "    #default=0,\n",
    ")\n",
    "\n",
    "delphes.add_observable(\n",
    "    'delta_phi_jj',\n",
    "    'j[0].deltaphi(j[1]) * (-1. + 2.*float(j[0].eta > j[1].eta))',\n",
    "    required=False,\n",
    "    default=float('nan'),\n",
    "    #default=0,\n",
    ")\n",
    "\n",
    "delphes.add_observable(\n",
    "    'delta_eta_jj',\n",
    "    'j[0].deltaeta(j[1]) * (-1. + 2.*float(j[0].eta > j[1].eta))',\n",
    "    required=False,\n",
    "    default=float('nan'),\n",
    "    #default=0,\n",
    ")\n",
    "    \n",
    "\n",
    "delphes.add_observable(\n",
    "    'm_jj',\n",
    "    '(j[0]+j[1]).m',\n",
    "    required=False,\n",
    "    default=float('nan'),\n",
    "    #default=0,\n",
    ")\n",
    "    \n",
    "delphes.add_observable(\n",
    "    'isZZcand',\n",
    "    'isZZcand',\n",
    "    required=True,\n",
    ")\n",
    "\n",
    "delphes.add_observable(\n",
    "    'H_pt',\n",
    "    '(lep1ZZ+lep2ZZ+lep3ZZ+lep4ZZ).pt',\n",
    "    required=True,\n",
    ")\n",
    "\n",
    "delphes.add_observable(\n",
    "    'H_m',\n",
    "    '(lep1ZZ+lep2ZZ+lep3ZZ+lep4ZZ).m',\n",
    "    required=True,\n",
    ")\n",
    "\n",
    "delphes.add_observable(\n",
    "    'Z1_pt',\n",
    "    '(lep1ZZ+lep2ZZ).pt',\n",
    "    required=True,\n",
    ")\n",
    "\n",
    "delphes.add_observable(\n",
    "    'Z2_pt',\n",
    "    '(lep3ZZ+lep4ZZ).pt',\n",
    "    required=True,\n",
    ")\n",
    "\n",
    "delphes.add_observable(\n",
    "    'H_eta',\n",
    "    '(lep1ZZ+lep2ZZ+lep3ZZ+lep4ZZ).eta',\n",
    "    required=True,\n",
    ")\n",
    "\n",
    "delphes.add_observable(\n",
    "    'n_jets',\n",
    "    'len(j)',\n",
    "    required=True,\n",
    ")\n",
    "\n",
    "delphes.add_observable(\n",
    "    'met',\n",
    "    'met.pt',\n",
    "    required=True,\n",
    ")"
   ]
  },
  {
   "cell_type": "markdown",
   "metadata": {},
   "source": [
    "We can also add cuts, again in parse-able strings. In addition to the objects discussed above, they can contain the observables:"
   ]
  },
  {
   "cell_type": "code",
   "execution_count": 200,
   "metadata": {},
   "outputs": [
    {
     "name": "stderr",
     "output_type": "stream",
     "text": [
      "19:28 madminer.delphes.del DEBUG   Adding cut isZZcand == 1\n",
      "19:28 madminer.delphes.del DEBUG   Adding cut n_jets >= 2\n"
     ]
    }
   ],
   "source": [
    "delphes.add_cut('isZZcand == 1')\n",
    "delphes.add_cut('n_jets >= 2')"
   ]
  },
  {
   "cell_type": "markdown",
   "metadata": {},
   "source": [
    "## 4. Analyse events and store data"
   ]
  },
  {
   "cell_type": "markdown",
   "metadata": {},
   "source": [
    "The function `analyse_samples` then calculates all observables from the Delphes file(s) generated before and checks which events pass the cuts:"
   ]
  },
  {
   "cell_type": "code",
   "execution_count": 201,
   "metadata": {
    "scrolled": true
   },
   "outputs": [
    {
     "name": "stderr",
     "output_type": "stream",
     "text": [
      "19:28 madminer.delphes.del INFO    Analysing Delphes sample mg_processes_ew/signal_pythia/Events/run_01/tag_1_pythia8_events_delphes.root: Calculating 12 observables, requiring 2 selection cuts, associated with no systematics\n",
      "19:28 madminer.delphes.del DEBUG   Extracting nuisance parameter definitions from LHE file\n",
      "19:28 madminer.utils.inter DEBUG   Parsing nuisance parameter setup from LHE file at mg_processes_ew/signal_pythia/Events/run_01/unweighted_events.lhe.gz\n",
      "19:28 madminer.utils.inter DEBUG   Systematics setup: OrderedDict()\n",
      "19:28 madminer.utils.inter DEBUG   1 weight groups\n",
      "19:28 madminer.delphes.del DEBUG   systematics_dict: OrderedDict()\n",
      "19:28 madminer.utils.inter DEBUG   Parsing Delphes file mg_processes_ew/signal_pythia/Events/run_01/tag_1_pythia8_events_delphes.root\n",
      "19:28 madminer.utils.inter DEBUG   Not extracting weights\n",
      "19:28 madminer.utils.inter DEBUG   Found 50000 events\n",
      "19:29 madminer.utils.inter DEBUG     First 10 values for observable pt_j1:\n",
      "[ 73.31890869 104.86265564 194.10125732 117.82520294  38.12857437\n",
      "  79.18340302  86.36647797 175.59649658  37.04679489 222.65583801]\n",
      "19:29 madminer.utils.inter DEBUG     First 10 values for observable delta_phi_jj:\n",
      "[ 0.91647131 -0.22808409  2.47444893 -0.63475249  0.59383134  2.83387062\n",
      "  2.94728327 -2.73415039 -1.49467555  2.98515666]\n",
      "19:30 madminer.utils.inter DEBUG     First 10 values for observable delta_eta_jj:\n",
      "[6.69957924 2.61466938 5.29272985 2.59021366 6.79162359 0.30461311\n",
      " 1.66979361 6.61144114 4.54639947 2.08904421]\n",
      "19:30 madminer.utils.inter DEBUG     First 10 values for observable m_jj:\n",
      "[1185.71226514  214.44127205 1258.7534678   299.47190325 1098.45721929\n",
      "  124.60803926  232.27492426 3789.00455077  339.96470143  415.63515819]\n",
      "19:30 madminer.utils.inter DEBUG     First 10 values for observable isZZcand:\n",
      "[0. 1. 0. 0. 0. 0. 0. 0. 1. 1.]\n",
      "19:31 madminer.utils.inter DEBUG     First 10 values for observable H_pt:\n",
      "[  0.         105.14144558   0.           0.           0.\n",
      "   0.           0.           0.          46.19603551  44.51487614]\n",
      "19:31 madminer.utils.inter DEBUG     First 10 values for observable H_m:\n",
      "[  0.         125.83190043   0.           0.           0.\n",
      "   0.           0.           0.         125.31029549 121.49648813]\n",
      "19:31 madminer.utils.inter DEBUG     First 10 values for observable Z1_pt:\n",
      "[ 0.         53.50135697  0.          0.          0.          0.\n",
      "  0.          0.         25.1613724  39.08673727]\n",
      "19:32 madminer.utils.inter DEBUG     First 10 values for observable Z2_pt:\n",
      "[ 0.         82.42408778  0.          0.          0.          0.\n",
      "  0.          0.         26.6091816  12.37643712]\n",
      "19:32 madminer.utils.inter DEBUG     First 10 values for observable H_eta:\n",
      "[-1.00000000e+11 -1.23402336e+00 -1.00000000e+11 -1.00000000e+11\n",
      " -1.00000000e+11 -1.00000000e+11 -1.00000000e+11 -1.00000000e+11\n",
      "  1.35810146e+00  2.40409966e+00]\n",
      "19:32 madminer.utils.inter DEBUG     First 10 values for observable n_jets:\n",
      "[2. 4. 2. 3. 3. 2. 3. 2. 2. 2.]\n",
      "19:33 madminer.utils.inter DEBUG     First 10 values for observable met:\n",
      "[ 18.93368912  10.83922863  20.67221451   7.91958284  30.36950302\n",
      "  31.62035561  10.84302616  25.72669029  12.71375275 101.09197998]\n",
      "19:33 madminer.utils.inter DEBUG     50000 / 50000 events pass required observable isZZcand\n",
      "19:33 madminer.utils.inter DEBUG     50000 / 50000 events pass required observable H_pt\n",
      "19:33 madminer.utils.inter DEBUG     50000 / 50000 events pass required observable H_m\n",
      "19:33 madminer.utils.inter DEBUG     50000 / 50000 events pass required observable Z1_pt\n",
      "19:33 madminer.utils.inter DEBUG     50000 / 50000 events pass required observable Z2_pt\n",
      "19:33 madminer.utils.inter DEBUG     50000 / 50000 events pass required observable H_eta\n",
      "19:33 madminer.utils.inter DEBUG     50000 / 50000 events pass required observable n_jets\n",
      "19:33 madminer.utils.inter DEBUG     50000 / 50000 events pass required observable met\n",
      "19:33 madminer.utils.inter DEBUG     7620 / 50000 events pass cut isZZcand == 1\n",
      "19:33 madminer.utils.inter DEBUG     46423 / 50000 events pass cut n_jets >= 2\n",
      "19:33 madminer.utils.inter INFO      6946 / 50000 events pass everything\n",
      "19:33 madminer.delphes.del DEBUG   Did not extract weights from Delphes file\n",
      "19:33 madminer.delphes.del DEBUG   Found 6946 events\n",
      "19:33 madminer.delphes.del DEBUG   Extracting weights from LHE file\n",
      "19:33 madminer.utils.inter DEBUG   Parsing LHE file mg_processes_ew/signal_pythia/Events/run_01/unweighted_events.lhe.gz\n",
      "19:33 madminer.utils.inter DEBUG   Parsing header and events as XML with cElementTree\n",
      "19:33 madminer.utils.inter DEBUG   Found entry event_norm = average in LHE header. Interpreting this as weight_norm_is_average = True.\n",
      "19:33 madminer.utils.inter DEBUG   Event 1 passes observations, passes cuts, passes efficiencies -> passes\n",
      "19:33 madminer.utils.inter DEBUG   Event 2 passes observations, passes cuts, passes efficiencies -> passes\n",
      "19:33 madminer.utils.inter DEBUG   Event 3 passes observations, passes cuts, passes efficiencies -> passes\n",
      "19:33 madminer.utils.inter DEBUG   Event 4 passes observations, passes cuts, passes efficiencies -> passes\n",
      "19:33 madminer.utils.inter DEBUG   Event 5 passes observations, passes cuts, passes efficiencies -> passes\n",
      "19:33 madminer.utils.inter DEBUG   Event 6 passes observations, passes cuts, passes efficiencies -> passes\n",
      "19:33 madminer.utils.inter DEBUG   Event 7 passes observations, passes cuts, passes efficiencies -> passes\n",
      "19:33 madminer.utils.inter DEBUG   Event 8 passes observations, passes cuts, passes efficiencies -> passes\n",
      "19:33 madminer.utils.inter DEBUG   Event 9 passes observations, passes cuts, passes efficiencies -> passes\n",
      "19:33 madminer.utils.inter DEBUG   Event 10 passes observations, passes cuts, passes efficiencies -> passes\n",
      "19:33 madminer.utils.inter DEBUG   Event 11 passes observations, passes cuts, passes efficiencies -> passes\n",
      "19:33 madminer.utils.inter DEBUG   Event 12 passes observations, passes cuts, passes efficiencies -> passes\n",
      "19:33 madminer.utils.inter DEBUG   Event 13 passes observations, passes cuts, passes efficiencies -> passes\n",
      "19:33 madminer.utils.inter DEBUG   Event 14 passes observations, passes cuts, passes efficiencies -> passes\n",
      "19:33 madminer.utils.inter DEBUG   Event 15 passes observations, passes cuts, passes efficiencies -> passes\n",
      "19:33 madminer.utils.inter DEBUG   Event 16 passes observations, passes cuts, passes efficiencies -> passes\n",
      "19:33 madminer.utils.inter DEBUG   Event 17 passes observations, passes cuts, passes efficiencies -> passes\n",
      "19:33 madminer.utils.inter DEBUG   Event 18 passes observations, passes cuts, passes efficiencies -> passes\n",
      "19:33 madminer.utils.inter DEBUG   Event 19 passes observations, passes cuts, passes efficiencies -> passes\n",
      "19:33 madminer.utils.inter DEBUG   Event 20 passes observations, passes cuts, passes efficiencies -> passes\n",
      "19:34 madminer.delphes.del DEBUG   Found weights ['sm', 'w', 'neg_w', 'ww', 'neg_ww', 'morphing_basis_vector_5'] in LHE file\n",
      "19:34 madminer.delphes.del DEBUG   Applying Delphes-based cuts to LHE weights\n",
      "19:34 madminer.delphes.del INFO    Analysing Delphes sample mg_processes_ew/signal_pythia2/Events/run_01/tag_1_pythia8_events_delphes.root: Calculating 12 observables, requiring 2 selection cuts, associated with no systematics\n",
      "19:34 madminer.delphes.del DEBUG   Extracting nuisance parameter definitions from LHE file\n",
      "19:34 madminer.utils.inter DEBUG   Parsing nuisance parameter setup from LHE file at mg_processes_ew/signal_pythia2/Events/run_01/unweighted_events.lhe.gz\n",
      "19:34 madminer.utils.inter DEBUG   Systematics setup: OrderedDict()\n",
      "19:34 madminer.utils.inter DEBUG   1 weight groups\n",
      "19:34 madminer.delphes.del DEBUG   systematics_dict: OrderedDict()\n",
      "19:34 madminer.utils.inter DEBUG   Parsing Delphes file mg_processes_ew/signal_pythia2/Events/run_01/tag_1_pythia8_events_delphes.root\n",
      "19:34 madminer.utils.inter DEBUG   Not extracting weights\n",
      "19:34 madminer.utils.inter DEBUG   Found 10000 events\n",
      "19:34 madminer.utils.inter DEBUG     First 10 values for observable pt_j1:\n",
      "[ 236.69602966  189.87850952  652.47137451  148.75219727  210.86727905\n",
      " 1417.68737793  303.63354492  335.24081421  270.65188599  156.4066925 ]\n",
      "19:34 madminer.utils.inter DEBUG     First 10 values for observable delta_phi_jj:\n",
      "[ 2.13870779 -0.89092331 -2.62805969  0.64968467 -0.23803699 -3.12828681\n",
      " -2.10943663  0.6112473  -0.16313696  0.71546942]\n"
     ]
    },
    {
     "name": "stderr",
     "output_type": "stream",
     "text": [
      "19:34 madminer.utils.inter DEBUG     First 10 values for observable delta_eta_jj:\n",
      "[2.43333626 3.85822606 4.83642805 2.43212803 5.77874112 1.50614583\n",
      " 2.89501047 0.31291877 3.09424722 4.31893659]\n",
      "19:34 madminer.utils.inter DEBUG     First 10 values for observable m_jj:\n",
      "[ 523.05433994 1042.27921061 1486.64594555  467.44939918 3155.25945492\n",
      " 3322.40100822  925.7695932   228.23008728  856.0815617   919.8370288 ]\n",
      "19:34 madminer.utils.inter DEBUG     First 10 values for observable isZZcand:\n",
      "[0. 1. 1. 0. 0. 0. 0. 0. 0. 0.]\n",
      "19:35 madminer.utils.inter DEBUG     First 10 values for observable H_pt:\n",
      "[  0.         287.62927895 668.7852665    0.           0.\n",
      "   0.           0.           0.           0.           0.        ]\n",
      "19:35 madminer.utils.inter DEBUG     First 10 values for observable H_m:\n",
      "[  0.         126.30798215 123.62435594   0.           0.\n",
      "   0.           0.           0.           0.           0.        ]\n",
      "19:35 madminer.utils.inter DEBUG     First 10 values for observable Z1_pt:\n",
      "[  0.         210.37040138 547.64220742   0.           0.\n",
      "   0.           0.           0.           0.           0.        ]\n",
      "19:35 madminer.utils.inter DEBUG     First 10 values for observable Z2_pt:\n",
      "[  0.          77.86061641 122.26698592   0.           0.\n",
      "   0.           0.           0.           0.           0.        ]\n",
      "19:35 madminer.utils.inter DEBUG     First 10 values for observable H_eta:\n",
      "[-1.00000000e+11  1.79077946e-01 -5.77090396e-01 -1.00000000e+11\n",
      " -1.00000000e+11 -1.00000000e+11 -1.00000000e+11 -1.00000000e+11\n",
      " -1.00000000e+11 -1.00000000e+11]\n",
      "19:35 madminer.utils.inter DEBUG     First 10 values for observable n_jets:\n",
      "[2. 2. 2. 4. 2. 5. 3. 6. 3. 2.]\n",
      "19:35 madminer.utils.inter DEBUG     First 10 values for observable met:\n",
      "[ 2.50558186 25.1089859  52.17851639 27.334795   41.25857162 90.93781281\n",
      "  8.13550758 77.43878174 22.27586174  6.03431559]\n",
      "19:35 madminer.utils.inter DEBUG     10000 / 10000 events pass required observable isZZcand\n",
      "19:35 madminer.utils.inter DEBUG     10000 / 10000 events pass required observable H_pt\n",
      "19:35 madminer.utils.inter DEBUG     10000 / 10000 events pass required observable H_m\n",
      "19:35 madminer.utils.inter DEBUG     10000 / 10000 events pass required observable Z1_pt\n",
      "19:35 madminer.utils.inter DEBUG     10000 / 10000 events pass required observable Z2_pt\n",
      "19:35 madminer.utils.inter DEBUG     10000 / 10000 events pass required observable H_eta\n",
      "19:35 madminer.utils.inter DEBUG     10000 / 10000 events pass required observable n_jets\n",
      "19:35 madminer.utils.inter DEBUG     10000 / 10000 events pass required observable met\n",
      "19:35 madminer.utils.inter DEBUG     3033 / 10000 events pass cut isZZcand == 1\n",
      "19:35 madminer.utils.inter DEBUG     9779 / 10000 events pass cut n_jets >= 2\n",
      "19:35 madminer.utils.inter INFO      2956 / 10000 events pass everything\n",
      "19:35 madminer.delphes.del DEBUG   Did not extract weights from Delphes file\n",
      "19:35 madminer.delphes.del DEBUG   Found 2956 events\n",
      "19:35 madminer.delphes.del DEBUG   Extracting weights from LHE file\n",
      "19:35 madminer.utils.inter DEBUG   Parsing LHE file mg_processes_ew/signal_pythia2/Events/run_01/unweighted_events.lhe.gz\n",
      "19:35 madminer.utils.inter DEBUG   Parsing header and events as XML with cElementTree\n",
      "19:35 madminer.utils.inter DEBUG   Found entry event_norm = average in LHE header. Interpreting this as weight_norm_is_average = True.\n",
      "19:35 madminer.utils.inter DEBUG   Event 1 passes observations, passes cuts, passes efficiencies -> passes\n",
      "19:35 madminer.utils.inter DEBUG   Event 2 passes observations, passes cuts, passes efficiencies -> passes\n",
      "19:35 madminer.utils.inter DEBUG   Event 3 passes observations, passes cuts, passes efficiencies -> passes\n",
      "19:35 madminer.utils.inter DEBUG   Event 4 passes observations, passes cuts, passes efficiencies -> passes\n",
      "19:35 madminer.utils.inter DEBUG   Event 5 passes observations, passes cuts, passes efficiencies -> passes\n",
      "19:35 madminer.utils.inter DEBUG   Event 6 passes observations, passes cuts, passes efficiencies -> passes\n",
      "19:35 madminer.utils.inter DEBUG   Event 7 passes observations, passes cuts, passes efficiencies -> passes\n",
      "19:35 madminer.utils.inter DEBUG   Event 8 passes observations, passes cuts, passes efficiencies -> passes\n",
      "19:35 madminer.utils.inter DEBUG   Event 9 passes observations, passes cuts, passes efficiencies -> passes\n",
      "19:35 madminer.utils.inter DEBUG   Event 10 passes observations, passes cuts, passes efficiencies -> passes\n",
      "19:35 madminer.utils.inter DEBUG   Event 11 passes observations, passes cuts, passes efficiencies -> passes\n",
      "19:35 madminer.utils.inter DEBUG   Event 12 passes observations, passes cuts, passes efficiencies -> passes\n",
      "19:35 madminer.utils.inter DEBUG   Event 13 passes observations, passes cuts, passes efficiencies -> passes\n",
      "19:35 madminer.utils.inter DEBUG   Event 14 passes observations, passes cuts, passes efficiencies -> passes\n",
      "19:35 madminer.utils.inter DEBUG   Event 15 passes observations, passes cuts, passes efficiencies -> passes\n",
      "19:35 madminer.utils.inter DEBUG   Event 16 passes observations, passes cuts, passes efficiencies -> passes\n",
      "19:35 madminer.utils.inter DEBUG   Event 17 passes observations, passes cuts, passes efficiencies -> passes\n",
      "19:35 madminer.utils.inter DEBUG   Event 18 passes observations, passes cuts, passes efficiencies -> passes\n",
      "19:35 madminer.utils.inter DEBUG   Event 19 passes observations, passes cuts, passes efficiencies -> passes\n",
      "19:35 madminer.utils.inter DEBUG   Event 20 passes observations, passes cuts, passes efficiencies -> passes\n",
      "19:35 madminer.delphes.del DEBUG   Found weights ['sm', 'w', 'neg_w', 'ww', 'neg_ww', 'morphing_basis_vector_5'] in LHE file\n",
      "19:35 madminer.delphes.del DEBUG   Applying Delphes-based cuts to LHE weights\n",
      "19:35 root                 DEBUG   Merging data extracted from this file with data from previous files\n",
      "19:35 root                 DEBUG     Weights for benchmark sm exist in both\n",
      "19:35 root                 DEBUG     Weights for benchmark w exist in both\n",
      "19:35 root                 DEBUG     Weights for benchmark neg_w exist in both\n",
      "19:35 root                 DEBUG     Weights for benchmark ww exist in both\n",
      "19:35 root                 DEBUG     Weights for benchmark neg_ww exist in both\n",
      "19:35 root                 DEBUG     Weights for benchmark morphing_basis_vector_5 exist in both\n",
      "19:35 madminer.delphes.del INFO    Analysing Delphes sample mg_processes_ew/signal_pythia2/Events/run_02/tag_1_pythia8_events_delphes.root: Calculating 12 observables, requiring 2 selection cuts, associated with no systematics\n",
      "19:35 madminer.delphes.del DEBUG   Extracting nuisance parameter definitions from LHE file\n",
      "19:35 madminer.utils.inter DEBUG   Parsing nuisance parameter setup from LHE file at mg_processes_ew/signal_pythia2/Events/run_02/unweighted_events.lhe.gz\n",
      "19:35 madminer.utils.inter DEBUG   Systematics setup: OrderedDict()\n",
      "19:35 madminer.utils.inter DEBUG   1 weight groups\n",
      "19:35 madminer.delphes.del DEBUG   systematics_dict: OrderedDict()\n",
      "19:35 madminer.utils.inter DEBUG   Parsing Delphes file mg_processes_ew/signal_pythia2/Events/run_02/tag_1_pythia8_events_delphes.root\n",
      "19:35 madminer.utils.inter DEBUG   Not extracting weights\n",
      "19:35 madminer.utils.inter DEBUG   Found 10000 events\n",
      "19:36 madminer.utils.inter DEBUG     First 10 values for observable pt_j1:\n",
      "[287.8097229   63.1985321  826.56756592 115.87635803 355.49835205\n",
      " 252.7285614  215.29980469 728.26409912 178.93206787 600.83483887]\n",
      "19:36 madminer.utils.inter DEBUG     First 10 values for observable delta_phi_jj:\n",
      "[-2.13306212  1.15409219  2.11816114  2.28077919  2.2473448  -0.67753232\n",
      " -0.69830281  2.15517901  2.09191912 -0.30161604]\n",
      "19:36 madminer.utils.inter DEBUG     First 10 values for observable delta_eta_jj:\n",
      "[1.81075653 1.08905149 2.60599536 4.50856829 2.17433482 0.82385474\n",
      " 0.38377315 1.79272753 2.41241825 0.5832814 ]\n",
      "19:36 madminer.utils.inter DEBUG     First 10 values for observable m_jj:\n",
      "[ 529.29739261   92.15956803 2361.43229157  829.04848539 1045.76938122\n",
      "  119.5426015   111.86111734  887.92422916  552.36463843  149.62162732]\n",
      "19:36 madminer.utils.inter DEBUG     First 10 values for observable isZZcand:\n",
      "[1. 0. 0. 0. 0. 0. 0. 0. 0. 0.]\n",
      "19:36 madminer.utils.inter DEBUG     First 10 values for observable H_pt:\n",
      "[168.45250016   0.           0.           0.           0.\n",
      "   0.           0.           0.           0.           0.        ]\n"
     ]
    },
    {
     "name": "stderr",
     "output_type": "stream",
     "text": [
      "19:36 madminer.utils.inter DEBUG     First 10 values for observable H_m:\n",
      "[126.8213325   0.          0.          0.          0.          0.\n",
      "   0.          0.          0.          0.       ]\n",
      "19:36 madminer.utils.inter DEBUG     First 10 values for observable Z1_pt:\n",
      "[95.13453256  0.          0.          0.          0.          0.\n",
      "  0.          0.          0.          0.        ]\n",
      "19:36 madminer.utils.inter DEBUG     First 10 values for observable Z2_pt:\n",
      "[73.56572159  0.          0.          0.          0.          0.\n",
      "  0.          0.          0.          0.        ]\n",
      "19:36 madminer.utils.inter DEBUG     First 10 values for observable H_eta:\n",
      "[ 1.99820055e+00 -1.00000000e+11 -1.00000000e+11 -1.00000000e+11\n",
      " -1.00000000e+11 -1.00000000e+11 -1.00000000e+11 -1.00000000e+11\n",
      " -1.00000000e+11 -1.00000000e+11]\n",
      "19:36 madminer.utils.inter DEBUG     First 10 values for observable n_jets:\n",
      "[3. 2. 3. 3. 2. 4. 3. 2. 4. 4.]\n",
      "19:36 madminer.utils.inter DEBUG     First 10 values for observable met:\n",
      "[ 11.5073061   10.47952366  24.57194328  31.8216095   36.47075272\n",
      "  25.76878166  15.83729172 111.34695435   5.88953257  25.25825882]\n",
      "19:37 madminer.utils.inter DEBUG     10000 / 10000 events pass required observable isZZcand\n",
      "19:37 madminer.utils.inter DEBUG     10000 / 10000 events pass required observable H_pt\n",
      "19:37 madminer.utils.inter DEBUG     10000 / 10000 events pass required observable H_m\n",
      "19:37 madminer.utils.inter DEBUG     10000 / 10000 events pass required observable Z1_pt\n",
      "19:37 madminer.utils.inter DEBUG     10000 / 10000 events pass required observable Z2_pt\n",
      "19:37 madminer.utils.inter DEBUG     10000 / 10000 events pass required observable H_eta\n",
      "19:37 madminer.utils.inter DEBUG     10000 / 10000 events pass required observable n_jets\n",
      "19:37 madminer.utils.inter DEBUG     10000 / 10000 events pass required observable met\n",
      "19:37 madminer.utils.inter DEBUG     2248 / 10000 events pass cut isZZcand == 1\n",
      "19:37 madminer.utils.inter DEBUG     9872 / 10000 events pass cut n_jets >= 2\n",
      "19:37 madminer.utils.inter INFO      2211 / 10000 events pass everything\n",
      "19:37 madminer.delphes.del DEBUG   Did not extract weights from Delphes file\n",
      "19:37 madminer.delphes.del DEBUG   Found 2211 events\n",
      "19:37 madminer.delphes.del DEBUG   Extracting weights from LHE file\n",
      "19:37 madminer.utils.inter DEBUG   Parsing LHE file mg_processes_ew/signal_pythia2/Events/run_02/unweighted_events.lhe.gz\n",
      "19:37 madminer.utils.inter DEBUG   Parsing header and events as XML with cElementTree\n",
      "19:37 madminer.utils.inter DEBUG   Found entry event_norm = average in LHE header. Interpreting this as weight_norm_is_average = True.\n",
      "19:37 madminer.utils.inter DEBUG   Event 1 passes observations, passes cuts, passes efficiencies -> passes\n",
      "19:37 madminer.utils.inter DEBUG   Event 2 passes observations, passes cuts, passes efficiencies -> passes\n",
      "19:37 madminer.utils.inter DEBUG   Event 3 passes observations, passes cuts, passes efficiencies -> passes\n",
      "19:37 madminer.utils.inter DEBUG   Event 4 passes observations, passes cuts, passes efficiencies -> passes\n",
      "19:37 madminer.utils.inter DEBUG   Event 5 passes observations, passes cuts, passes efficiencies -> passes\n",
      "19:37 madminer.utils.inter DEBUG   Event 6 passes observations, passes cuts, passes efficiencies -> passes\n",
      "19:37 madminer.utils.inter DEBUG   Event 7 passes observations, passes cuts, passes efficiencies -> passes\n",
      "19:37 madminer.utils.inter DEBUG   Event 8 passes observations, passes cuts, passes efficiencies -> passes\n",
      "19:37 madminer.utils.inter DEBUG   Event 9 passes observations, passes cuts, passes efficiencies -> passes\n",
      "19:37 madminer.utils.inter DEBUG   Event 10 passes observations, passes cuts, passes efficiencies -> passes\n",
      "19:37 madminer.utils.inter DEBUG   Event 11 passes observations, passes cuts, passes efficiencies -> passes\n",
      "19:37 madminer.utils.inter DEBUG   Event 12 passes observations, passes cuts, passes efficiencies -> passes\n",
      "19:37 madminer.utils.inter DEBUG   Event 13 passes observations, passes cuts, passes efficiencies -> passes\n",
      "19:37 madminer.utils.inter DEBUG   Event 14 passes observations, passes cuts, passes efficiencies -> passes\n",
      "19:37 madminer.utils.inter DEBUG   Event 15 passes observations, passes cuts, passes efficiencies -> passes\n",
      "19:37 madminer.utils.inter DEBUG   Event 16 passes observations, passes cuts, passes efficiencies -> passes\n",
      "19:37 madminer.utils.inter DEBUG   Event 17 passes observations, passes cuts, passes efficiencies -> passes\n",
      "19:37 madminer.utils.inter DEBUG   Event 18 passes observations, passes cuts, passes efficiencies -> passes\n",
      "19:37 madminer.utils.inter DEBUG   Event 19 passes observations, passes cuts, passes efficiencies -> passes\n",
      "19:37 madminer.utils.inter DEBUG   Event 20 passes observations, passes cuts, passes efficiencies -> passes\n",
      "19:37 madminer.delphes.del DEBUG   Found weights ['sm', 'w', 'neg_w', 'ww', 'neg_ww', 'morphing_basis_vector_5'] in LHE file\n",
      "19:37 madminer.delphes.del DEBUG   Applying Delphes-based cuts to LHE weights\n",
      "19:37 root                 DEBUG   Merging data extracted from this file with data from previous files\n",
      "19:37 root                 DEBUG     Weights for benchmark sm exist in both\n",
      "19:37 root                 DEBUG     Weights for benchmark w exist in both\n",
      "19:37 root                 DEBUG     Weights for benchmark neg_w exist in both\n",
      "19:37 root                 DEBUG     Weights for benchmark ww exist in both\n",
      "19:37 root                 DEBUG     Weights for benchmark neg_ww exist in both\n",
      "19:37 root                 DEBUG     Weights for benchmark morphing_basis_vector_5 exist in both\n",
      "19:37 madminer.delphes.del INFO    Analysing Delphes sample mg_processes_ew/signal_pythia2/Events/run_03/tag_1_pythia8_events_delphes.root: Calculating 12 observables, requiring 2 selection cuts, associated with no systematics\n",
      "19:37 madminer.delphes.del DEBUG   Extracting nuisance parameter definitions from LHE file\n",
      "19:37 madminer.utils.inter DEBUG   Parsing nuisance parameter setup from LHE file at mg_processes_ew/signal_pythia2/Events/run_03/unweighted_events.lhe.gz\n",
      "19:37 madminer.utils.inter DEBUG   Systematics setup: OrderedDict()\n",
      "19:37 madminer.utils.inter DEBUG   1 weight groups\n",
      "19:37 madminer.delphes.del DEBUG   systematics_dict: OrderedDict()\n",
      "19:37 madminer.utils.inter DEBUG   Parsing Delphes file mg_processes_ew/signal_pythia2/Events/run_03/tag_1_pythia8_events_delphes.root\n",
      "19:37 madminer.utils.inter DEBUG   Not extracting weights\n",
      "19:37 madminer.utils.inter DEBUG   Found 10000 events\n",
      "19:37 madminer.utils.inter DEBUG     First 10 values for observable pt_j1:\n",
      "[457.34823608  94.90406036 156.83694458 546.7300415  390.35122681\n",
      " 210.4962616  744.41424561 155.58670044 248.36845398 151.79330444]\n",
      "19:37 madminer.utils.inter DEBUG     First 10 values for observable delta_phi_jj:\n",
      "[ 0.85790223  0.05085039 -3.0997372  -2.42371814 -3.10349805 -2.92445004\n",
      " -0.7174936   2.63086182 -0.9157325  -0.96341604]\n",
      "19:37 madminer.utils.inter DEBUG     First 10 values for observable delta_eta_jj:\n",
      "[1.64156227 4.02536285 3.33048904 3.13988164 3.3116194  0.36268771\n",
      " 3.23247647 1.54872423 5.53808618 3.06886256]\n",
      "19:37 madminer.utils.inter DEBUG     First 10 values for observable m_jj:\n",
      "[ 797.90490317  555.66393297  790.05191841 1199.22833492 2029.27380722\n",
      "  232.3129585   885.50175021  298.90654481 3232.06928748  440.87403788]\n",
      "19:37 madminer.utils.inter DEBUG     First 10 values for observable isZZcand:\n",
      "[0. 0. 0. 0. 0. 0. 1. 0. 1. 0.]\n",
      "19:37 madminer.utils.inter DEBUG     First 10 values for observable H_pt:\n",
      "[  0.           0.           0.           0.           0.\n",
      "   0.         831.50158391   0.         414.89931452   0.        ]\n",
      "19:38 madminer.utils.inter DEBUG     First 10 values for observable H_m:\n",
      "[  0.           0.           0.           0.           0.\n",
      "   0.         124.1361494    0.         126.57741227   0.        ]\n",
      "19:38 madminer.utils.inter DEBUG     First 10 values for observable Z1_pt:\n",
      "[  0.          0.          0.          0.          0.          0.\n",
      " 637.0765296   0.        227.737841    0.       ]\n",
      "19:38 madminer.utils.inter DEBUG     First 10 values for observable Z2_pt:\n",
      "[  0.           0.           0.           0.           0.\n",
      "   0.         196.41219827   0.         187.29016576   0.        ]\n",
      "19:38 madminer.utils.inter DEBUG     First 10 values for observable H_eta:\n",
      "[-1.00000000e+11 -1.00000000e+11 -1.00000000e+11 -1.00000000e+11\n",
      " -1.00000000e+11 -1.00000000e+11 -8.84329958e-01 -1.00000000e+11\n",
      "  4.04626922e-01 -1.00000000e+11]\n"
     ]
    },
    {
     "name": "stderr",
     "output_type": "stream",
     "text": [
      "19:38 madminer.utils.inter DEBUG     First 10 values for observable n_jets:\n",
      "[5. 4. 3. 4. 3. 5. 2. 4. 3. 4.]\n",
      "19:38 madminer.utils.inter DEBUG     First 10 values for observable met:\n",
      "[63.11262512 27.59985924 20.73051834 17.6744709  51.7255249   7.70829153\n",
      " 29.82596588  6.69022465 12.11522007  4.11994076]\n",
      "19:38 madminer.utils.inter DEBUG     10000 / 10000 events pass required observable isZZcand\n",
      "19:38 madminer.utils.inter DEBUG     10000 / 10000 events pass required observable H_pt\n",
      "19:38 madminer.utils.inter DEBUG     10000 / 10000 events pass required observable H_m\n",
      "19:38 madminer.utils.inter DEBUG     10000 / 10000 events pass required observable Z1_pt\n",
      "19:38 madminer.utils.inter DEBUG     10000 / 10000 events pass required observable Z2_pt\n",
      "19:38 madminer.utils.inter DEBUG     10000 / 10000 events pass required observable H_eta\n",
      "19:38 madminer.utils.inter DEBUG     10000 / 10000 events pass required observable n_jets\n",
      "19:38 madminer.utils.inter DEBUG     10000 / 10000 events pass required observable met\n",
      "19:38 madminer.utils.inter DEBUG     2815 / 10000 events pass cut isZZcand == 1\n",
      "19:38 madminer.utils.inter DEBUG     9774 / 10000 events pass cut n_jets >= 2\n",
      "19:38 madminer.utils.inter INFO      2745 / 10000 events pass everything\n",
      "19:38 madminer.delphes.del DEBUG   Did not extract weights from Delphes file\n",
      "19:38 madminer.delphes.del DEBUG   Found 2745 events\n",
      "19:38 madminer.delphes.del DEBUG   Extracting weights from LHE file\n",
      "19:38 madminer.utils.inter DEBUG   Parsing LHE file mg_processes_ew/signal_pythia2/Events/run_03/unweighted_events.lhe.gz\n",
      "19:38 madminer.utils.inter DEBUG   Parsing header and events as XML with cElementTree\n",
      "19:38 madminer.utils.inter DEBUG   Found entry event_norm = average in LHE header. Interpreting this as weight_norm_is_average = True.\n",
      "19:38 madminer.utils.inter DEBUG   Event 1 passes observations, passes cuts, passes efficiencies -> passes\n",
      "19:38 madminer.utils.inter DEBUG   Event 2 passes observations, passes cuts, passes efficiencies -> passes\n",
      "19:38 madminer.utils.inter DEBUG   Event 3 passes observations, passes cuts, passes efficiencies -> passes\n",
      "19:38 madminer.utils.inter DEBUG   Event 4 passes observations, passes cuts, passes efficiencies -> passes\n",
      "19:38 madminer.utils.inter DEBUG   Event 5 passes observations, passes cuts, passes efficiencies -> passes\n",
      "19:38 madminer.utils.inter DEBUG   Event 6 passes observations, passes cuts, passes efficiencies -> passes\n",
      "19:38 madminer.utils.inter DEBUG   Event 7 passes observations, passes cuts, passes efficiencies -> passes\n",
      "19:38 madminer.utils.inter DEBUG   Event 8 passes observations, passes cuts, passes efficiencies -> passes\n",
      "19:38 madminer.utils.inter DEBUG   Event 9 passes observations, passes cuts, passes efficiencies -> passes\n",
      "19:38 madminer.utils.inter DEBUG   Event 10 passes observations, passes cuts, passes efficiencies -> passes\n",
      "19:38 madminer.utils.inter DEBUG   Event 11 passes observations, passes cuts, passes efficiencies -> passes\n",
      "19:38 madminer.utils.inter DEBUG   Event 12 passes observations, passes cuts, passes efficiencies -> passes\n",
      "19:38 madminer.utils.inter DEBUG   Event 13 passes observations, passes cuts, passes efficiencies -> passes\n",
      "19:38 madminer.utils.inter DEBUG   Event 14 passes observations, passes cuts, passes efficiencies -> passes\n",
      "19:38 madminer.utils.inter DEBUG   Event 15 passes observations, passes cuts, passes efficiencies -> passes\n",
      "19:38 madminer.utils.inter DEBUG   Event 16 passes observations, passes cuts, passes efficiencies -> passes\n",
      "19:38 madminer.utils.inter DEBUG   Event 17 passes observations, passes cuts, passes efficiencies -> passes\n",
      "19:38 madminer.utils.inter DEBUG   Event 18 passes observations, passes cuts, passes efficiencies -> passes\n",
      "19:38 madminer.utils.inter DEBUG   Event 19 passes observations, passes cuts, passes efficiencies -> passes\n",
      "19:38 madminer.utils.inter DEBUG   Event 20 passes observations, passes cuts, passes efficiencies -> passes\n",
      "19:38 madminer.delphes.del DEBUG   Found weights ['sm', 'w', 'neg_w', 'ww', 'neg_ww', 'morphing_basis_vector_5'] in LHE file\n",
      "19:38 madminer.delphes.del DEBUG   Applying Delphes-based cuts to LHE weights\n",
      "19:38 root                 DEBUG   Merging data extracted from this file with data from previous files\n",
      "19:38 root                 DEBUG     Weights for benchmark sm exist in both\n",
      "19:38 root                 DEBUG     Weights for benchmark w exist in both\n",
      "19:38 root                 DEBUG     Weights for benchmark neg_w exist in both\n",
      "19:38 root                 DEBUG     Weights for benchmark ww exist in both\n",
      "19:38 root                 DEBUG     Weights for benchmark neg_ww exist in both\n",
      "19:38 root                 DEBUG     Weights for benchmark morphing_basis_vector_5 exist in both\n",
      "19:38 madminer.delphes.del INFO    Analysing Delphes sample mg_processes_ew/signal_pythia2/Events/run_04/tag_1_pythia8_events_delphes.root: Calculating 12 observables, requiring 2 selection cuts, associated with no systematics\n",
      "19:38 madminer.delphes.del DEBUG   Extracting nuisance parameter definitions from LHE file\n",
      "19:38 madminer.utils.inter DEBUG   Parsing nuisance parameter setup from LHE file at mg_processes_ew/signal_pythia2/Events/run_04/unweighted_events.lhe.gz\n",
      "19:38 madminer.utils.inter DEBUG   Systematics setup: OrderedDict()\n",
      "19:38 madminer.utils.inter DEBUG   1 weight groups\n",
      "19:38 madminer.delphes.del DEBUG   systematics_dict: OrderedDict()\n",
      "19:38 madminer.utils.inter DEBUG   Parsing Delphes file mg_processes_ew/signal_pythia2/Events/run_04/tag_1_pythia8_events_delphes.root\n",
      "19:38 madminer.utils.inter DEBUG   Not extracting weights\n",
      "19:38 madminer.utils.inter DEBUG   Found 10000 events\n",
      "19:38 madminer.utils.inter DEBUG     First 10 values for observable pt_j1:\n",
      "[ 90.96909332 386.20367432 268.849823   208.13964844 141.88389587\n",
      " 201.06369019 205.63464355 213.07661438 135.284729   289.8996582 ]\n",
      "19:39 madminer.utils.inter DEBUG     First 10 values for observable delta_phi_jj:\n",
      "[-2.84678692  0.53993285 -0.80582448 -2.09247869  1.4118607          nan\n",
      " -0.46310789 -1.062181    0.19500649 -1.95322733]\n",
      "19:39 madminer.utils.inter DEBUG     First 10 values for observable delta_eta_jj:\n",
      "[4.43621933 0.97980475 3.80172443 4.67103672 3.73839033        nan\n",
      " 5.04086876 1.14084566 1.00144947 6.1102047 ]\n",
      "19:39 madminer.utils.inter DEBUG     First 10 values for observable m_jj:\n",
      "[ 704.9749278   265.37273079  552.89021931 2073.61204392  864.5871828\n",
      "           nan 1967.36267332  326.2775222   103.17867798 5283.7777902 ]\n",
      "19:39 madminer.utils.inter DEBUG     First 10 values for observable isZZcand:\n",
      "[0. 0. 0. 0. 0. 0. 0. 0. 0. 0.]\n",
      "19:39 madminer.utils.inter DEBUG     First 10 values for observable H_pt:\n",
      "[0. 0. 0. 0. 0. 0. 0. 0. 0. 0.]\n",
      "19:39 madminer.utils.inter DEBUG     First 10 values for observable H_m:\n",
      "[0. 0. 0. 0. 0. 0. 0. 0. 0. 0.]\n",
      "19:39 madminer.utils.inter DEBUG     First 10 values for observable Z1_pt:\n",
      "[0. 0. 0. 0. 0. 0. 0. 0. 0. 0.]\n",
      "19:39 madminer.utils.inter DEBUG     First 10 values for observable Z2_pt:\n",
      "[0. 0. 0. 0. 0. 0. 0. 0. 0. 0.]\n",
      "19:39 madminer.utils.inter DEBUG     First 10 values for observable H_eta:\n",
      "[-1.e+11 -1.e+11 -1.e+11 -1.e+11 -1.e+11 -1.e+11 -1.e+11 -1.e+11 -1.e+11\n",
      " -1.e+11]\n",
      "19:39 madminer.utils.inter DEBUG     First 10 values for observable n_jets:\n",
      "[2. 3. 2. 2. 2. 1. 3. 2. 3. 2.]\n",
      "19:39 madminer.utils.inter DEBUG     First 10 values for observable met:\n",
      "[ 8.2794981  12.43068886  5.41206694 24.1991787  22.89559174 13.80044556\n",
      " 28.87871933 46.97266388 11.76730824 47.49746704]\n",
      "19:39 madminer.utils.inter DEBUG     10000 / 10000 events pass required observable isZZcand\n",
      "19:39 madminer.utils.inter DEBUG     10000 / 10000 events pass required observable H_pt\n",
      "19:39 madminer.utils.inter DEBUG     10000 / 10000 events pass required observable H_m\n",
      "19:39 madminer.utils.inter DEBUG     10000 / 10000 events pass required observable Z1_pt\n",
      "19:39 madminer.utils.inter DEBUG     10000 / 10000 events pass required observable Z2_pt\n",
      "19:39 madminer.utils.inter DEBUG     10000 / 10000 events pass required observable H_eta\n",
      "19:39 madminer.utils.inter DEBUG     10000 / 10000 events pass required observable n_jets\n",
      "19:39 madminer.utils.inter DEBUG     10000 / 10000 events pass required observable met\n",
      "19:39 madminer.utils.inter DEBUG     2180 / 10000 events pass cut isZZcand == 1\n"
     ]
    },
    {
     "name": "stderr",
     "output_type": "stream",
     "text": [
      "19:39 madminer.utils.inter DEBUG     9863 / 10000 events pass cut n_jets >= 2\n",
      "19:39 madminer.utils.inter INFO      2144 / 10000 events pass everything\n",
      "19:39 madminer.delphes.del DEBUG   Did not extract weights from Delphes file\n",
      "19:39 madminer.delphes.del DEBUG   Found 2144 events\n",
      "19:39 madminer.delphes.del DEBUG   Extracting weights from LHE file\n",
      "19:39 madminer.utils.inter DEBUG   Parsing LHE file mg_processes_ew/signal_pythia2/Events/run_04/unweighted_events.lhe.gz\n",
      "19:39 madminer.utils.inter DEBUG   Parsing header and events as XML with cElementTree\n",
      "19:39 madminer.utils.inter DEBUG   Found entry event_norm = average in LHE header. Interpreting this as weight_norm_is_average = True.\n",
      "19:39 madminer.utils.inter DEBUG   Event 1 passes observations, passes cuts, passes efficiencies -> passes\n",
      "19:39 madminer.utils.inter DEBUG   Event 2 passes observations, passes cuts, passes efficiencies -> passes\n",
      "19:39 madminer.utils.inter DEBUG   Event 3 passes observations, passes cuts, passes efficiencies -> passes\n",
      "19:39 madminer.utils.inter DEBUG   Event 4 passes observations, passes cuts, passes efficiencies -> passes\n",
      "19:39 madminer.utils.inter DEBUG   Event 5 passes observations, passes cuts, passes efficiencies -> passes\n",
      "19:39 madminer.utils.inter DEBUG   Event 6 passes observations, passes cuts, passes efficiencies -> passes\n",
      "19:39 madminer.utils.inter DEBUG   Event 7 passes observations, passes cuts, passes efficiencies -> passes\n",
      "19:39 madminer.utils.inter DEBUG   Event 8 passes observations, passes cuts, passes efficiencies -> passes\n",
      "19:39 madminer.utils.inter DEBUG   Event 9 passes observations, passes cuts, passes efficiencies -> passes\n",
      "19:39 madminer.utils.inter DEBUG   Event 10 passes observations, passes cuts, passes efficiencies -> passes\n",
      "19:39 madminer.utils.inter DEBUG   Event 11 passes observations, passes cuts, passes efficiencies -> passes\n",
      "19:39 madminer.utils.inter DEBUG   Event 12 passes observations, passes cuts, passes efficiencies -> passes\n",
      "19:39 madminer.utils.inter DEBUG   Event 13 passes observations, passes cuts, passes efficiencies -> passes\n",
      "19:39 madminer.utils.inter DEBUG   Event 14 passes observations, passes cuts, passes efficiencies -> passes\n",
      "19:39 madminer.utils.inter DEBUG   Event 15 passes observations, passes cuts, passes efficiencies -> passes\n",
      "19:39 madminer.utils.inter DEBUG   Event 16 passes observations, passes cuts, passes efficiencies -> passes\n",
      "19:39 madminer.utils.inter DEBUG   Event 17 passes observations, passes cuts, passes efficiencies -> passes\n",
      "19:39 madminer.utils.inter DEBUG   Event 18 passes observations, passes cuts, passes efficiencies -> passes\n",
      "19:39 madminer.utils.inter DEBUG   Event 19 passes observations, passes cuts, passes efficiencies -> passes\n",
      "19:39 madminer.utils.inter DEBUG   Event 20 passes observations, passes cuts, passes efficiencies -> passes\n",
      "19:40 madminer.delphes.del DEBUG   Found weights ['sm', 'w', 'neg_w', 'ww', 'neg_ww', 'morphing_basis_vector_5'] in LHE file\n",
      "19:40 madminer.delphes.del DEBUG   Applying Delphes-based cuts to LHE weights\n",
      "19:40 root                 DEBUG   Merging data extracted from this file with data from previous files\n",
      "19:40 root                 DEBUG     Weights for benchmark sm exist in both\n",
      "19:40 root                 DEBUG     Weights for benchmark w exist in both\n",
      "19:40 root                 DEBUG     Weights for benchmark neg_w exist in both\n",
      "19:40 root                 DEBUG     Weights for benchmark ww exist in both\n",
      "19:40 root                 DEBUG     Weights for benchmark neg_ww exist in both\n",
      "19:40 root                 DEBUG     Weights for benchmark morphing_basis_vector_5 exist in both\n",
      "19:40 madminer.delphes.del INFO    Analysed number of events per sampling benchmark:\n",
      "19:40 madminer.delphes.del INFO      6946 from sm\n",
      "19:40 madminer.delphes.del INFO      2956 from w\n",
      "19:40 madminer.delphes.del INFO      2745 from neg_w\n",
      "19:40 madminer.delphes.del INFO      2211 from ww\n",
      "19:40 madminer.delphes.del INFO      2144 from neg_ww\n"
     ]
    }
   ],
   "source": [
    "delphes.analyse_delphes_samples()"
   ]
  },
  {
   "cell_type": "code",
   "execution_count": 202,
   "metadata": {},
   "outputs": [
    {
     "name": "stderr",
     "output_type": "stream",
     "text": [
      "19:40 madminer.delphes.del DEBUG   Loading HDF5 data from data_ew/setup.h5 and saving file to data_ew/delphes_data.h5\n",
      "19:40 madminer.delphes.del DEBUG   Weight names: ['sm', 'w', 'neg_w', 'ww', 'neg_ww', 'morphing_basis_vector_5']\n",
      "19:40 madminer.utils.inter DEBUG   HDF5 file does not contain is_reference field.\n",
      "19:40 madminer.utils.inter DEBUG   Benchmark morphing_basis_vector_5 already in benchmark_names_phys\n",
      "19:40 madminer.utils.inter DEBUG   Benchmark neg_w already in benchmark_names_phys\n",
      "19:40 madminer.utils.inter DEBUG   Benchmark neg_ww already in benchmark_names_phys\n",
      "19:40 madminer.utils.inter DEBUG   Benchmark sm already in benchmark_names_phys\n",
      "19:40 madminer.utils.inter DEBUG   Benchmark w already in benchmark_names_phys\n",
      "19:40 madminer.utils.inter DEBUG   Benchmark ww already in benchmark_names_phys\n",
      "19:40 madminer.utils.inter DEBUG   Combined benchmark names: ['sm', 'w', 'neg_w', 'ww', 'neg_ww', 'morphing_basis_vector_5']\n",
      "19:40 madminer.utils.inter DEBUG   Combined is_nuisance: [0 0 0 0 0 0]\n",
      "19:40 madminer.utils.inter DEBUG   Combined is_reference: [1 0 0 0 0 0]\n",
      "19:40 madminer.utils.inter DEBUG   Weight names found in event file: ['sm', 'w', 'neg_w', 'ww', 'neg_ww', 'morphing_basis_vector_5']\n",
      "19:40 madminer.utils.inter DEBUG   Benchmarks found in MadMiner file: ['sm', 'w', 'neg_w', 'ww', 'neg_ww', 'morphing_basis_vector_5']\n",
      "19:40 madminer.sampling.co DEBUG   Combining and shuffling samples\n",
      "19:40 madminer.sampling.co DEBUG   Copying setup from data_ew/delphes_data.h5 to data_ew/delphes_data.h5\n",
      "19:40 madminer.sampling.co DEBUG   Loading samples from file 1 / 1 at data_ew/delphes_data.h5, multiplying weights with k factor 1.0\n",
      "19:40 madminer.sampling.co DEBUG   Sampling benchmarks: [0 0 0 ... 4 4 4]\n",
      "19:40 madminer.sampling.co DEBUG   Combined sampling benchmarks: [0 0 0 ... 4 4 4]\n",
      "19:40 madminer.sampling.co DEBUG   Recalculated event numbers per benchmark: [6946 2956 2745 2211 2144    0], background: 0\n"
     ]
    }
   ],
   "source": [
    "delphes.save('data_ew/delphes_data.h5')"
   ]
  },
  {
   "cell_type": "markdown",
   "metadata": {},
   "source": [
    "## 5. Plot distributions"
   ]
  },
  {
   "cell_type": "markdown",
   "metadata": {},
   "source": [
    "Let's see what our MC run produced:"
   ]
  },
  {
   "cell_type": "code",
   "execution_count": 203,
   "metadata": {},
   "outputs": [
    {
     "name": "stderr",
     "output_type": "stream",
     "text": [
      "19:40 madminer.analysis.da INFO    Loading data from data_ew/delphes_data.h5\n",
      "19:40 madminer.analysis.da INFO    Found 2 parameters\n",
      "19:40 madminer.analysis.da DEBUG      CWL2 (LHA: dim6 2, maximal power in squared ME: (2,), range: (-20.0, 20.0))\n",
      "19:40 madminer.analysis.da DEBUG      CPWL2 (LHA: dim6 5, maximal power in squared ME: (2,), range: (-20.0, 20.0))\n",
      "19:40 madminer.analysis.da INFO    Did not find nuisance parameters\n",
      "19:40 madminer.analysis.da INFO    Found 6 benchmarks, of which 6 physical\n",
      "19:40 madminer.analysis.da DEBUG      sm: CWL2 = 0.00e+00, CPWL2 = 0.00e+00\n",
      "19:40 madminer.analysis.da DEBUG      w: CWL2 = 15.20, CPWL2 = 0.10\n",
      "19:40 madminer.analysis.da DEBUG      neg_w: CWL2 = -1.54e+01, CPWL2 = 0.20\n",
      "19:40 madminer.analysis.da DEBUG      ww: CWL2 = 0.30, CPWL2 = 15.10\n",
      "19:40 madminer.analysis.da DEBUG      neg_ww: CWL2 = 0.40, CPWL2 = -1.53e+01\n",
      "19:40 madminer.analysis.da DEBUG      morphing_basis_vector_5: CWL2 = 14.51, CPWL2 = -2.00e+01\n",
      "19:40 madminer.analysis.da INFO    Found 12 observables\n",
      "19:40 madminer.analysis.da DEBUG      0 pt_j1\n",
      "19:40 madminer.analysis.da DEBUG      1 delta_phi_jj\n",
      "19:40 madminer.analysis.da DEBUG      2 delta_eta_jj\n",
      "19:40 madminer.analysis.da DEBUG      3 m_jj\n",
      "19:40 madminer.analysis.da DEBUG      4 isZZcand\n",
      "19:40 madminer.analysis.da DEBUG      5 H_pt\n",
      "19:40 madminer.analysis.da DEBUG      6 H_m\n",
      "19:40 madminer.analysis.da DEBUG      7 Z1_pt\n",
      "19:40 madminer.analysis.da DEBUG      8 Z2_pt\n",
      "19:40 madminer.analysis.da DEBUG      9 H_eta\n",
      "19:40 madminer.analysis.da DEBUG     10 n_jets\n",
      "19:40 madminer.analysis.da DEBUG     11 met\n",
      "19:40 madminer.analysis.da INFO    Found 17002 events\n",
      "19:40 madminer.analysis.da INFO      6946 signal events sampled from benchmark sm\n",
      "19:40 madminer.analysis.da INFO      2956 signal events sampled from benchmark w\n",
      "19:40 madminer.analysis.da INFO      2745 signal events sampled from benchmark neg_w\n",
      "19:40 madminer.analysis.da INFO      2211 signal events sampled from benchmark ww\n",
      "19:40 madminer.analysis.da INFO      2144 signal events sampled from benchmark neg_ww\n",
      "19:40 madminer.analysis.da INFO    Found morphing setup with 6 components\n",
      "19:40 madminer.analysis.da INFO    Did not find nuisance morphing setup\n",
      "19:40 madminer.plotting.di DEBUG   Observable indices: [0, 1, 2, 3, 4, 5, 6, 7, 8, 9, 10, 11]\n",
      "19:40 madminer.plotting.di DEBUG   Calculated 2 theta matrices\n",
      "19:40 madminer.analysis.da DEBUG   Sampling benchmark closest to None: None\n",
      "19:40 madminer.analysis.da DEBUG   Events per benchmark: [6946. 2956. 2745. 2211. 2144.    0.]\n",
      "19:40 madminer.plotting.di DEBUG   Loaded raw data with shapes (17002, 12), (17002, 6)\n",
      "19:40 madminer.analysis.da DEBUG   Sampling benchmark closest to [0. 0.]: 0\n",
      "19:40 madminer.analysis.da DEBUG   Sampling benchmark closest to [10.  0.]: 1\n",
      "19:40 madminer.plotting.di DEBUG   Plotting panel 0: observable 0, label pt_j1\n",
      "19:40 madminer.plotting.di DEBUG   Ranges for observable pt_j1: min = [22.35780143737793, 22.35780143737793], max = [347.8031971396602, 1381.6267259892504]\n",
      "19:40 madminer.plotting.di DEBUG   Plotting panel 1: observable 1, label delta_phi_jj\n",
      "19:40 madminer.plotting.di DEBUG   Ranges for observable delta_phi_jj: min = [-3.1413259506225586, -3.1413259506225586], max = [3.140803575515747, 3.140803575515747]\n",
      "19:40 madminer.plotting.di DEBUG   Plotting panel 2: observable 2, label delta_eta_jj\n",
      "19:40 madminer.plotting.di DEBUG   Ranges for observable delta_eta_jj: min = [0.000745534896850697, 0.000745534896850697], max = [8.493887701863713, 6.504267676957334]\n",
      "19:40 madminer.plotting.di DEBUG   Plotting panel 3: observable 3, label m_jj\n",
      "19:40 madminer.plotting.di DEBUG   Ranges for observable m_jj: min = [15.630091188882071, 15.630091188882071], max = [3079.1133407957814, 3366.4102955539392]\n",
      "19:40 madminer.plotting.di DEBUG   Plotting panel 4: observable 4, label isZZcand\n",
      "19:40 madminer.plotting.di DEBUG   Ranges for observable isZZcand: min = [1.0, 1.0], max = [1.0, 1.0]\n",
      "19:40 madminer.plotting.di DEBUG   Plotting panel 5: observable 5, label H_pt\n",
      "19:40 madminer.plotting.di DEBUG   Ranges for observable H_pt: min = [1.272527395762108, 44.73283878674442], max = [390.404615652195, 1511.8604651199882]\n",
      "19:40 madminer.plotting.di DEBUG   Plotting panel 6: observable 6, label H_m\n",
      "19:40 madminer.plotting.di DEBUG   Ranges for observable H_m: min = [117.95581128884925, 118.21794583688384], max = [129.0085153265373, 130.14910759533325]\n",
      "19:40 madminer.plotting.di DEBUG   Plotting panel 7: observable 7, label Z1_pt\n",
      "19:40 madminer.plotting.di DEBUG   Ranges for observable Z1_pt: min = [0.3038280774279605, 1.89571444777647], max = [282.82447970734813, 1169.4375675640736]\n",
      "19:40 madminer.plotting.di DEBUG   Plotting panel 8: observable 8, label Z2_pt\n",
      "19:40 madminer.plotting.di DEBUG   Ranges for observable Z2_pt: min = [0.29716066740647695, 0.29716066740647695], max = [145.0540910592999, 575.1552575813901]\n",
      "19:40 madminer.plotting.di DEBUG   Plotting panel 9: observable 9, label H_eta\n",
      "19:40 madminer.plotting.di DEBUG   Ranges for observable H_eta: min = [-2.7735786603373174, -1.8727034388414763], max = [3.193320230355731, 2.0467668271441046]\n",
      "19:40 madminer.plotting.di DEBUG   Plotting panel 10: observable 10, label n_jets\n",
      "19:40 madminer.plotting.di DEBUG   Ranges for observable n_jets: min = [2.0, 2.0], max = [5.3, 6.4]\n",
      "19:40 madminer.plotting.di DEBUG   Plotting panel 11: observable 11, label met\n",
      "19:40 madminer.plotting.di DEBUG   Ranges for observable met: min = [0.20324942469596863, 0.20324942469596863], max = [64.4302940191149, 241.02842922631828]\n"
     ]
    },
    {
     "data": {
      "image/png": "[encoded data removed]",
      "text/plain": [
       "<Figure size 864x1152 with 12 Axes>"
      ]
     },
     "metadata": {
      "needs_background": "light"
     },
     "output_type": "display_data"
    }
   ],
   "source": [
    "_ = plot_distributions(\n",
    "    filename='data_ew/delphes_data.h5',\n",
    "    parameter_points=['sm', np.array([10.,0.])],\n",
    "    line_labels=['SM', 'BSM'],\n",
    "    uncertainties='none',\n",
    "    n_bins=20,\n",
    "    n_cols=3,\n",
    "    normalize=True,\n",
    ")"
   ]
  },
  {
   "cell_type": "markdown",
   "metadata": {},
   "source": [
    "## 6. Combine and shuffle different samples"
   ]
  },
  {
   "cell_type": "markdown",
   "metadata": {},
   "source": [
    "To reduce disk usage, you can generate several small event samples with the steps given above, and combine them now. Note that (for now) it is essential that all of them are generated with the same setup, including the same benchmark points / morphing basis!\n",
    "\n",
    "This is generally good practice even if you use just one sample, since the events might have some inherent ordering (e.g. from sampling from different hypotheses). Later when we split the events into a training and test fraction, such an ordering could cause problems."
   ]
  },
  {
   "cell_type": "code",
   "execution_count": 204,
   "metadata": {},
   "outputs": [
    {
     "name": "stderr",
     "output_type": "stream",
     "text": [
      "19:40 madminer.sampling.co DEBUG   Combining and shuffling samples\n",
      "19:40 madminer.sampling.co DEBUG   Copying setup from data_ew/delphes_data.h5 to data_ew/delphes_data_shuffled.h5\n",
      "19:40 madminer.sampling.co DEBUG   Loading samples from file 1 / 1 at data_ew/delphes_data.h5, multiplying weights with k factor 1.0\n",
      "19:40 madminer.sampling.co DEBUG   Sampling benchmarks: [1 0 4 ... 3 0 0]\n",
      "19:40 madminer.sampling.co DEBUG   Combined sampling benchmarks: [1 0 4 ... 3 0 0]\n",
      "19:40 madminer.sampling.co DEBUG   Recalculated event numbers per benchmark: [6946 2956 2745 2211 2144    0], background: 0\n"
     ]
    }
   ],
   "source": [
    "combine_and_shuffle(\n",
    "    ['data_ew/delphes_data.h5'],\n",
    "    'data_ew/delphes_data_shuffled.h5'\n",
    ")"
   ]
  },
  {
   "cell_type": "code",
   "execution_count": 205,
   "metadata": {},
   "outputs": [
    {
     "name": "stdout",
     "output_type": "stream",
     "text": [
      "benchmarks\n",
      "benchmarks/is_nuisance\n",
      "benchmarks/is_reference\n",
      "benchmarks/names\n",
      "benchmarks/values\n",
      "morphing\n",
      "morphing/components\n",
      "morphing/morphing_matrix\n",
      "observables\n",
      "observables/definitions\n",
      "observables/names\n",
      "parameters\n",
      "parameters/lha_blocks\n",
      "parameters/lha_ids\n",
      "parameters/max_power\n",
      "parameters/names\n",
      "parameters/ranges\n",
      "parameters/transforms\n",
      "sample_summary\n",
      "sample_summary/background_events\n",
      "sample_summary/signal_events_per_benchmark\n",
      "samples\n",
      "samples/observations\n",
      "samples/sampling_benchmarks\n",
      "samples/weights\n",
      "17002\n",
      "17002\n"
     ]
    }
   ],
   "source": [
    "import h5py\n",
    "\n",
    "def get_all(name):\n",
    "    print(name)\n",
    "\n",
    "with h5py.File('data_ew/delphes_data.h5', 'r') as f:\n",
    "    g_name = f.visit(get_all)\n",
    "    d = f['samples/observations']\n",
    "    print(len([a for a in d[:,0] if a!=0]))\n",
    "    print(len(d[:,0]))\n",
    "    #for item in d[:]:\n",
    "        #print(item[1])"
   ]
  },
  {
   "cell_type": "code",
   "execution_count": null,
   "metadata": {},
   "outputs": [],
   "source": []
  }
 ],
 "metadata": {
  "kernelspec": {
   "display_name": "Python 3",
   "language": "python",
   "name": "python3"
  },
  "language_info": {
   "codemirror_mode": {
    "name": "ipython",
    "version": 3
   },
   "file_extension": ".py",
   "mimetype": "text/x-python",
   "name": "python",
   "nbconvert_exporter": "python",
   "pygments_lexer": "ipython3",
   "version": "3.7.0"
  }
 },
 "nbformat": 4,
 "nbformat_minor": 2
}
