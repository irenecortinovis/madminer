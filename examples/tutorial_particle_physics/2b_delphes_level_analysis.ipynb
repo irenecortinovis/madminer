{
 "cells": [
  {
   "cell_type": "markdown",
   "metadata": {},
   "source": [
    "# MadMiner particle physics tutorial\n",
    "\n",
    "# Part 2b: Analyzing events at Delphes level\n",
    "\n",
    "Johann Brehmer, Felix Kling, Irina Espejo, and Kyle Cranmer 2018-2019"
   ]
  },
  {
   "cell_type": "markdown",
   "metadata": {},
   "source": [
    "In this second part of the tutorial, we'll generate events and extract the observables and weights from them. You have two options: In this notebook we'll do this with Delphes, in the alternative part 2a we stick to parton level."
   ]
  },
  {
   "cell_type": "markdown",
   "metadata": {},
   "source": [
    "## 0. Preparations"
   ]
  },
  {
   "cell_type": "markdown",
   "metadata": {},
   "source": [
    "Before you execute this notebook, make sure you have working installations of MadGraph, Pythia, and Delphes."
   ]
  },
  {
   "cell_type": "code",
   "execution_count": 1,
   "metadata": {},
   "outputs": [],
   "source": [
    "from __future__ import absolute_import, division, print_function, unicode_literals\n",
    "\n",
    "import logging\n",
    "import numpy as np\n",
    "import matplotlib\n",
    "from matplotlib import pyplot as plt\n",
    "%matplotlib inline\n",
    "\n",
    "\n",
    "from madminer.core import MadMiner\n",
    "from madminer.delphes import DelphesReader\n",
    "from madminer.sampling import combine_and_shuffle\n",
    "from madminer.plotting import plot_distributions\n"
   ]
  },
  {
   "cell_type": "code",
   "execution_count": 2,
   "metadata": {},
   "outputs": [],
   "source": [
    "# MadMiner output\n",
    "logging.basicConfig(\n",
    "    format='%(asctime)-5.5s %(name)-20.20s %(levelname)-7.7s %(message)s',\n",
    "    datefmt='%H:%M',\n",
    "    level=logging.DEBUG\n",
    ")\n",
    "\n",
    "# Output of all other modules (e.g. matplotlib)\n",
    "for key in logging.Logger.manager.loggerDict:\n",
    "    if \"madminer\" not in key:\n",
    "        logging.getLogger(key).setLevel(logging.WARNING)"
   ]
  },
  {
   "cell_type": "markdown",
   "metadata": {},
   "source": [
    "Please enter here the path to your MG5 root directory. This notebook assumes that you installed Delphes and Pythia through MG5."
   ]
  },
  {
   "cell_type": "code",
   "execution_count": 3,
   "metadata": {},
   "outputs": [],
   "source": [
    "mg_dir = '/home/llr/cms/cortinovis/EFT2Obs/MG5_aMC_v2_6_7'"
   ]
  },
  {
   "cell_type": "markdown",
   "metadata": {},
   "source": [
    "## 1. Generate events"
   ]
  },
  {
   "cell_type": "markdown",
   "metadata": {},
   "source": [
    "Let's load our setup:"
   ]
  },
  {
   "cell_type": "code",
   "execution_count": 21,
   "metadata": {},
   "outputs": [
    {
     "name": "stderr",
     "output_type": "stream",
     "text": [
      "12:40 madminer.utils.inter DEBUG   HDF5 file does not contain is_reference field.\n",
      "12:40 madminer.core.madmin INFO    Found 2 parameters:\n",
      "12:40 madminer.core.madmin INFO       CWL2 (LHA: dim6 2, maximal power in squared ME: (2,), range: (-20.0, 20.0))\n",
      "12:40 madminer.core.madmin INFO       CPWL2 (LHA: dim6 5, maximal power in squared ME: (2,), range: (-20.0, 20.0))\n",
      "12:40 madminer.core.madmin INFO    Found 6 benchmarks:\n",
      "12:40 madminer.core.madmin INFO       sm: CWL2 = 0.00e+00, CPWL2 = 0.00e+00\n",
      "12:40 madminer.core.madmin INFO       w: CWL2 = 15.20, CPWL2 = 0.10\n",
      "12:40 madminer.core.madmin INFO       neg_w: CWL2 = -1.54e+01, CPWL2 = 0.20\n",
      "12:40 madminer.core.madmin INFO       ww: CWL2 = 0.30, CPWL2 = 15.10\n",
      "12:40 madminer.core.madmin INFO       neg_ww: CWL2 = 0.40, CPWL2 = -1.53e+01\n",
      "12:40 madminer.core.madmin INFO       morphing_basis_vector_5: CWL2 = 16.90, CPWL2 = -1.99e+01\n",
      "12:40 madminer.core.madmin INFO    Found morphing setup with 6 components\n",
      "12:40 madminer.core.madmin INFO    Did not find systematics setup.\n"
     ]
    }
   ],
   "source": [
    "miner = MadMiner()\n",
    "miner.load(\"data/setup.h5\")"
   ]
  },
  {
   "cell_type": "markdown",
   "metadata": {},
   "source": [
    "In a next step, MadMiner starts MadGraph and Pythia to generate events and calculate the weights. You can use `run()` or `run_multiple()`; the latter allows to generate different runs with different run cards and optimizing the phase space for different benchmark points. \n",
    "\n",
    "In either case, you have to provide paths to the process card, run card, param card (the entries corresponding to the parameters of interest will be automatically adapted), and an empty reweight card. Log files in the `log_directory` folder collect the MadGraph output and are important for debugging.\n",
    "\n",
    "The `sample_benchmark` (or in the case of `run_all`, `sample_benchmarks`) option can be used to specify which benchmark should be used for sampling, i.e. for which benchmark point the phase space is optimized. If you just use one benchmark, reweighting to far-away points in parameter space can lead to large event weights and thus large statistical fluctuations. It is therefore often a good idea to combine at least a few different benchmarks for this option. Here we use the SM and the benchmark \"w\" that we defined during the setup step.\n",
    "\n",
    "One slight annoyance is that MadGraph only supports Python 2. The `run()` and `run_multiple()` commands have a keyword `initial_command` that let you load a virtual environment in which `python` maps to Python 2 (which is what we do below). Alternatively / additionally you can set `python2_override=True`, which calls `python2.7` instead of `python` to start MadGraph."
   ]
  },
  {
   "cell_type": "code",
   "execution_count": 22,
   "metadata": {},
   "outputs": [
    {
     "name": "stderr",
     "output_type": "stream",
     "text": [
      "12:40 madminer.utils.inter INFO    Generating MadGraph process folder from cards/proc_card_signal_hzz4l_noj.dat at ./mg_processes/signal_pythia\n",
      "12:40 madminer.core.madmin INFO    Run 0\n",
      "12:40 madminer.core.madmin INFO      Sampling from benchmark: sm\n",
      "12:40 madminer.core.madmin INFO      Original run card:       cards/run_card_signal_small.dat\n",
      "12:40 madminer.core.madmin INFO      Original Pythia8 card:   cards/pythia8_card.dat\n",
      "12:40 madminer.core.madmin INFO      Original config card:    None\n",
      "12:40 madminer.core.madmin INFO      Copied run card:         /madminer/cards/run_card_0.dat\n",
      "12:40 madminer.core.madmin INFO      Copied Pythia8 card:     /madminer/cards/pythia8_card_0.dat\n",
      "12:40 madminer.core.madmin INFO      Copied config card:      None\n",
      "12:40 madminer.core.madmin INFO      Param card:              /madminer/cards/param_card_0.dat\n",
      "12:40 madminer.core.madmin INFO      Reweight card:           /madminer/cards/reweight_card_0.dat\n",
      "12:40 madminer.core.madmin INFO      Log file:                run_0.log\n",
      "12:40 madminer.core.madmin INFO    Creating param and reweight cards in ./mg_processes/signal_pythia//madminer/cards/param_card_0.dat, ./mg_processes/signal_pythia//madminer/cards/reweight_card_0.dat\n",
      "12:40 madminer.utils.inter INFO    Starting MadGraph and Pythia in ./mg_processes/signal_pythia\n",
      "13:17 madminer.core.madmin INFO    Finished running MadGraph! Please check that events were succesfully generated in the following folders:\n",
      "\n",
      "./mg_processes/signal_pythia/Events/run_01\n",
      "\n",
      "\n"
     ]
    }
   ],
   "source": [
    "miner.run(\n",
    "    sample_benchmark='sm',\n",
    "    temp_directory = './',\n",
    "    mg_directory=mg_dir,\n",
    "    mg_process_directory='./mg_processes/signal_pythia',\n",
    "    proc_card_file='cards/proc_card_signal_hzz4l_noj.dat',\n",
    "    param_card_template_file='cards/param_card_template.dat',\n",
    "    pythia8_card_file='cards/pythia8_card.dat',\n",
    "    run_card_file='cards/run_card_signal_small.dat',\n",
    "    log_directory='logs/signal',\n",
    "    initial_command=\"PYTHONPATH=/usr/lib64/python\",\n",
    "    python2_override=True,\n",
    ")\n",
    "\n"
   ]
  },
  {
   "cell_type": "code",
   "execution_count": 4,
   "metadata": {},
   "outputs": [],
   "source": [
    "additional_benchmarks = ['w', 'ww', 'neg_w', 'neg_ww']"
   ]
  },
  {
   "cell_type": "code",
   "execution_count": 24,
   "metadata": {},
   "outputs": [
    {
     "name": "stderr",
     "output_type": "stream",
     "text": [
      "13:17 madminer.utils.inter INFO    Generating MadGraph process folder from cards/proc_card_signal_hzz4l_noj.dat at ./mg_processes/signal_pythia2\n",
      "13:17 madminer.core.madmin INFO    Run 0\n",
      "13:17 madminer.core.madmin INFO      Sampling from benchmark: w\n",
      "13:17 madminer.core.madmin INFO      Original run card:       cards/run_card_signal_small.dat\n",
      "13:17 madminer.core.madmin INFO      Original Pythia8 card:   cards/pythia8_card.dat\n",
      "13:17 madminer.core.madmin INFO      Original config card:    None\n",
      "13:17 madminer.core.madmin INFO      Copied run card:         /madminer/cards/run_card_0.dat\n",
      "13:17 madminer.core.madmin INFO      Copied Pythia8 card:     /madminer/cards/pythia8_card_0.dat\n",
      "13:17 madminer.core.madmin INFO      Copied config card:      None\n",
      "13:17 madminer.core.madmin INFO      Param card:              /madminer/cards/param_card_0.dat\n",
      "13:17 madminer.core.madmin INFO      Reweight card:           /madminer/cards/reweight_card_0.dat\n",
      "13:17 madminer.core.madmin INFO      Log file:                run_0.log\n",
      "13:17 madminer.core.madmin INFO    Creating param and reweight cards in ./mg_processes/signal_pythia2//madminer/cards/param_card_0.dat, ./mg_processes/signal_pythia2//madminer/cards/reweight_card_0.dat\n",
      "13:17 madminer.utils.inter INFO    Starting MadGraph and Pythia in ./mg_processes/signal_pythia2\n",
      "13:55 madminer.core.madmin INFO    Run 1\n",
      "13:55 madminer.core.madmin INFO      Sampling from benchmark: ww\n",
      "13:55 madminer.core.madmin INFO      Original run card:       cards/run_card_signal_small.dat\n",
      "13:55 madminer.core.madmin INFO      Original Pythia8 card:   cards/pythia8_card.dat\n",
      "13:55 madminer.core.madmin INFO      Original config card:    None\n",
      "13:55 madminer.core.madmin INFO      Copied run card:         /madminer/cards/run_card_1.dat\n",
      "13:55 madminer.core.madmin INFO      Copied Pythia8 card:     /madminer/cards/pythia8_card_1.dat\n",
      "13:55 madminer.core.madmin INFO      Copied config card:      None\n",
      "13:55 madminer.core.madmin INFO      Param card:              /madminer/cards/param_card_1.dat\n",
      "13:55 madminer.core.madmin INFO      Reweight card:           /madminer/cards/reweight_card_1.dat\n",
      "13:55 madminer.core.madmin INFO      Log file:                run_1.log\n",
      "13:55 madminer.core.madmin INFO    Creating param and reweight cards in ./mg_processes/signal_pythia2//madminer/cards/param_card_1.dat, ./mg_processes/signal_pythia2//madminer/cards/reweight_card_1.dat\n",
      "13:55 madminer.utils.inter INFO    Starting MadGraph and Pythia in ./mg_processes/signal_pythia2\n",
      "14:31 madminer.core.madmin INFO    Run 2\n",
      "14:31 madminer.core.madmin INFO      Sampling from benchmark: neg_w\n",
      "14:31 madminer.core.madmin INFO      Original run card:       cards/run_card_signal_small.dat\n",
      "14:31 madminer.core.madmin INFO      Original Pythia8 card:   cards/pythia8_card.dat\n",
      "14:31 madminer.core.madmin INFO      Original config card:    None\n",
      "14:31 madminer.core.madmin INFO      Copied run card:         /madminer/cards/run_card_2.dat\n",
      "14:31 madminer.core.madmin INFO      Copied Pythia8 card:     /madminer/cards/pythia8_card_2.dat\n",
      "14:31 madminer.core.madmin INFO      Copied config card:      None\n",
      "14:31 madminer.core.madmin INFO      Param card:              /madminer/cards/param_card_2.dat\n",
      "14:31 madminer.core.madmin INFO      Reweight card:           /madminer/cards/reweight_card_2.dat\n",
      "14:31 madminer.core.madmin INFO      Log file:                run_2.log\n",
      "14:31 madminer.core.madmin INFO    Creating param and reweight cards in ./mg_processes/signal_pythia2//madminer/cards/param_card_2.dat, ./mg_processes/signal_pythia2//madminer/cards/reweight_card_2.dat\n",
      "14:31 madminer.utils.inter INFO    Starting MadGraph and Pythia in ./mg_processes/signal_pythia2\n",
      "15:20 madminer.core.madmin INFO    Run 3\n",
      "15:20 madminer.core.madmin INFO      Sampling from benchmark: neg_ww\n",
      "15:20 madminer.core.madmin INFO      Original run card:       cards/run_card_signal_small.dat\n",
      "15:20 madminer.core.madmin INFO      Original Pythia8 card:   cards/pythia8_card.dat\n",
      "15:20 madminer.core.madmin INFO      Original config card:    None\n",
      "15:20 madminer.core.madmin INFO      Copied run card:         /madminer/cards/run_card_3.dat\n",
      "15:20 madminer.core.madmin INFO      Copied Pythia8 card:     /madminer/cards/pythia8_card_3.dat\n",
      "15:20 madminer.core.madmin INFO      Copied config card:      None\n",
      "15:20 madminer.core.madmin INFO      Param card:              /madminer/cards/param_card_3.dat\n",
      "15:20 madminer.core.madmin INFO      Reweight card:           /madminer/cards/reweight_card_3.dat\n",
      "15:20 madminer.core.madmin INFO      Log file:                run_3.log\n",
      "15:20 madminer.core.madmin INFO    Creating param and reweight cards in ./mg_processes/signal_pythia2//madminer/cards/param_card_3.dat, ./mg_processes/signal_pythia2//madminer/cards/reweight_card_3.dat\n",
      "15:20 madminer.utils.inter INFO    Starting MadGraph and Pythia in ./mg_processes/signal_pythia2\n",
      "15:56 madminer.core.madmin INFO    Finished running MadGraph! Please check that events were succesfully generated in the following folders:\n",
      "\n",
      "./mg_processes/signal_pythia2/Events/run_01\n",
      "./mg_processes/signal_pythia2/Events/run_02\n",
      "./mg_processes/signal_pythia2/Events/run_03\n",
      "./mg_processes/signal_pythia2/Events/run_04\n",
      "\n",
      "\n"
     ]
    }
   ],
   "source": [
    "miner.run_multiple(\n",
    "    sample_benchmarks=additional_benchmarks,\n",
    "    mg_directory=mg_dir,\n",
    "    temp_directory = './',\n",
    "    mg_process_directory='./mg_processes/signal_pythia2',\n",
    "    proc_card_file='cards/proc_card_signal_hzz4l_noj.dat',\n",
    "    param_card_template_file='cards/param_card_template.dat',\n",
    "    pythia8_card_file='cards/pythia8_card.dat',\n",
    "    run_card_files=['cards/run_card_signal_small.dat'],\n",
    "    log_directory='logs/signal',\n",
    "    initial_command=\"PYTHONPATH=/usr/lib64/python\",\n",
    "    python2_override=True,\n",
    ")"
   ]
  },
  {
   "cell_type": "markdown",
   "metadata": {},
   "source": [
    "This will take a moment -- time for a coffee break!\n",
    "\n",
    "After running any event generation through MadMiner, you should check whether the run succeeded: are the usual output files there (LHE and HepMC), do the log files show any error messages? MadMiner does not (yet) perform any explicit checks, and if something went wrong in the event generation, it will only notice later when trying to load the event files."
   ]
  },
  {
   "cell_type": "markdown",
   "metadata": {},
   "source": [
    "### Backgrounds"
   ]
  },
  {
   "cell_type": "markdown",
   "metadata": {},
   "source": [
    "We can also easily add other processes like backgrounds. An important option is the `is_background` keyword, which should be used for processes that do *not* depend on the parameters theta. `is_background=True` will disable the reweighting and re-use the same weights for all cross sections.\n",
    "\n",
    "To reduce the runtime of the notebook, the background part is commented out here. Feel free to activate it and let it run during a lunch break."
   ]
  },
  {
   "cell_type": "code",
   "execution_count": null,
   "metadata": {},
   "outputs": [],
   "source": [
    "\"\"\"\n",
    "miner.run(\n",
    "    is_background=True,\n",
    "    sample_benchmark='sm',\n",
    "    mg_directory=mg_dir,\n",
    "    mg_process_directory='./mg_processes/background_pythia',\n",
    "    proc_card_file='cards/proc_card_background.dat',\n",
    "    pythia8_card_file='cards/pythia8_card.dat',\n",
    "    param_card_template_file='cards/param_card_template.dat',\n",
    "    run_card_file='cards/run_card_background.dat',\n",
    "    log_directory='logs/background',\n",
    ")\n",
    "\"\"\""
   ]
  },
  {
   "cell_type": "markdown",
   "metadata": {},
   "source": [
    "Finally, note that both `MadMiner.run()` and `MadMiner.run_multiple()` have a `only_create_script` keyword. If that is set to True, MadMiner will not start the event generation directly, but prepare folders with all the right settings and ready-to-run bash scripts. This might make it much easier to generate Events on a high-performance computing system. "
   ]
  },
  {
   "cell_type": "markdown",
   "metadata": {},
   "source": [
    "## 2. Run Delphes"
   ]
  },
  {
   "cell_type": "markdown",
   "metadata": {},
   "source": [
    "The `madminer.delphes.DelphesReader` class wraps around Delphes, a popular fast detector simulation, to simulate the effects of the detector."
   ]
  },
  {
   "cell_type": "code",
   "execution_count": 82,
   "metadata": {},
   "outputs": [
    {
     "name": "stderr",
     "output_type": "stream",
     "text": [
      "10:09 madminer.utils.inter DEBUG   HDF5 file does not contain is_reference field.\n"
     ]
    }
   ],
   "source": [
    "delphes = DelphesReader('data/setup.h5')"
   ]
  },
  {
   "cell_type": "markdown",
   "metadata": {},
   "source": [
    "After creating the `DelphesReader` object, one can add a number of event samples (the output of running MadGraph and Pythia in step 1 above) with the `add_sample()` function.\n",
    "\n",
    "In addition, you have to provide the information which sample was generated from which benchmark with the `sampled_from_benchmark` keyword, and set `is_background=True` for all background samples."
   ]
  },
  {
   "cell_type": "code",
   "execution_count": 83,
   "metadata": {
    "scrolled": false
   },
   "outputs": [
    {
     "name": "stderr",
     "output_type": "stream",
     "text": [
      "10:09 madminer.delphes.del DEBUG   Adding event sample mg_processes/signal_pythia/Events/run_01/tag_1_pythia8_events.hepmc.gz\n",
      "10:09 madminer.delphes.del DEBUG   Adding event sample mg_processes/signal_pythia2/Events/run_01/tag_1_pythia8_events.hepmc.gz\n",
      "10:09 madminer.delphes.del DEBUG   Adding event sample mg_processes/signal_pythia2/Events/run_02/tag_1_pythia8_events.hepmc.gz\n",
      "10:09 madminer.delphes.del DEBUG   Adding event sample mg_processes/signal_pythia2/Events/run_03/tag_1_pythia8_events.hepmc.gz\n",
      "10:09 madminer.delphes.del DEBUG   Adding event sample mg_processes/signal_pythia2/Events/run_04/tag_1_pythia8_events.hepmc.gz\n"
     ]
    },
    {
     "data": {
      "text/plain": [
       "\"\\ndelphes.add_sample(\\n    lhe_filename='mg_processes/background_pythia/Events/run_01/unweighted_events.lhe.gz',\\n    hepmc_filename='mg_processes/background_pythia/Events/run_01/tag_1_pythia8_events.hepmc.gz',\\n    sampled_from_benchmark='sm',\\n    is_background=True,\\n    k_factor=1.0,\\n\""
      ]
     },
     "execution_count": 83,
     "metadata": {},
     "output_type": "execute_result"
    }
   ],
   "source": [
    "delphes.add_sample(\n",
    "    lhe_filename='mg_processes/signal_pythia/Events/run_01/unweighted_events.lhe.gz',\n",
    "    hepmc_filename='mg_processes/signal_pythia/Events/run_01/tag_1_pythia8_events.hepmc.gz',\n",
    "    sampled_from_benchmark='sm',\n",
    "    is_background=False,\n",
    "    k_factor=1.1, #Why??\n",
    ")\n",
    "\n",
    "for i, benchmark in enumerate(additional_benchmarks):\n",
    "    delphes.add_sample(\n",
    "        lhe_filename='mg_processes/signal_pythia2/Events/run_0{}/unweighted_events.lhe.gz'.format(i+1),\n",
    "        hepmc_filename='mg_processes/signal_pythia2/Events/run_0{}/tag_1_pythia8_events.hepmc.gz'.format(i+1),\n",
    "        sampled_from_benchmark=benchmark,\n",
    "        is_background=False,\n",
    "        k_factor=1.1,\n",
    "    )\n",
    "\n",
    "\"\"\"\n",
    "delphes.add_sample(\n",
    "    lhe_filename='mg_processes/background_pythia/Events/run_01/unweighted_events.lhe.gz',\n",
    "    hepmc_filename='mg_processes/background_pythia/Events/run_01/tag_1_pythia8_events.hepmc.gz',\n",
    "    sampled_from_benchmark='sm',\n",
    "    is_background=True,\n",
    "    k_factor=1.0,\n",
    "\"\"\"\n"
   ]
  },
  {
   "cell_type": "markdown",
   "metadata": {},
   "source": [
    "Now we run Delphes on these samples (you can also do this externally and then add the keyword `delphes_filename` when calling `DelphesReader.add_sample()`):"
   ]
  },
  {
   "cell_type": "code",
   "execution_count": 84,
   "metadata": {
    "scrolled": false
   },
   "outputs": [
    {
     "name": "stderr",
     "output_type": "stream",
     "text": [
      "10:09 madminer.delphes.del INFO    Running Delphes on HepMC sample at mg_processes/signal_pythia/Events/run_01/tag_1_pythia8_events.hepmc.gz\n",
      "10:09 madminer.utils.inter DEBUG   Unzipping mg_processes/signal_pythia/Events/run_01/tag_1_pythia8_events.hepmc.gz\n"
     ]
    },
    {
     "ename": "KeyboardInterrupt",
     "evalue": "",
     "output_type": "error",
     "traceback": [
      "\u001b[0;31m-------------------------------------------------------------------------\u001b[0m",
      "\u001b[0;31mKeyboardInterrupt\u001b[0m                       Traceback (most recent call last)",
      "\u001b[0;32m<ipython-input-84-3896e1697255>\u001b[0m in \u001b[0;36m<module>\u001b[0;34m\u001b[0m\n\u001b[1;32m      2\u001b[0m     \u001b[0mdelphes_directory\u001b[0m\u001b[0;34m=\u001b[0m\u001b[0mmg_dir\u001b[0m \u001b[0;34m+\u001b[0m \u001b[0;34m'/HEPTools/Delphes-3.4.2'\u001b[0m\u001b[0;34m,\u001b[0m\u001b[0;34m\u001b[0m\u001b[0m\n\u001b[1;32m      3\u001b[0m     \u001b[0mdelphes_card\u001b[0m\u001b[0;34m=\u001b[0m\u001b[0;34m'cards/delphes_card_CMS.dat'\u001b[0m\u001b[0;34m,\u001b[0m\u001b[0;34m\u001b[0m\u001b[0m\n\u001b[0;32m----> 4\u001b[0;31m     \u001b[0mlog_file\u001b[0m\u001b[0;34m=\u001b[0m\u001b[0;34m'logs/delphes.log'\u001b[0m\u001b[0;34m,\u001b[0m\u001b[0;34m\u001b[0m\u001b[0m\n\u001b[0m\u001b[1;32m      5\u001b[0m )\n",
      "\u001b[0;32m/grid_mnt/vol__vol_U__u/llr/cms/cortinovis/miner/madminer/madminer/delphes/delphes_reader.py\u001b[0m in \u001b[0;36mrun_delphes\u001b[0;34m(self, delphes_directory, delphes_card, initial_command, log_file)\u001b[0m\n\u001b[1;32m    237\u001b[0m \u001b[0;34m\u001b[0m\u001b[0m\n\u001b[1;32m    238\u001b[0m             delphes_sample_filename = run_delphes(\n\u001b[0;32m--> 239\u001b[0;31m                 \u001b[0mdelphes_directory\u001b[0m\u001b[0;34m,\u001b[0m \u001b[0mdelphes_card\u001b[0m\u001b[0;34m,\u001b[0m \u001b[0mhepmc_filename\u001b[0m\u001b[0;34m,\u001b[0m \u001b[0minitial_command\u001b[0m\u001b[0;34m=\u001b[0m\u001b[0minitial_command\u001b[0m\u001b[0;34m,\u001b[0m \u001b[0mlog_file\u001b[0m\u001b[0;34m=\u001b[0m\u001b[0mlog_file\u001b[0m\u001b[0;34m\u001b[0m\u001b[0m\n\u001b[0m\u001b[1;32m    240\u001b[0m             )\n\u001b[1;32m    241\u001b[0m             \u001b[0mself\u001b[0m\u001b[0;34m.\u001b[0m\u001b[0mdelphes_sample_filenames\u001b[0m\u001b[0;34m[\u001b[0m\u001b[0mi\u001b[0m\u001b[0;34m]\u001b[0m \u001b[0;34m=\u001b[0m \u001b[0mdelphes_sample_filename\u001b[0m\u001b[0;34m\u001b[0m\u001b[0m\n",
      "\u001b[0;32m/grid_mnt/vol__vol_U__u/llr/cms/cortinovis/miner/madminer/madminer/utils/interfaces/delphes.py\u001b[0m in \u001b[0;36mrun_delphes\u001b[0;34m(delphes_directory, delphes_card_filename, hepmc_sample_filename, delphes_sample_filename, initial_command, log_file, overwrite_existing_delphes_root_file, delete_unzipped_file)\u001b[0m\n\u001b[1;32m     65\u001b[0m             \u001b[0minitial_command\u001b[0m\u001b[0;34m,\u001b[0m \u001b[0mdelphes_directory\u001b[0m\u001b[0;34m,\u001b[0m \u001b[0mdelphes_card_filename\u001b[0m\u001b[0;34m,\u001b[0m \u001b[0mdelphes_sample_filename\u001b[0m\u001b[0;34m,\u001b[0m \u001b[0mhepmc_sample_filename\u001b[0m\u001b[0;34m\u001b[0m\u001b[0m\n\u001b[1;32m     66\u001b[0m         ),\n\u001b[0;32m---> 67\u001b[0;31m         \u001b[0mlog_file\u001b[0m\u001b[0;34m=\u001b[0m\u001b[0mlog_file\u001b[0m\u001b[0;34m,\u001b[0m\u001b[0;34m\u001b[0m\u001b[0m\n\u001b[0m\u001b[1;32m     68\u001b[0m     )\n\u001b[1;32m     69\u001b[0m \u001b[0;34m\u001b[0m\u001b[0m\n",
      "\u001b[0;32m/grid_mnt/vol__vol_U__u/llr/cms/cortinovis/miner/madminer/madminer/utils/various.py\u001b[0m in \u001b[0;36mcall_command\u001b[0;34m(cmd, log_file, return_std)\u001b[0m\n\u001b[1;32m     20\u001b[0m         \u001b[0;32mwith\u001b[0m \u001b[0mio\u001b[0m\u001b[0;34m.\u001b[0m\u001b[0mopen\u001b[0m\u001b[0;34m(\u001b[0m\u001b[0mlog_file\u001b[0m\u001b[0;34m,\u001b[0m \u001b[0;34m\"wb\"\u001b[0m\u001b[0;34m)\u001b[0m \u001b[0;32mas\u001b[0m \u001b[0mlog\u001b[0m\u001b[0;34m:\u001b[0m\u001b[0;34m\u001b[0m\u001b[0m\n\u001b[1;32m     21\u001b[0m             \u001b[0mproc\u001b[0m \u001b[0;34m=\u001b[0m \u001b[0mPopen\u001b[0m\u001b[0;34m(\u001b[0m\u001b[0mcmd\u001b[0m\u001b[0;34m,\u001b[0m \u001b[0mstdout\u001b[0m\u001b[0;34m=\u001b[0m\u001b[0mlog\u001b[0m\u001b[0;34m,\u001b[0m \u001b[0mstderr\u001b[0m\u001b[0;34m=\u001b[0m\u001b[0mlog\u001b[0m\u001b[0;34m,\u001b[0m \u001b[0mshell\u001b[0m\u001b[0;34m=\u001b[0m\u001b[0;32mTrue\u001b[0m\u001b[0;34m)\u001b[0m\u001b[0;34m\u001b[0m\u001b[0m\n\u001b[0;32m---> 22\u001b[0;31m             \u001b[0m_\u001b[0m \u001b[0;34m=\u001b[0m \u001b[0mproc\u001b[0m\u001b[0;34m.\u001b[0m\u001b[0mcommunicate\u001b[0m\u001b[0;34m(\u001b[0m\u001b[0;34m)\u001b[0m\u001b[0;34m\u001b[0m\u001b[0m\n\u001b[0m\u001b[1;32m     23\u001b[0m             \u001b[0mexitcode\u001b[0m \u001b[0;34m=\u001b[0m \u001b[0mproc\u001b[0m\u001b[0;34m.\u001b[0m\u001b[0mreturncode\u001b[0m\u001b[0;34m\u001b[0m\u001b[0m\n\u001b[1;32m     24\u001b[0m \u001b[0;34m\u001b[0m\u001b[0m\n",
      "\u001b[0;32m/opt/exp_soft/llr/python/3.7.0/el7/lib/python3.7/subprocess.py\u001b[0m in \u001b[0;36mcommunicate\u001b[0;34m(self, input, timeout)\u001b[0m\n\u001b[1;32m    910\u001b[0m                 \u001b[0mstderr\u001b[0m \u001b[0;34m=\u001b[0m \u001b[0mself\u001b[0m\u001b[0;34m.\u001b[0m\u001b[0mstderr\u001b[0m\u001b[0;34m.\u001b[0m\u001b[0mread\u001b[0m\u001b[0;34m(\u001b[0m\u001b[0;34m)\u001b[0m\u001b[0;34m\u001b[0m\u001b[0m\n\u001b[1;32m    911\u001b[0m                 \u001b[0mself\u001b[0m\u001b[0;34m.\u001b[0m\u001b[0mstderr\u001b[0m\u001b[0;34m.\u001b[0m\u001b[0mclose\u001b[0m\u001b[0;34m(\u001b[0m\u001b[0;34m)\u001b[0m\u001b[0;34m\u001b[0m\u001b[0m\n\u001b[0;32m--> 912\u001b[0;31m             \u001b[0mself\u001b[0m\u001b[0;34m.\u001b[0m\u001b[0mwait\u001b[0m\u001b[0;34m(\u001b[0m\u001b[0;34m)\u001b[0m\u001b[0;34m\u001b[0m\u001b[0m\n\u001b[0m\u001b[1;32m    913\u001b[0m         \u001b[0;32melse\u001b[0m\u001b[0;34m:\u001b[0m\u001b[0;34m\u001b[0m\u001b[0m\n\u001b[1;32m    914\u001b[0m             \u001b[0;32mif\u001b[0m \u001b[0mtimeout\u001b[0m \u001b[0;32mis\u001b[0m \u001b[0;32mnot\u001b[0m \u001b[0;32mNone\u001b[0m\u001b[0;34m:\u001b[0m\u001b[0;34m\u001b[0m\u001b[0m\n",
      "\u001b[0;32m/opt/exp_soft/llr/python/3.7.0/el7/lib/python3.7/subprocess.py\u001b[0m in \u001b[0;36mwait\u001b[0;34m(self, timeout)\u001b[0m\n\u001b[1;32m    969\u001b[0m             \u001b[0mendtime\u001b[0m \u001b[0;34m=\u001b[0m \u001b[0m_time\u001b[0m\u001b[0;34m(\u001b[0m\u001b[0;34m)\u001b[0m \u001b[0;34m+\u001b[0m \u001b[0mtimeout\u001b[0m\u001b[0;34m\u001b[0m\u001b[0m\n\u001b[1;32m    970\u001b[0m         \u001b[0;32mtry\u001b[0m\u001b[0;34m:\u001b[0m\u001b[0;34m\u001b[0m\u001b[0m\n\u001b[0;32m--> 971\u001b[0;31m             \u001b[0;32mreturn\u001b[0m \u001b[0mself\u001b[0m\u001b[0;34m.\u001b[0m\u001b[0m_wait\u001b[0m\u001b[0;34m(\u001b[0m\u001b[0mtimeout\u001b[0m\u001b[0;34m=\u001b[0m\u001b[0mtimeout\u001b[0m\u001b[0;34m)\u001b[0m\u001b[0;34m\u001b[0m\u001b[0m\n\u001b[0m\u001b[1;32m    972\u001b[0m         \u001b[0;32mexcept\u001b[0m \u001b[0mKeyboardInterrupt\u001b[0m\u001b[0;34m:\u001b[0m\u001b[0;34m\u001b[0m\u001b[0m\n\u001b[1;32m    973\u001b[0m             \u001b[0;31m# https://bugs.python.org/issue25942\u001b[0m\u001b[0;34m\u001b[0m\u001b[0;34m\u001b[0m\u001b[0m\n",
      "\u001b[0;32m/opt/exp_soft/llr/python/3.7.0/el7/lib/python3.7/subprocess.py\u001b[0m in \u001b[0;36m_wait\u001b[0;34m(self, timeout)\u001b[0m\n\u001b[1;32m   1599\u001b[0m                         \u001b[0;32mif\u001b[0m \u001b[0mself\u001b[0m\u001b[0;34m.\u001b[0m\u001b[0mreturncode\u001b[0m \u001b[0;32mis\u001b[0m \u001b[0;32mnot\u001b[0m \u001b[0;32mNone\u001b[0m\u001b[0;34m:\u001b[0m\u001b[0;34m\u001b[0m\u001b[0m\n\u001b[1;32m   1600\u001b[0m                             \u001b[0;32mbreak\u001b[0m  \u001b[0;31m# Another thread waited.\u001b[0m\u001b[0;34m\u001b[0m\u001b[0m\n\u001b[0;32m-> 1601\u001b[0;31m                         \u001b[0;34m(\u001b[0m\u001b[0mpid\u001b[0m\u001b[0;34m,\u001b[0m \u001b[0msts\u001b[0m\u001b[0;34m)\u001b[0m \u001b[0;34m=\u001b[0m \u001b[0mself\u001b[0m\u001b[0;34m.\u001b[0m\u001b[0m_try_wait\u001b[0m\u001b[0;34m(\u001b[0m\u001b[0;36m0\u001b[0m\u001b[0;34m)\u001b[0m\u001b[0;34m\u001b[0m\u001b[0m\n\u001b[0m\u001b[1;32m   1602\u001b[0m                         \u001b[0;31m# Check the pid and loop as waitpid has been known to\u001b[0m\u001b[0;34m\u001b[0m\u001b[0;34m\u001b[0m\u001b[0m\n\u001b[1;32m   1603\u001b[0m                         \u001b[0;31m# return 0 even without WNOHANG in odd situations.\u001b[0m\u001b[0;34m\u001b[0m\u001b[0;34m\u001b[0m\u001b[0m\n",
      "\u001b[0;32m/opt/exp_soft/llr/python/3.7.0/el7/lib/python3.7/subprocess.py\u001b[0m in \u001b[0;36m_try_wait\u001b[0;34m(self, wait_flags)\u001b[0m\n\u001b[1;32m   1557\u001b[0m             \u001b[0;34m\"\"\"All callers to this function MUST hold self._waitpid_lock.\"\"\"\u001b[0m\u001b[0;34m\u001b[0m\u001b[0m\n\u001b[1;32m   1558\u001b[0m             \u001b[0;32mtry\u001b[0m\u001b[0;34m:\u001b[0m\u001b[0;34m\u001b[0m\u001b[0m\n\u001b[0;32m-> 1559\u001b[0;31m                 \u001b[0;34m(\u001b[0m\u001b[0mpid\u001b[0m\u001b[0;34m,\u001b[0m \u001b[0msts\u001b[0m\u001b[0;34m)\u001b[0m \u001b[0;34m=\u001b[0m \u001b[0mos\u001b[0m\u001b[0;34m.\u001b[0m\u001b[0mwaitpid\u001b[0m\u001b[0;34m(\u001b[0m\u001b[0mself\u001b[0m\u001b[0;34m.\u001b[0m\u001b[0mpid\u001b[0m\u001b[0;34m,\u001b[0m \u001b[0mwait_flags\u001b[0m\u001b[0;34m)\u001b[0m\u001b[0;34m\u001b[0m\u001b[0m\n\u001b[0m\u001b[1;32m   1560\u001b[0m             \u001b[0;32mexcept\u001b[0m \u001b[0mChildProcessError\u001b[0m\u001b[0;34m:\u001b[0m\u001b[0;34m\u001b[0m\u001b[0m\n\u001b[1;32m   1561\u001b[0m                 \u001b[0;31m# This happens if SIGCLD is set to be ignored or waiting\u001b[0m\u001b[0;34m\u001b[0m\u001b[0;34m\u001b[0m\u001b[0m\n",
      "\u001b[0;31mKeyboardInterrupt\u001b[0m: "
     ]
    }
   ],
   "source": [
    "delphes.run_delphes(\n",
    "    delphes_directory=mg_dir + '/HEPTools/Delphes-3.4.2',\n",
    "    delphes_card='cards/delphes_card_CMS.dat',\n",
    "    log_file='logs/delphes.log',\n",
    ")"
   ]
  },
  {
   "cell_type": "markdown",
   "metadata": {},
   "source": [
    "## 3. Observables and cuts"
   ]
  },
  {
   "cell_type": "markdown",
   "metadata": {},
   "source": [
    "The next step is the definition of observables, either through a Python function or an expression that can be evaluated. Here we demonstrate the latter, which is implemented in `add_observable()`. In the expression string, you can use the terms `j[i]`, `e[i]`, `mu[i]`, `a[i]`, `met`, where the indices `i` refer to a ordering by the transverse momentum. In addition, you can use `p[i]`, which denotes the `i`-th particle in the order given in the LHE sample (which is the order in which the final-state particles where defined in MadGraph).\n",
    "\n",
    "All of these represent objects inheriting from scikit-hep [LorentzVectors](http://scikit-hep.org/api/math.html#vector-classes), see the link for a documentation of their properties. In addition, they have `charge` and `pdg_id` properties.\n",
    "\n",
    "`add_observable()` has an optional keyword `required`. If `required=True`, we will only keep events where the observable can be parsed, i.e. all involved particles have been detected. If `required=False`, un-parseable observables will be filled with the value of another keyword `default`.\n",
    "\n",
    "In a realistic project, you would want to add a large number of observables that capture all information in your events. Here we will just define two observables, the transverse momentum of the leading (= higher-pT) jet, and the azimuthal angle between the two leading jets."
   ]
  },
  {
   "cell_type": "code",
   "execution_count": null,
   "metadata": {},
   "outputs": [],
   "source": [
    "delphes.add_observable(\n",
    "    'isZZcand',\n",
    "    'isZZcand',\n",
    "    required=True,\n",
    ")\n",
    "\n",
    "delphes.add_observable(\n",
    "    'pt_j1',\n",
    "    'j[0].pt',\n",
    "    required=False,\n",
    "    default=float('nan'),\n",
    ")\n",
    "\n",
    "delphes.add_observable(\n",
    "    'delta_phi_jj',\n",
    "    'j[0].deltaphi(j[1]) * (-1. + 2.*float(j[0].eta > j[1].eta))',\n",
    "    required=False,\n",
    "    default=float('nan'),\n",
    ")\n",
    "\n",
    "delphes.add_observable(\n",
    "    'delta_eta_jj',\n",
    "    'j[0].deltaeta(j[1]) * (-1. + 2.*float(j[0].eta > j[1].eta))',\n",
    "    required=False,\n",
    "    default=float('nan'),\n",
    ")\n",
    "\n",
    "delphes.add_observable(\n",
    "    'm_jj',\n",
    "    '(j[0]+j[1]).m',\n",
    "    required=False,\n",
    "    default=float('nan'),\n",
    ")\n",
    "\n",
    "delphes.add_observable(\n",
    "    'H_pt',\n",
    "    '(lep1ZZ+lep2ZZ+lep3ZZ+lep4ZZ).pt',\n",
    "    required=True,\n",
    ")\n",
    "\n",
    "delphes.add_observable(\n",
    "    'H_m',\n",
    "    '(lep1ZZ+lep2ZZ+lep3ZZ+lep4ZZ).m',\n",
    "    required=True,\n",
    ")\n",
    "\n",
    "delphes.add_observable(\n",
    "    'Z1_pt',\n",
    "    '(lep1ZZ+lep2ZZ).pt',\n",
    "    required=True,\n",
    ")\n",
    "\n",
    "delphes.add_observable(\n",
    "    'Z2_pt',\n",
    "    '(lep3ZZ+lep4ZZ).pt',\n",
    "    required=True,\n",
    ")\n",
    "\n",
    "delphes.add_observable(\n",
    "    'H_eta',\n",
    "    '(lep1ZZ+lep2ZZ+lep3ZZ+lep4ZZ).eta',\n",
    "    required=True,\n",
    ")\n",
    "\n",
    "delphes.add_observable(\n",
    "    'n_jets',\n",
    "    'len(j)',\n",
    "    required=True,\n",
    ")\n",
    "\n",
    "delphes.add_observable(\n",
    "    'met',\n",
    "    'met.pt',\n",
    "    required=True,\n",
    ")"
   ]
  },
  {
   "cell_type": "markdown",
   "metadata": {},
   "source": [
    "We can also add cuts, again in parse-able strings. In addition to the objects discussed above, they can contain the observables:"
   ]
  },
  {
   "cell_type": "code",
   "execution_count": 53,
   "metadata": {},
   "outputs": [
    {
     "data": {
      "text/plain": [
       "\"delphes.add_cut('(a[0] + a[1]).m > 122.')\\ndelphes.add_cut('(a[0] + a[1]).m < 128.')\\ndelphes.add_cut('pt_j1 > 20.')\""
      ]
     },
     "execution_count": 53,
     "metadata": {},
     "output_type": "execute_result"
    }
   ],
   "source": [
    "delphes.add_cut('isZZcand == 1')\n",
    "delphes.add_cut('pt_j1 > 20.')"
   ]
  },
  {
   "cell_type": "markdown",
   "metadata": {},
   "source": [
    "## 4. Analyse events and store data"
   ]
  },
  {
   "cell_type": "markdown",
   "metadata": {},
   "source": [
    "The function `analyse_samples` then calculates all observables from the Delphes file(s) generated before and checks which events pass the cuts:"
   ]
  },
  {
   "cell_type": "code",
   "execution_count": 49,
   "metadata": {
    "scrolled": true
   },
   "outputs": [
    {
     "name": "stderr",
     "output_type": "stream",
     "text": [
      "14:37 madminer.delphes.del INFO    Analysing Delphes sample mg_processes/signal_pythia/Events/run_01/tag_1_pythia8_events_delphes.root: Calculating 7 observables, requiring 0 selection cuts, associated with no systematics\n",
      "14:37 madminer.delphes.del DEBUG   Extracting nuisance parameter definitions from LHE file\n",
      "14:37 madminer.utils.inter DEBUG   Parsing nuisance parameter setup from LHE file at mg_processes/signal_pythia/Events/run_01/unweighted_events.lhe.gz\n",
      "14:37 madminer.utils.inter DEBUG   Systematics setup: OrderedDict()\n",
      "14:37 madminer.utils.inter DEBUG   1 weight groups\n",
      "14:37 madminer.delphes.del DEBUG   systematics_dict: OrderedDict()\n",
      "14:37 madminer.utils.inter DEBUG   Parsing Delphes file mg_processes/signal_pythia/Events/run_01/tag_1_pythia8_events_delphes.root\n",
      "14:37 madminer.utils.inter DEBUG   Not extracting weights\n",
      "14:37 madminer.utils.inter DEBUG   Found 100000 events\n",
      "14:39 madminer.utils.inter DEBUG     First 10 values for observable pt_lead_j:\n",
      "[0. 0. 0. 0. 0. 0. 0. 0. 0. 0.]\n",
      "14:40 madminer.utils.inter DEBUG     First 10 values for observable m_jj:\n",
      "[0. 0. 0. 0. 0. 0. 0. 0. 0. 0.]\n",
      "14:40 madminer.utils.inter DEBUG     First 10 values for observable delta_phi_jj:\n",
      "[0. 0. 0. 0. 0. 0. 0. 0. 0. 0.]\n",
      "14:41 madminer.utils.inter DEBUG     First 10 values for observable lep1_pt:\n",
      "[        nan         nan         nan         nan 33.82601166         nan\n",
      "         nan         nan         nan         nan]\n",
      "14:42 madminer.utils.inter DEBUG     First 10 values for observable H_mass:\n",
      "[         nan          nan          nan          nan 124.89215866\n",
      "          nan          nan          nan          nan          nan]\n",
      "14:42 madminer.utils.inter DEBUG     First 10 values for observable H_pt:\n",
      "[       nan        nan        nan        nan 11.4484724        nan\n",
      "        nan        nan        nan        nan]\n",
      "14:43 madminer.utils.inter DEBUG     First 10 values for observable H_eta:\n",
      "[        nan         nan         nan         nan -2.01138533         nan\n",
      "         nan         nan         nan         nan]\n",
      "14:43 madminer.utils.inter DEBUG     100000 / 100000 events pass required observable m_jj\n",
      "14:43 madminer.utils.inter DEBUG     11684 / 100000 events pass required observable lep1_pt\n",
      "14:43 madminer.utils.inter DEBUG     11684 / 100000 events pass required observable H_mass\n",
      "14:43 madminer.utils.inter DEBUG     11684 / 100000 events pass required observable H_pt\n",
      "14:43 madminer.utils.inter DEBUG     11684 / 100000 events pass required observable H_eta\n",
      "14:43 madminer.utils.inter INFO      11684 / 100000 events pass everything\n",
      "14:43 madminer.delphes.del DEBUG   Did not extract weights from Delphes file\n",
      "14:43 madminer.delphes.del DEBUG   Found 11684 events\n",
      "14:43 madminer.delphes.del DEBUG   Extracting weights from LHE file\n",
      "14:43 madminer.utils.inter DEBUG   Parsing LHE file mg_processes/signal_pythia/Events/run_01/unweighted_events.lhe.gz\n",
      "14:43 madminer.utils.inter DEBUG   Parsing header and events as XML with cElementTree\n",
      "14:43 madminer.utils.inter DEBUG   Found entry event_norm = average in LHE header. Interpreting this as weight_norm_is_average = True.\n",
      "14:43 madminer.utils.inter DEBUG   Event 1 passes observations, passes cuts, passes efficiencies -> passes\n",
      "14:43 madminer.utils.inter DEBUG   Event 2 passes observations, passes cuts, passes efficiencies -> passes\n",
      "14:43 madminer.utils.inter DEBUG   Event 3 passes observations, passes cuts, passes efficiencies -> passes\n",
      "14:43 madminer.utils.inter DEBUG   Event 4 passes observations, passes cuts, passes efficiencies -> passes\n",
      "14:43 madminer.utils.inter DEBUG   Event 5 passes observations, passes cuts, passes efficiencies -> passes\n",
      "14:43 madminer.utils.inter DEBUG   Event 6 passes observations, passes cuts, passes efficiencies -> passes\n",
      "14:43 madminer.utils.inter DEBUG   Event 7 passes observations, passes cuts, passes efficiencies -> passes\n",
      "14:43 madminer.utils.inter DEBUG   Event 8 passes observations, passes cuts, passes efficiencies -> passes\n",
      "14:43 madminer.utils.inter DEBUG   Event 9 passes observations, passes cuts, passes efficiencies -> passes\n",
      "14:43 madminer.utils.inter DEBUG   Event 10 passes observations, passes cuts, passes efficiencies -> passes\n",
      "14:43 madminer.utils.inter DEBUG   Event 11 passes observations, passes cuts, passes efficiencies -> passes\n",
      "14:43 madminer.utils.inter DEBUG   Event 12 passes observations, passes cuts, passes efficiencies -> passes\n",
      "14:43 madminer.utils.inter DEBUG   Event 13 passes observations, passes cuts, passes efficiencies -> passes\n",
      "14:43 madminer.utils.inter DEBUG   Event 14 passes observations, passes cuts, passes efficiencies -> passes\n",
      "14:43 madminer.utils.inter DEBUG   Event 15 passes observations, passes cuts, passes efficiencies -> passes\n",
      "14:43 madminer.utils.inter DEBUG   Event 16 passes observations, passes cuts, passes efficiencies -> passes\n",
      "14:43 madminer.utils.inter DEBUG   Event 17 passes observations, passes cuts, passes efficiencies -> passes\n",
      "14:43 madminer.utils.inter DEBUG   Event 18 passes observations, passes cuts, passes efficiencies -> passes\n",
      "14:43 madminer.utils.inter DEBUG   Event 19 passes observations, passes cuts, passes efficiencies -> passes\n",
      "14:43 madminer.utils.inter DEBUG   Event 20 passes observations, passes cuts, passes efficiencies -> passes\n",
      "14:43 madminer.utils.inter INFO      Processing event 100000/100000\n",
      "14:43 madminer.delphes.del DEBUG   Found weights ['sm', 'w', 'neg_w', 'ww', 'neg_ww', 'morphing_basis_vector_5'] in LHE file\n",
      "14:43 madminer.delphes.del DEBUG   Applying Delphes-based cuts to LHE weights\n",
      "14:43 madminer.delphes.del INFO    Analysing Delphes sample mg_processes/signal_pythia2/Events/run_01/tag_1_pythia8_events_delphes.root: Calculating 7 observables, requiring 0 selection cuts, associated with no systematics\n",
      "14:43 madminer.delphes.del DEBUG   Extracting nuisance parameter definitions from LHE file\n",
      "14:43 madminer.utils.inter DEBUG   Parsing nuisance parameter setup from LHE file at mg_processes/signal_pythia2/Events/run_01/unweighted_events.lhe.gz\n",
      "14:43 madminer.utils.inter DEBUG   Systematics setup: OrderedDict()\n",
      "14:43 madminer.utils.inter DEBUG   1 weight groups\n",
      "14:43 madminer.delphes.del DEBUG   systematics_dict: OrderedDict()\n",
      "14:43 madminer.utils.inter DEBUG   Parsing Delphes file mg_processes/signal_pythia2/Events/run_01/tag_1_pythia8_events_delphes.root\n",
      "14:43 madminer.utils.inter DEBUG   Not extracting weights\n",
      "14:43 madminer.utils.inter DEBUG   Found 100000 events\n",
      "14:45 madminer.utils.inter DEBUG     First 10 values for observable pt_lead_j:\n",
      "[0. 0. 0. 0. 0. 0. 0. 0. 0. 0.]\n",
      "14:46 madminer.utils.inter DEBUG     First 10 values for observable m_jj:\n",
      "[0. 0. 0. 0. 0. 0. 0. 0. 0. 0.]\n",
      "14:47 madminer.utils.inter DEBUG     First 10 values for observable delta_phi_jj:\n",
      "[0. 0. 0. 0. 0. 0. 0. 0. 0. 0.]\n",
      "14:47 madminer.utils.inter DEBUG     First 10 values for observable lep1_pt:\n",
      "[nan nan nan nan nan nan nan nan nan nan]\n",
      "14:48 madminer.utils.inter DEBUG     First 10 values for observable H_mass:\n",
      "[nan nan nan nan nan nan nan nan nan nan]\n",
      "14:48 madminer.utils.inter DEBUG     First 10 values for observable H_pt:\n",
      "[nan nan nan nan nan nan nan nan nan nan]\n",
      "14:49 madminer.utils.inter DEBUG     First 10 values for observable H_eta:\n",
      "[nan nan nan nan nan nan nan nan nan nan]\n",
      "14:49 madminer.utils.inter DEBUG     100000 / 100000 events pass required observable m_jj\n",
      "14:49 madminer.utils.inter DEBUG     11952 / 100000 events pass required observable lep1_pt\n",
      "14:49 madminer.utils.inter DEBUG     11952 / 100000 events pass required observable H_mass\n",
      "14:49 madminer.utils.inter DEBUG     11952 / 100000 events pass required observable H_pt\n",
      "14:49 madminer.utils.inter DEBUG     11952 / 100000 events pass required observable H_eta\n",
      "14:49 madminer.utils.inter INFO      11952 / 100000 events pass everything\n",
      "14:49 madminer.delphes.del DEBUG   Did not extract weights from Delphes file\n",
      "14:49 madminer.delphes.del DEBUG   Found 11952 events\n",
      "14:49 madminer.delphes.del DEBUG   Extracting weights from LHE file\n",
      "14:49 madminer.utils.inter DEBUG   Parsing LHE file mg_processes/signal_pythia2/Events/run_01/unweighted_events.lhe.gz\n",
      "14:49 madminer.utils.inter DEBUG   Parsing header and events as XML with cElementTree\n",
      "14:49 madminer.utils.inter DEBUG   Found entry event_norm = average in LHE header. Interpreting this as weight_norm_is_average = True.\n"
     ]
    },
    {
     "name": "stderr",
     "output_type": "stream",
     "text": [
      "14:49 madminer.utils.inter DEBUG   Event 1 passes observations, passes cuts, passes efficiencies -> passes\n",
      "14:49 madminer.utils.inter DEBUG   Event 2 passes observations, passes cuts, passes efficiencies -> passes\n",
      "14:49 madminer.utils.inter DEBUG   Event 3 passes observations, passes cuts, passes efficiencies -> passes\n",
      "14:49 madminer.utils.inter DEBUG   Event 4 passes observations, passes cuts, passes efficiencies -> passes\n",
      "14:49 madminer.utils.inter DEBUG   Event 5 passes observations, passes cuts, passes efficiencies -> passes\n",
      "14:49 madminer.utils.inter DEBUG   Event 6 passes observations, passes cuts, passes efficiencies -> passes\n",
      "14:49 madminer.utils.inter DEBUG   Event 7 passes observations, passes cuts, passes efficiencies -> passes\n",
      "14:49 madminer.utils.inter DEBUG   Event 8 passes observations, passes cuts, passes efficiencies -> passes\n",
      "14:49 madminer.utils.inter DEBUG   Event 9 passes observations, passes cuts, passes efficiencies -> passes\n",
      "14:49 madminer.utils.inter DEBUG   Event 10 passes observations, passes cuts, passes efficiencies -> passes\n",
      "14:49 madminer.utils.inter DEBUG   Event 11 passes observations, passes cuts, passes efficiencies -> passes\n",
      "14:49 madminer.utils.inter DEBUG   Event 12 passes observations, passes cuts, passes efficiencies -> passes\n",
      "14:49 madminer.utils.inter DEBUG   Event 13 passes observations, passes cuts, passes efficiencies -> passes\n",
      "14:49 madminer.utils.inter DEBUG   Event 14 passes observations, passes cuts, passes efficiencies -> passes\n",
      "14:49 madminer.utils.inter DEBUG   Event 15 passes observations, passes cuts, passes efficiencies -> passes\n",
      "14:49 madminer.utils.inter DEBUG   Event 16 passes observations, passes cuts, passes efficiencies -> passes\n",
      "14:49 madminer.utils.inter DEBUG   Event 17 passes observations, passes cuts, passes efficiencies -> passes\n",
      "14:49 madminer.utils.inter DEBUG   Event 18 passes observations, passes cuts, passes efficiencies -> passes\n",
      "14:49 madminer.utils.inter DEBUG   Event 19 passes observations, passes cuts, passes efficiencies -> passes\n",
      "14:49 madminer.utils.inter DEBUG   Event 20 passes observations, passes cuts, passes efficiencies -> passes\n",
      "14:49 madminer.utils.inter INFO      Processing event 100000/100000\n",
      "14:49 madminer.delphes.del DEBUG   Found weights ['sm', 'w', 'neg_w', 'ww', 'neg_ww', 'morphing_basis_vector_5'] in LHE file\n",
      "14:49 madminer.delphes.del DEBUG   Applying Delphes-based cuts to LHE weights\n",
      "14:49 root                 DEBUG   Merging data extracted from this file with data from previous files\n",
      "14:49 root                 DEBUG     Weights for benchmark sm exist in both\n",
      "14:49 root                 DEBUG     Weights for benchmark w exist in both\n",
      "14:49 root                 DEBUG     Weights for benchmark neg_w exist in both\n",
      "14:49 root                 DEBUG     Weights for benchmark ww exist in both\n",
      "14:49 root                 DEBUG     Weights for benchmark neg_ww exist in both\n",
      "14:49 root                 DEBUG     Weights for benchmark morphing_basis_vector_5 exist in both\n",
      "14:49 madminer.delphes.del INFO    Analysing Delphes sample mg_processes/signal_pythia2/Events/run_02/tag_1_pythia8_events_delphes.root: Calculating 7 observables, requiring 0 selection cuts, associated with no systematics\n",
      "14:49 madminer.delphes.del DEBUG   Extracting nuisance parameter definitions from LHE file\n",
      "14:49 madminer.utils.inter DEBUG   Parsing nuisance parameter setup from LHE file at mg_processes/signal_pythia2/Events/run_02/unweighted_events.lhe.gz\n",
      "14:49 madminer.utils.inter DEBUG   Systematics setup: OrderedDict()\n",
      "14:49 madminer.utils.inter DEBUG   1 weight groups\n",
      "14:49 madminer.delphes.del DEBUG   systematics_dict: OrderedDict()\n",
      "14:49 madminer.utils.inter DEBUG   Parsing Delphes file mg_processes/signal_pythia2/Events/run_02/tag_1_pythia8_events_delphes.root\n",
      "14:49 madminer.utils.inter DEBUG   Not extracting weights\n",
      "14:49 madminer.utils.inter DEBUG   Found 100000 events\n",
      "14:51 madminer.utils.inter DEBUG     First 10 values for observable pt_lead_j:\n",
      "[0. 0. 0. 0. 0. 0. 0. 0. 0. 0.]\n",
      "14:52 madminer.utils.inter DEBUG     First 10 values for observable m_jj:\n",
      "[0. 0. 0. 0. 0. 0. 0. 0. 0. 0.]\n",
      "14:53 madminer.utils.inter DEBUG     First 10 values for observable delta_phi_jj:\n",
      "[0. 0. 0. 0. 0. 0. 0. 0. 0. 0.]\n",
      "14:53 madminer.utils.inter DEBUG     First 10 values for observable lep1_pt:\n",
      "[nan nan nan nan nan nan nan nan nan nan]\n",
      "14:54 madminer.utils.inter DEBUG     First 10 values for observable H_mass:\n",
      "[nan nan nan nan nan nan nan nan nan nan]\n",
      "14:54 madminer.utils.inter DEBUG     First 10 values for observable H_pt:\n",
      "[nan nan nan nan nan nan nan nan nan nan]\n",
      "14:55 madminer.utils.inter DEBUG     First 10 values for observable H_eta:\n",
      "[nan nan nan nan nan nan nan nan nan nan]\n",
      "14:55 madminer.utils.inter DEBUG     100000 / 100000 events pass required observable m_jj\n",
      "14:55 madminer.utils.inter DEBUG     11526 / 100000 events pass required observable lep1_pt\n",
      "14:55 madminer.utils.inter DEBUG     11526 / 100000 events pass required observable H_mass\n",
      "14:55 madminer.utils.inter DEBUG     11526 / 100000 events pass required observable H_pt\n",
      "14:55 madminer.utils.inter DEBUG     11526 / 100000 events pass required observable H_eta\n",
      "14:55 madminer.utils.inter INFO      11526 / 100000 events pass everything\n",
      "14:55 madminer.delphes.del DEBUG   Did not extract weights from Delphes file\n",
      "14:55 madminer.delphes.del DEBUG   Found 11526 events\n",
      "14:55 madminer.delphes.del DEBUG   Extracting weights from LHE file\n",
      "14:55 madminer.utils.inter DEBUG   Parsing LHE file mg_processes/signal_pythia2/Events/run_02/unweighted_events.lhe.gz\n",
      "14:55 madminer.utils.inter DEBUG   Parsing header and events as XML with cElementTree\n",
      "14:55 madminer.utils.inter DEBUG   Found entry event_norm = average in LHE header. Interpreting this as weight_norm_is_average = True.\n",
      "14:55 madminer.utils.inter DEBUG   Event 1 passes observations, passes cuts, passes efficiencies -> passes\n",
      "14:55 madminer.utils.inter DEBUG   Event 2 passes observations, passes cuts, passes efficiencies -> passes\n",
      "14:55 madminer.utils.inter DEBUG   Event 3 passes observations, passes cuts, passes efficiencies -> passes\n",
      "14:55 madminer.utils.inter DEBUG   Event 4 passes observations, passes cuts, passes efficiencies -> passes\n",
      "14:55 madminer.utils.inter DEBUG   Event 5 passes observations, passes cuts, passes efficiencies -> passes\n",
      "14:55 madminer.utils.inter DEBUG   Event 6 passes observations, passes cuts, passes efficiencies -> passes\n",
      "14:55 madminer.utils.inter DEBUG   Event 7 passes observations, passes cuts, passes efficiencies -> passes\n",
      "14:55 madminer.utils.inter DEBUG   Event 8 passes observations, passes cuts, passes efficiencies -> passes\n",
      "14:55 madminer.utils.inter DEBUG   Event 9 passes observations, passes cuts, passes efficiencies -> passes\n",
      "14:55 madminer.utils.inter DEBUG   Event 10 passes observations, passes cuts, passes efficiencies -> passes\n",
      "14:55 madminer.utils.inter DEBUG   Event 11 passes observations, passes cuts, passes efficiencies -> passes\n",
      "14:55 madminer.utils.inter DEBUG   Event 12 passes observations, passes cuts, passes efficiencies -> passes\n",
      "14:55 madminer.utils.inter DEBUG   Event 13 passes observations, passes cuts, passes efficiencies -> passes\n",
      "14:55 madminer.utils.inter DEBUG   Event 14 passes observations, passes cuts, passes efficiencies -> passes\n",
      "14:55 madminer.utils.inter DEBUG   Event 15 passes observations, passes cuts, passes efficiencies -> passes\n",
      "14:55 madminer.utils.inter DEBUG   Event 16 passes observations, passes cuts, passes efficiencies -> passes\n",
      "14:55 madminer.utils.inter DEBUG   Event 17 passes observations, passes cuts, passes efficiencies -> passes\n",
      "14:55 madminer.utils.inter DEBUG   Event 18 passes observations, passes cuts, passes efficiencies -> passes\n",
      "14:55 madminer.utils.inter DEBUG   Event 19 passes observations, passes cuts, passes efficiencies -> passes\n",
      "14:55 madminer.utils.inter DEBUG   Event 20 passes observations, passes cuts, passes efficiencies -> passes\n",
      "14:55 madminer.utils.inter INFO      Processing event 100000/100000\n",
      "14:55 madminer.delphes.del DEBUG   Found weights ['sm', 'w', 'neg_w', 'ww', 'neg_ww', 'morphing_basis_vector_5'] in LHE file\n",
      "14:55 madminer.delphes.del DEBUG   Applying Delphes-based cuts to LHE weights\n"
     ]
    },
    {
     "name": "stderr",
     "output_type": "stream",
     "text": [
      "14:55 root                 DEBUG   Merging data extracted from this file with data from previous files\n",
      "14:55 root                 DEBUG     Weights for benchmark sm exist in both\n",
      "14:55 root                 DEBUG     Weights for benchmark w exist in both\n",
      "14:55 root                 DEBUG     Weights for benchmark neg_w exist in both\n",
      "14:55 root                 DEBUG     Weights for benchmark ww exist in both\n",
      "14:55 root                 DEBUG     Weights for benchmark neg_ww exist in both\n",
      "14:55 root                 DEBUG     Weights for benchmark morphing_basis_vector_5 exist in both\n",
      "14:55 madminer.delphes.del INFO    Analysing Delphes sample mg_processes/signal_pythia2/Events/run_03/tag_1_pythia8_events_delphes.root: Calculating 7 observables, requiring 0 selection cuts, associated with no systematics\n",
      "14:55 madminer.delphes.del DEBUG   Extracting nuisance parameter definitions from LHE file\n",
      "14:55 madminer.utils.inter DEBUG   Parsing nuisance parameter setup from LHE file at mg_processes/signal_pythia2/Events/run_03/unweighted_events.lhe.gz\n",
      "14:55 madminer.utils.inter DEBUG   Systematics setup: OrderedDict()\n",
      "14:55 madminer.utils.inter DEBUG   1 weight groups\n",
      "14:55 madminer.delphes.del DEBUG   systematics_dict: OrderedDict()\n",
      "14:55 madminer.utils.inter DEBUG   Parsing Delphes file mg_processes/signal_pythia2/Events/run_03/tag_1_pythia8_events_delphes.root\n",
      "14:55 madminer.utils.inter DEBUG   Not extracting weights\n",
      "14:55 madminer.utils.inter DEBUG   Found 100000 events\n",
      "14:57 madminer.utils.inter DEBUG     First 10 values for observable pt_lead_j:\n",
      "[ 92.82769775   0.           0.         139.05767822   0.\n",
      " 115.39852905   0.           0.           0.           0.        ]\n",
      "14:58 madminer.utils.inter DEBUG     First 10 values for observable m_jj:\n",
      "[130.68807703   0.           0.         249.81321541   0.\n",
      "   0.           0.           0.           0.           0.        ]\n",
      "14:59 madminer.utils.inter DEBUG     First 10 values for observable delta_phi_jj:\n",
      "[2.12187684 0.         0.         1.08495879 0.         0.\n",
      " 0.         0.         0.         0.        ]\n",
      "14:59 madminer.utils.inter DEBUG     First 10 values for observable lep1_pt:\n",
      "[33.88462067         nan         nan 14.99418449         nan 17.20702744\n",
      "         nan         nan         nan         nan]\n",
      "15:00 madminer.utils.inter DEBUG     First 10 values for observable H_mass:\n",
      "[125.59402667          nan          nan 116.58971036          nan\n",
      " 126.86773251          nan          nan          nan          nan]\n",
      "15:00 madminer.utils.inter DEBUG     First 10 values for observable H_pt:\n",
      "[119.21121797          nan          nan  56.39931543          nan\n",
      " 120.80922592          nan          nan          nan          nan]\n",
      "15:01 madminer.utils.inter DEBUG     First 10 values for observable H_eta:\n",
      "[-0.43341842         nan         nan  0.37438635         nan  1.40579565\n",
      "         nan         nan         nan         nan]\n",
      "15:01 madminer.utils.inter DEBUG     100000 / 100000 events pass required observable m_jj\n",
      "15:01 madminer.utils.inter DEBUG     12591 / 100000 events pass required observable lep1_pt\n",
      "15:01 madminer.utils.inter DEBUG     12591 / 100000 events pass required observable H_mass\n",
      "15:01 madminer.utils.inter DEBUG     12591 / 100000 events pass required observable H_pt\n",
      "15:01 madminer.utils.inter DEBUG     12591 / 100000 events pass required observable H_eta\n",
      "15:01 madminer.utils.inter INFO      12591 / 100000 events pass everything\n",
      "15:01 madminer.delphes.del DEBUG   Did not extract weights from Delphes file\n",
      "15:01 madminer.delphes.del DEBUG   Found 12591 events\n",
      "15:01 madminer.delphes.del DEBUG   Extracting weights from LHE file\n",
      "15:01 madminer.utils.inter DEBUG   Parsing LHE file mg_processes/signal_pythia2/Events/run_03/unweighted_events.lhe.gz\n",
      "15:01 madminer.utils.inter DEBUG   Parsing header and events as XML with cElementTree\n",
      "15:01 madminer.utils.inter DEBUG   Found entry event_norm = average in LHE header. Interpreting this as weight_norm_is_average = True.\n",
      "15:01 madminer.utils.inter DEBUG   Event 1 passes observations, passes cuts, passes efficiencies -> passes\n",
      "15:01 madminer.utils.inter DEBUG   Event 2 passes observations, passes cuts, passes efficiencies -> passes\n",
      "15:01 madminer.utils.inter DEBUG   Event 3 passes observations, passes cuts, passes efficiencies -> passes\n",
      "15:01 madminer.utils.inter DEBUG   Event 4 passes observations, passes cuts, passes efficiencies -> passes\n",
      "15:01 madminer.utils.inter DEBUG   Event 5 passes observations, passes cuts, passes efficiencies -> passes\n",
      "15:01 madminer.utils.inter DEBUG   Event 6 passes observations, passes cuts, passes efficiencies -> passes\n",
      "15:01 madminer.utils.inter DEBUG   Event 7 passes observations, passes cuts, passes efficiencies -> passes\n",
      "15:01 madminer.utils.inter DEBUG   Event 8 passes observations, passes cuts, passes efficiencies -> passes\n",
      "15:01 madminer.utils.inter DEBUG   Event 9 passes observations, passes cuts, passes efficiencies -> passes\n",
      "15:01 madminer.utils.inter DEBUG   Event 10 passes observations, passes cuts, passes efficiencies -> passes\n",
      "15:01 madminer.utils.inter DEBUG   Event 11 passes observations, passes cuts, passes efficiencies -> passes\n",
      "15:01 madminer.utils.inter DEBUG   Event 12 passes observations, passes cuts, passes efficiencies -> passes\n",
      "15:01 madminer.utils.inter DEBUG   Event 13 passes observations, passes cuts, passes efficiencies -> passes\n",
      "15:01 madminer.utils.inter DEBUG   Event 14 passes observations, passes cuts, passes efficiencies -> passes\n",
      "15:01 madminer.utils.inter DEBUG   Event 15 passes observations, passes cuts, passes efficiencies -> passes\n",
      "15:01 madminer.utils.inter DEBUG   Event 16 passes observations, passes cuts, passes efficiencies -> passes\n",
      "15:01 madminer.utils.inter DEBUG   Event 17 passes observations, passes cuts, passes efficiencies -> passes\n",
      "15:01 madminer.utils.inter DEBUG   Event 18 passes observations, passes cuts, passes efficiencies -> passes\n",
      "15:01 madminer.utils.inter DEBUG   Event 19 passes observations, passes cuts, passes efficiencies -> passes\n",
      "15:01 madminer.utils.inter DEBUG   Event 20 passes observations, passes cuts, passes efficiencies -> passes\n",
      "15:02 madminer.utils.inter INFO      Processing event 100000/100000\n",
      "15:02 madminer.delphes.del DEBUG   Found weights ['sm', 'w', 'neg_w', 'ww', 'neg_ww', 'morphing_basis_vector_5'] in LHE file\n",
      "15:02 madminer.delphes.del DEBUG   Applying Delphes-based cuts to LHE weights\n",
      "15:02 root                 DEBUG   Merging data extracted from this file with data from previous files\n",
      "15:02 root                 DEBUG     Weights for benchmark sm exist in both\n",
      "15:02 root                 DEBUG     Weights for benchmark w exist in both\n",
      "15:02 root                 DEBUG     Weights for benchmark neg_w exist in both\n",
      "15:02 root                 DEBUG     Weights for benchmark ww exist in both\n",
      "15:02 root                 DEBUG     Weights for benchmark neg_ww exist in both\n",
      "15:02 root                 DEBUG     Weights for benchmark morphing_basis_vector_5 exist in both\n",
      "15:02 madminer.delphes.del INFO    Analysing Delphes sample mg_processes/signal_pythia2/Events/run_04/tag_1_pythia8_events_delphes.root: Calculating 7 observables, requiring 0 selection cuts, associated with no systematics\n",
      "15:02 madminer.delphes.del DEBUG   Extracting nuisance parameter definitions from LHE file\n",
      "15:02 madminer.utils.inter DEBUG   Parsing nuisance parameter setup from LHE file at mg_processes/signal_pythia2/Events/run_04/unweighted_events.lhe.gz\n",
      "15:02 madminer.utils.inter DEBUG   Systematics setup: OrderedDict()\n",
      "15:02 madminer.utils.inter DEBUG   1 weight groups\n",
      "15:02 madminer.delphes.del DEBUG   systematics_dict: OrderedDict()\n",
      "15:02 madminer.utils.inter DEBUG   Parsing Delphes file mg_processes/signal_pythia2/Events/run_04/tag_1_pythia8_events_delphes.root\n",
      "15:02 madminer.utils.inter DEBUG   Not extracting weights\n",
      "15:02 madminer.utils.inter DEBUG   Found 100000 events\n",
      "15:04 madminer.utils.inter DEBUG     First 10 values for observable pt_lead_j:\n",
      "[0. 0. 0. 0. 0. 0. 0. 0. 0. 0.]\n",
      "15:04 madminer.utils.inter DEBUG     First 10 values for observable m_jj:\n",
      "[0. 0. 0. 0. 0. 0. 0. 0. 0. 0.]\n",
      "15:05 madminer.utils.inter DEBUG     First 10 values for observable delta_phi_jj:\n",
      "[0. 0. 0. 0. 0. 0. 0. 0. 0. 0.]\n",
      "15:05 madminer.utils.inter DEBUG     First 10 values for observable lep1_pt:\n",
      "[nan nan nan nan nan nan nan nan nan nan]\n"
     ]
    },
    {
     "name": "stderr",
     "output_type": "stream",
     "text": [
      "15:06 madminer.utils.inter DEBUG     First 10 values for observable H_mass:\n",
      "[nan nan nan nan nan nan nan nan nan nan]\n",
      "15:07 madminer.utils.inter DEBUG     First 10 values for observable H_pt:\n",
      "[nan nan nan nan nan nan nan nan nan nan]\n",
      "15:07 madminer.utils.inter DEBUG     First 10 values for observable H_eta:\n",
      "[nan nan nan nan nan nan nan nan nan nan]\n",
      "15:07 madminer.utils.inter DEBUG     100000 / 100000 events pass required observable m_jj\n",
      "15:07 madminer.utils.inter DEBUG     11596 / 100000 events pass required observable lep1_pt\n",
      "15:07 madminer.utils.inter DEBUG     11596 / 100000 events pass required observable H_mass\n",
      "15:07 madminer.utils.inter DEBUG     11596 / 100000 events pass required observable H_pt\n",
      "15:07 madminer.utils.inter DEBUG     11596 / 100000 events pass required observable H_eta\n",
      "15:07 madminer.utils.inter INFO      11596 / 100000 events pass everything\n",
      "15:07 madminer.delphes.del DEBUG   Did not extract weights from Delphes file\n",
      "15:07 madminer.delphes.del DEBUG   Found 11596 events\n",
      "15:07 madminer.delphes.del DEBUG   Extracting weights from LHE file\n",
      "15:07 madminer.utils.inter DEBUG   Parsing LHE file mg_processes/signal_pythia2/Events/run_04/unweighted_events.lhe.gz\n",
      "15:07 madminer.utils.inter DEBUG   Parsing header and events as XML with cElementTree\n",
      "15:07 madminer.utils.inter DEBUG   Found entry event_norm = average in LHE header. Interpreting this as weight_norm_is_average = True.\n",
      "15:07 madminer.utils.inter DEBUG   Event 1 passes observations, passes cuts, passes efficiencies -> passes\n",
      "15:07 madminer.utils.inter DEBUG   Event 2 passes observations, passes cuts, passes efficiencies -> passes\n",
      "15:07 madminer.utils.inter DEBUG   Event 3 passes observations, passes cuts, passes efficiencies -> passes\n",
      "15:07 madminer.utils.inter DEBUG   Event 4 passes observations, passes cuts, passes efficiencies -> passes\n",
      "15:07 madminer.utils.inter DEBUG   Event 5 passes observations, passes cuts, passes efficiencies -> passes\n",
      "15:07 madminer.utils.inter DEBUG   Event 6 passes observations, passes cuts, passes efficiencies -> passes\n",
      "15:07 madminer.utils.inter DEBUG   Event 7 passes observations, passes cuts, passes efficiencies -> passes\n",
      "15:07 madminer.utils.inter DEBUG   Event 8 passes observations, passes cuts, passes efficiencies -> passes\n",
      "15:07 madminer.utils.inter DEBUG   Event 9 passes observations, passes cuts, passes efficiencies -> passes\n",
      "15:07 madminer.utils.inter DEBUG   Event 10 passes observations, passes cuts, passes efficiencies -> passes\n",
      "15:07 madminer.utils.inter DEBUG   Event 11 passes observations, passes cuts, passes efficiencies -> passes\n",
      "15:07 madminer.utils.inter DEBUG   Event 12 passes observations, passes cuts, passes efficiencies -> passes\n",
      "15:07 madminer.utils.inter DEBUG   Event 13 passes observations, passes cuts, passes efficiencies -> passes\n",
      "15:07 madminer.utils.inter DEBUG   Event 14 passes observations, passes cuts, passes efficiencies -> passes\n",
      "15:07 madminer.utils.inter DEBUG   Event 15 passes observations, passes cuts, passes efficiencies -> passes\n",
      "15:07 madminer.utils.inter DEBUG   Event 16 passes observations, passes cuts, passes efficiencies -> passes\n",
      "15:07 madminer.utils.inter DEBUG   Event 17 passes observations, passes cuts, passes efficiencies -> passes\n",
      "15:07 madminer.utils.inter DEBUG   Event 18 passes observations, passes cuts, passes efficiencies -> passes\n",
      "15:07 madminer.utils.inter DEBUG   Event 19 passes observations, passes cuts, passes efficiencies -> passes\n",
      "15:07 madminer.utils.inter DEBUG   Event 20 passes observations, passes cuts, passes efficiencies -> passes\n",
      "15:08 madminer.utils.inter INFO      Processing event 100000/100000\n",
      "15:08 madminer.delphes.del DEBUG   Found weights ['sm', 'w', 'neg_w', 'ww', 'neg_ww', 'morphing_basis_vector_5'] in LHE file\n",
      "15:08 madminer.delphes.del DEBUG   Applying Delphes-based cuts to LHE weights\n",
      "15:08 root                 DEBUG   Merging data extracted from this file with data from previous files\n",
      "15:08 root                 DEBUG     Weights for benchmark sm exist in both\n",
      "15:08 root                 DEBUG     Weights for benchmark w exist in both\n",
      "15:08 root                 DEBUG     Weights for benchmark neg_w exist in both\n",
      "15:08 root                 DEBUG     Weights for benchmark ww exist in both\n",
      "15:08 root                 DEBUG     Weights for benchmark neg_ww exist in both\n",
      "15:08 root                 DEBUG     Weights for benchmark morphing_basis_vector_5 exist in both\n",
      "15:08 madminer.delphes.del INFO    Analysed number of events per sampling benchmark:\n",
      "15:08 madminer.delphes.del INFO      11684 from sm\n",
      "15:08 madminer.delphes.del INFO      11952 from w\n",
      "15:08 madminer.delphes.del INFO      12591 from neg_w\n",
      "15:08 madminer.delphes.del INFO      11526 from ww\n",
      "15:08 madminer.delphes.del INFO      11596 from neg_ww\n"
     ]
    }
   ],
   "source": [
    "delphes.analyse_delphes_samples()"
   ]
  },
  {
   "cell_type": "code",
   "execution_count": 50,
   "metadata": {},
   "outputs": [
    {
     "name": "stderr",
     "output_type": "stream",
     "text": [
      "16:47 madminer.delphes.del DEBUG   Loading HDF5 data from data/setup.h5 and saving file to data/delphes_data.h5\n",
      "16:47 madminer.delphes.del DEBUG   Weight names: ['sm', 'w', 'neg_w', 'ww', 'neg_ww', 'morphing_basis_vector_5']\n",
      "16:47 madminer.utils.inter DEBUG   HDF5 file does not contain is_reference field.\n",
      "16:47 madminer.utils.inter DEBUG   Benchmark morphing_basis_vector_5 already in benchmark_names_phys\n",
      "16:47 madminer.utils.inter DEBUG   Benchmark neg_w already in benchmark_names_phys\n",
      "16:47 madminer.utils.inter DEBUG   Benchmark neg_ww already in benchmark_names_phys\n",
      "16:47 madminer.utils.inter DEBUG   Benchmark sm already in benchmark_names_phys\n",
      "16:47 madminer.utils.inter DEBUG   Benchmark w already in benchmark_names_phys\n",
      "16:47 madminer.utils.inter DEBUG   Benchmark ww already in benchmark_names_phys\n",
      "16:47 madminer.utils.inter DEBUG   Combined benchmark names: ['sm', 'w', 'neg_w', 'ww', 'neg_ww', 'morphing_basis_vector_5']\n",
      "16:47 madminer.utils.inter DEBUG   Combined is_nuisance: [0 0 0 0 0 0]\n",
      "16:47 madminer.utils.inter DEBUG   Combined is_reference: [1 0 0 0 0 0]\n",
      "16:47 madminer.utils.inter DEBUG   Weight names found in event file: ['sm', 'w', 'neg_w', 'ww', 'neg_ww', 'morphing_basis_vector_5']\n",
      "16:47 madminer.utils.inter DEBUG   Benchmarks found in MadMiner file: ['sm', 'w', 'neg_w', 'ww', 'neg_ww', 'morphing_basis_vector_5']\n",
      "16:47 madminer.sampling.co DEBUG   Combining and shuffling samples\n",
      "16:47 madminer.sampling.co DEBUG   Copying setup from data/delphes_data.h5 to data/delphes_data.h5\n",
      "16:47 madminer.sampling.co DEBUG   Loading samples from file 1 / 1 at data/delphes_data.h5, multiplying weights with k factor 1.0\n",
      "16:47 madminer.sampling.co DEBUG   Sampling benchmarks: [0 0 0 ... 4 4 4]\n",
      "16:47 madminer.sampling.co DEBUG   Combined sampling benchmarks: [0 0 0 ... 4 4 4]\n",
      "16:47 madminer.sampling.co DEBUG   Recalculated event numbers per benchmark: [11684 11952 12591 11526 11596     0], background: 0\n"
     ]
    }
   ],
   "source": [
    "delphes.save('data/delphes_data.h5')"
   ]
  },
  {
   "cell_type": "markdown",
   "metadata": {},
   "source": [
    "## 5. Plot distributions"
   ]
  },
  {
   "cell_type": "markdown",
   "metadata": {},
   "source": [
    "Let's see what our MC run produced:"
   ]
  },
  {
   "cell_type": "code",
   "execution_count": 51,
   "metadata": {},
   "outputs": [
    {
     "name": "stderr",
     "output_type": "stream",
     "text": [
      "16:47 madminer.analysis.da INFO    Loading data from data/delphes_data.h5\n",
      "16:47 madminer.analysis.da INFO    Found 2 parameters\n",
      "16:47 madminer.analysis.da DEBUG      CWL2 (LHA: dim6 2, maximal power in squared ME: (2,), range: (-20.0, 20.0))\n",
      "16:47 madminer.analysis.da DEBUG      CPWL2 (LHA: dim6 5, maximal power in squared ME: (2,), range: (-20.0, 20.0))\n",
      "16:47 madminer.analysis.da INFO    Did not find nuisance parameters\n",
      "16:47 madminer.analysis.da INFO    Found 6 benchmarks, of which 6 physical\n",
      "16:47 madminer.analysis.da DEBUG      sm: CWL2 = 0.00e+00, CPWL2 = 0.00e+00\n",
      "16:47 madminer.analysis.da DEBUG      w: CWL2 = 15.20, CPWL2 = 0.10\n",
      "16:47 madminer.analysis.da DEBUG      neg_w: CWL2 = -1.54e+01, CPWL2 = 0.20\n",
      "16:47 madminer.analysis.da DEBUG      ww: CWL2 = 0.30, CPWL2 = 15.10\n",
      "16:47 madminer.analysis.da DEBUG      neg_ww: CWL2 = 0.40, CPWL2 = -1.53e+01\n",
      "16:47 madminer.analysis.da DEBUG      morphing_basis_vector_5: CWL2 = 16.90, CPWL2 = -1.99e+01\n",
      "16:47 madminer.analysis.da INFO    Found 7 observables\n",
      "16:47 madminer.analysis.da DEBUG      0 pt_lead_j\n",
      "16:47 madminer.analysis.da DEBUG      1 m_jj\n",
      "16:47 madminer.analysis.da DEBUG      2 delta_phi_jj\n",
      "16:47 madminer.analysis.da DEBUG      3 lep1_pt\n",
      "16:47 madminer.analysis.da DEBUG      4 H_mass\n",
      "16:47 madminer.analysis.da DEBUG      5 H_pt\n",
      "16:47 madminer.analysis.da DEBUG      6 H_eta\n",
      "16:47 madminer.analysis.da INFO    Found 59349 events\n",
      "16:47 madminer.analysis.da INFO      11684 signal events sampled from benchmark sm\n",
      "16:47 madminer.analysis.da INFO      11952 signal events sampled from benchmark w\n",
      "16:47 madminer.analysis.da INFO      12591 signal events sampled from benchmark neg_w\n",
      "16:47 madminer.analysis.da INFO      11526 signal events sampled from benchmark ww\n",
      "16:47 madminer.analysis.da INFO      11596 signal events sampled from benchmark neg_ww\n",
      "16:47 madminer.analysis.da INFO    Found morphing setup with 6 components\n",
      "16:47 madminer.analysis.da INFO    Did not find nuisance morphing setup\n",
      "16:47 madminer.plotting.di DEBUG   Observable indices: [0, 1, 2, 3, 4, 5, 6]\n",
      "16:47 madminer.plotting.di DEBUG   Calculated 2 theta matrices\n",
      "16:47 madminer.analysis.da DEBUG   Sampling benchmark closest to None: None\n",
      "16:47 madminer.analysis.da DEBUG   Events per benchmark: [11684. 11952. 12591. 11526. 11596.     0.]\n",
      "16:47 madminer.plotting.di DEBUG   Loaded raw data with shapes (59349, 7), (59349, 6)\n",
      "16:47 madminer.analysis.da DEBUG   Sampling benchmark closest to [0. 0.]: 0\n",
      "16:47 madminer.analysis.da DEBUG   Sampling benchmark closest to [10.  0.]: 1\n",
      "16:47 madminer.plotting.di DEBUG   Plotting panel 0: observable 0, label pt_lead_j\n",
      "16:47 madminer.plotting.di DEBUG   Ranges for observable pt_lead_j: min = [0.0, 0.0], max = [291.4547950009624, 294.0921625797803]\n",
      "16:47 madminer.plotting.di DEBUG   Plotting panel 1: observable 1, label m_jj\n",
      "16:47 madminer.plotting.di DEBUG   Ranges for observable m_jj: min = [0.0, 0.0], max = [733.8821584219688, 734.439251791464]\n",
      "16:47 madminer.plotting.di DEBUG   Plotting panel 2: observable 2, label delta_phi_jj\n",
      "16:47 madminer.plotting.di DEBUG   Ranges for observable delta_phi_jj: min = [0.0, 0.0], max = [5.0716413620823335, 5.071504675388852]\n",
      "16:47 madminer.plotting.di DEBUG   Plotting panel 3: observable 3, label lep1_pt\n",
      "16:47 madminer.plotting.di DEBUG   Ranges for observable lep1_pt: min = [10.001240730285643, 10.001240730285643], max = [144.0809197150688, 145.09593542583644]\n",
      "16:47 madminer.plotting.di DEBUG   Plotting panel 4: observable 4, label H_mass\n",
      "16:47 madminer.plotting.di DEBUG   Ranges for observable H_mass: min = [116.82646920305648, 116.79246884995098], max = [128.91683810588594, 128.90227049643076]\n",
      "16:47 madminer.plotting.di DEBUG   Plotting panel 5: observable 5, label H_pt\n",
      "16:47 madminer.plotting.di DEBUG   Ranges for observable H_pt: min = [0.04248135547505508, 0.04248135547505508], max = [347.7995349994527, 351.6710713207143]\n",
      "16:47 madminer.plotting.di DEBUG   Plotting panel 6: observable 6, label H_eta\n",
      "16:47 madminer.plotting.di DEBUG   Ranges for observable H_eta: min = [-4.63333607338568, -4.641628788718223], max = [4.58959606668098, 4.602087468659297]\n"
     ]
    },
    {
     "data": {
      "image/png": "[encoded data removed]",
      "text/plain": [
       "<Figure size 864x864 with 7 Axes>"
      ]
     },
     "metadata": {
      "needs_background": "light"
     },
     "output_type": "display_data"
    }
   ],
   "source": [
    "_ = plot_distributions(\n",
    "    filename='data/delphes_data.h5',\n",
    "    parameter_points=['sm', np.array([10.,0.])],\n",
    "    line_labels=['SM', 'BSM'],\n",
    "    uncertainties='none',\n",
    "    n_bins=20,\n",
    "    n_cols=3,\n",
    "    normalize=True,\n",
    ")"
   ]
  },
  {
   "cell_type": "markdown",
   "metadata": {},
   "source": [
    "## 6. Combine and shuffle different samples"
   ]
  },
  {
   "cell_type": "markdown",
   "metadata": {},
   "source": [
    "To reduce disk usage, you can generate several small event samples with the steps given above, and combine them now. Note that (for now) it is essential that all of them are generated with the same setup, including the same benchmark points / morphing basis!\n",
    "\n",
    "This is generally good practice even if you use just one sample, since the events might have some inherent ordering (e.g. from sampling from different hypotheses). Later when we split the events into a training and test fraction, such an ordering could cause problems."
   ]
  },
  {
   "cell_type": "code",
   "execution_count": 55,
   "metadata": {},
   "outputs": [
    {
     "name": "stderr",
     "output_type": "stream",
     "text": [
      "16:55 madminer.sampling.co DEBUG   Combining and shuffling samples\n",
      "16:55 madminer.sampling.co DEBUG   Copying setup from data/delphes_data.h5 to data/delphes_data_shuffled.h5\n",
      "16:55 madminer.sampling.co DEBUG   Loading samples from file 1 / 1 at data/delphes_data.h5, multiplying weights with k factor 1.0\n",
      "16:55 madminer.sampling.co DEBUG   Sampling benchmarks: [2 3 3 ... 2 3 0]\n",
      "16:55 madminer.sampling.co DEBUG   Combined sampling benchmarks: [2 3 3 ... 2 3 0]\n",
      "16:55 madminer.sampling.co DEBUG   Recalculated event numbers per benchmark: [11684 11952 12591 11526 11596     0], background: 0\n"
     ]
    }
   ],
   "source": [
    "combine_and_shuffle(\n",
    "    ['data/delphes_data.h5'],\n",
    "    'data/delphes_data_shuffled.h5'\n",
    ")"
   ]
  },
  {
   "cell_type": "code",
   "execution_count": 62,
   "metadata": {},
   "outputs": [
    {
     "name": "stdout",
     "output_type": "stream",
     "text": [
      "benchmarks\n",
      "benchmarks/is_nuisance\n",
      "benchmarks/is_reference\n",
      "benchmarks/names\n",
      "benchmarks/values\n",
      "morphing\n",
      "morphing/components\n",
      "morphing/morphing_matrix\n",
      "observables\n",
      "observables/definitions\n",
      "observables/names\n",
      "parameters\n",
      "parameters/lha_blocks\n",
      "parameters/lha_ids\n",
      "parameters/max_power\n",
      "parameters/names\n",
      "parameters/ranges\n",
      "parameters/transforms\n",
      "sample_summary\n",
      "sample_summary/background_events\n",
      "sample_summary/signal_events_per_benchmark\n",
      "samples\n",
      "samples/observations\n",
      "samples/sampling_benchmarks\n",
      "samples/weights\n",
      "35472\n",
      "59349\n"
     ]
    }
   ],
   "source": [
    "import h5py\n",
    "\n",
    "def get_all(name):\n",
    "    print(name)\n",
    "\n",
    "with h5py.File('data/delphes_data.h5', 'r') as f:\n",
    "    g_name = f.visit(get_all)\n",
    "    d = f['samples/observations']\n",
    "    print(len([a for a in d[:,0] if a!=0]))\n",
    "    print(len(d[:,0]))\n",
    "    #for item in d[:]:\n",
    "        #print(item[1])"
   ]
  },
  {
   "cell_type": "code",
   "execution_count": 75,
   "metadata": {},
   "outputs": [
    {
     "data": {
      "text/plain": [
       "8.0"
      ]
     },
     "execution_count": 75,
     "metadata": {},
     "output_type": "execute_result"
    }
   ],
   "source": [
    "l#a = np.nanmax(float('nan'),8)\n",
    "np.nanmax([8,float('nan')])"
   ]
  },
  {
   "cell_type": "code",
   "execution_count": 71,
   "metadata": {},
   "outputs": [
    {
     "name": "stdout",
     "output_type": "stream",
     "text": [
      "nan\n"
     ]
    }
   ],
   "source": [
    "print(a)"
   ]
  },
  {
   "cell_type": "code",
   "execution_count": null,
   "metadata": {},
   "outputs": [],
   "source": []
  }
 ],
 "metadata": {
  "kernelspec": {
   "display_name": "Python 3",
   "language": "python",
   "name": "python3"
  },
  "language_info": {
   "codemirror_mode": {
    "name": "ipython",
    "version": 3
   },
   "file_extension": ".py",
   "mimetype": "text/x-python",
   "name": "python",
   "nbconvert_exporter": "python",
   "pygments_lexer": "ipython3",
   "version": "3.7.0"
  }
 },
 "nbformat": 4,
 "nbformat_minor": 2
}
