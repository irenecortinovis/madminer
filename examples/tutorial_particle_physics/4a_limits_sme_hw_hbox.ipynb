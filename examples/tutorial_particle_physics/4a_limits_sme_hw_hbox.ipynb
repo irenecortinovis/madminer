{
 "cells": [
  {
   "cell_type": "markdown",
   "metadata": {},
   "source": [
    "# MadMiner particle physics tutorial\n",
    "\n",
    "# Part 4a: Limit setting\n",
    "\n",
    "Johann Brehmer, Felix Kling, Irina Espejo, and Kyle Cranmer 2018-2019"
   ]
  },
  {
   "cell_type": "markdown",
   "metadata": {},
   "source": [
    "In part 4a of this tutorial we will use the networks trained in step 3a and 3b to calculate the expected limits on our theory parameters."
   ]
  },
  {
   "cell_type": "markdown",
   "metadata": {},
   "source": [
    "## 0. Preparations"
   ]
  },
  {
   "cell_type": "code",
   "execution_count": 1,
   "metadata": {},
   "outputs": [],
   "source": [
    "from __future__ import absolute_import, division, print_function, unicode_literals\n",
    "\n",
    "import six\n",
    "import logging\n",
    "import numpy as np\n",
    "import matplotlib\n",
    "from matplotlib import pyplot as plt\n",
    "%matplotlib inline\n",
    "\n",
    "from madminer.limits import AsymptoticLimits\n",
    "from madminer.sampling import SampleAugmenter\n",
    "from madminer import sampling\n",
    "from madminer.plotting import plot_histograms\n"
   ]
  },
  {
   "cell_type": "code",
   "execution_count": 2,
   "metadata": {},
   "outputs": [],
   "source": [
    "# MadMiner output\n",
    "logging.basicConfig(\n",
    "    format='%(asctime)-5.5s %(name)-20.20s %(levelname)-7.7s %(message)s',\n",
    "    datefmt='%H:%M',\n",
    "    level=logging.INFO\n",
    ")\n",
    "\n",
    "# Output of all other modules (e.g. matplotlib)\n",
    "for key in logging.Logger.manager.loggerDict:\n",
    "    if \"madminer\" not in key:\n",
    "        # print(\"Deactivating logging output for\", key)\n",
    "        logging.getLogger(key).setLevel(logging.WARNING)"
   ]
  },
  {
   "cell_type": "markdown",
   "metadata": {},
   "source": [
    "## 1. Preparations"
   ]
  },
  {
   "cell_type": "markdown",
   "metadata": {},
   "source": [
    "In the end, what we care about are not plots of the log likelihood ratio, but limits on parameters. But at least under some asymptotic assumptions, these are directly related. MadMiner makes it easy to calculate p-values in the asymptotic limit with the `AsymptoticLimits` class in the `madminer.limits`: "
   ]
  },
  {
   "cell_type": "code",
   "execution_count": 43,
   "metadata": {},
   "outputs": [
    {
     "name": "stderr",
     "output_type": "stream",
     "text": [
      "19:18 madminer.analysis.da INFO    Loading data from /data_CMS/cms/cortinovis/smeftsim/data_sme_hw_hbox/delphes_data_shuffled.h5\n",
      "19:18 madminer.analysis.da INFO    Found 2 parameters\n",
      "19:18 madminer.analysis.da INFO    Did not find nuisance parameters\n",
      "19:18 madminer.analysis.da INFO    Found 6 benchmarks, of which 6 physical\n",
      "19:18 madminer.analysis.da INFO    Found 12 observables\n",
      "19:18 madminer.analysis.da INFO    Found 13797 events\n",
      "19:18 madminer.analysis.da INFO      6983 signal events sampled from benchmark sm\n",
      "19:18 madminer.analysis.da INFO      1949 signal events sampled from benchmark w\n",
      "19:18 madminer.analysis.da INFO      2079 signal events sampled from benchmark neg_w\n",
      "19:18 madminer.analysis.da INFO      1398 signal events sampled from benchmark ww\n",
      "19:18 madminer.analysis.da INFO      1388 signal events sampled from benchmark neg_ww\n",
      "19:18 madminer.analysis.da INFO    Found morphing setup with 6 components\n",
      "19:18 madminer.analysis.da INFO    Did not find nuisance morphing setup\n"
     ]
    }
   ],
   "source": [
    "# limits = AsymptoticLimits('data/lhe_data_shuffled.h5')\n",
    "limits = AsymptoticLimits('/data_CMS/cms/cortinovis/smeftsim/data_sme_hw_hbox/delphes_data_shuffled.h5')"
   ]
  },
  {
   "cell_type": "markdown",
   "metadata": {},
   "source": [
    "This class provids two high-level functions:\n",
    "- `AsymptoticLimits.observed_limits()` lets us calculate p-values on a parameter grid for some observed events, and\n",
    "- `AsymptoticLimits.expected_limits()` lets us calculate expected p-values on a parameter grid based on all data in the MadMiner file.\n",
    "\n",
    "First we have to define the parameter grid on which we evaluate the p-values."
   ]
  },
  {
   "cell_type": "code",
   "execution_count": 82,
   "metadata": {},
   "outputs": [],
   "source": [
    "grid_ranges = [(-0.3, 0.3), (-1., 1.)]\n",
    "grid_resolutions = [25, 25]"
   ]
  },
  {
   "cell_type": "markdown",
   "metadata": {},
   "source": [
    "What luminosity (in inverse pb) are we talking about?"
   ]
  },
  {
   "cell_type": "code",
   "execution_count": 83,
   "metadata": {},
   "outputs": [],
   "source": [
    "lumi = 2500.*1000. "
   ]
  },
  {
   "cell_type": "markdown",
   "metadata": {},
   "source": [
    "## 2. Expected limits based on histogram"
   ]
  },
  {
   "cell_type": "markdown",
   "metadata": {},
   "source": [
    "First, as a baseline, let us calculate the expected limits based on a simple jet pT histogram. Right now, there are not a lot of option for this function; MadMiner even calculates the binning automatically. (We will add more functionality!)\n",
    "\n",
    "The keyword `include_xsec` determines whether we include information from the total rate or just use the shapes. Since we don't model backgrounds and systematics in this tutorial, the rate information is unrealistically large, so we leave it out here."
   ]
  },
  {
   "cell_type": "code",
   "execution_count": 76,
   "metadata": {},
   "outputs": [],
   "source": [
    "## create dictionaries to store results\n",
    "p_values = {}\n",
    "mle = {}"
   ]
  },
  {
   "cell_type": "code",
   "execution_count": 77,
   "metadata": {},
   "outputs": [
    {
     "name": "stderr",
     "output_type": "stream",
     "text": [
      "19:54 madminer.limits.asym INFO    Generating Asimov data\n",
      "19:54 madminer.limits.asym INFO    Expected events: 20.308448709661047\n",
      "19:54 madminer.limits.asym INFO    Calculating p-values for 20.308448709661047 expected events in mode histo without rate information\n",
      "19:54 madminer.limits.asym INFO    Evaluating likelihood on a regular grid with 625 parameter points\n",
      "19:54 madminer.limits.asym INFO    Setting up standard summary statistics\n",
      "19:54 madminer.limits.asym INFO    Creating histograms of 1 summary statistics. Using (25,) bins each, or 25 in total.\n",
      "19:54 madminer.limits.asym INFO    Determining fixed adaptive histogram binning for all points on grid\n",
      "19:54 madminer.analysis.da WARNING Requested 100000 events, but only 11038 available\n",
      "19:54 madminer.analysis.da WARNING Requested 100000 events, but only 11038 available\n",
      "19:54 madminer.limits.asym INFO    Calculating kinematic log likelihood with histograms\n",
      "19:54 madminer.limits.asym INFO    Calculating p-values\n"
     ]
    }
   ],
   "source": [
    "try:\n",
    "    theta_grid, p_values_expected_histo, best_fit_expected_histo, _, _, (histos, observed, observed_weights) = limits.expected_limits(\n",
    "        mode=\"histo\",\n",
    "        hist_vars=[\"pt_j1\"],\n",
    "        theta_true=[0.,0.],\n",
    "        grid_ranges=grid_ranges,\n",
    "        grid_resolutions=grid_resolutions,\n",
    "        luminosity=lumi,\n",
    "        include_xsec=False,\n",
    "        return_asimov=True,\n",
    "    )\n",
    "\n",
    "    p_values[\"Histogram\"] = p_values_expected_histo\n",
    "    mle[\"Histogram\"] = best_fit_expected_histo\n",
    "except: \n",
    "    print(\"no Histogram\")"
   ]
  },
  {
   "cell_type": "markdown",
   "metadata": {},
   "source": [
    "With `mode=\"rate\"`, we could calculate limits based on only the rate -- but again, since the rate is extremely powerful when backgrounds and systematics are not taken into account, we don't do that in this tutorial."
   ]
  },
  {
   "cell_type": "markdown",
   "metadata": {},
   "source": [
    "Let's visualize the likelihood estimated with these histograms:"
   ]
  },
  {
   "cell_type": "code",
   "execution_count": 78,
   "metadata": {},
   "outputs": [
    {
     "data": {
      "image/png": "[encoded data removed]",
      "text/plain": [
       "<Figure size 360x360 with 1 Axes>"
      ]
     },
     "metadata": {
      "needs_background": "light"
     },
     "output_type": "display_data"
    }
   ],
   "source": [
    "indices = [12 + i * 25 for i in [6,9,12,15,18]]\n",
    "\n",
    "fig = plot_histograms(\n",
    "    histos=[histos[i] for i in indices],\n",
    "    observed=[observed[i] for i in indices],\n",
    "    observed_weights=observed_weights,\n",
    "    histo_labels=[r\"$\\theta_0 = {:.2f}$\".format(theta_grid[i,0]) for i in indices],\n",
    "    xlabel=\"Jet $p_T$\",\n",
    "    xrange=(0.,500.),\n",
    ")\n",
    "\n",
    "plt.show()\n"
   ]
  },
  {
   "cell_type": "markdown",
   "metadata": {},
   "source": [
    "## 3. Expected limits based on ratio estimators"
   ]
  },
  {
   "cell_type": "markdown",
   "metadata": {},
   "source": [
    "Next, `mode=\"ml\"` allows us to calculate limits based on any `ParamterizedRatioEstimator` instance like the ALICES estimator trained above:"
   ]
  },
  {
   "cell_type": "code",
   "execution_count": 67,
   "metadata": {},
   "outputs": [
    {
     "name": "stderr",
     "output_type": "stream",
     "text": [
      "19:42 madminer.limits.asym INFO    Generating Asimov data\n",
      "19:42 madminer.limits.asym INFO    Expected events: 16.246758967728837\n",
      "19:42 madminer.limits.asym INFO    Calculating p-values for 16.246758967728837 expected events in mode ml without rate information\n",
      "19:42 madminer.limits.asym INFO    Evaluating likelihood on a regular grid with 625 parameter points\n",
      "19:42 madminer.limits.asym INFO    Loading kinematic likelihood ratio estimator\n",
      "19:42 madminer.ml.base     INFO    Loading model from /data_CMS/cms/cortinovis/smeftsim/models_sme_hw_hbox/alices\n",
      "19:42 madminer.limits.asym INFO    Calculating kinematic log likelihood ratio with estimator\n",
      "19:43 madminer.limits.asym INFO    Calculating p-values\n"
     ]
    }
   ],
   "source": [
    "try:\n",
    "    theta_grid, p_values_expected_alices, best_fit_expected_alices, _, _, _ = limits.expected_limits(\n",
    "        mode=\"ml\",\n",
    "        model_file='/data_CMS/cms/cortinovis/smeftsim/models_sme_hw_hbox/alices',\n",
    "        theta_true=[0.,0.],\n",
    "        grid_ranges=grid_ranges,\n",
    "        grid_resolutions=grid_resolutions,\n",
    "        luminosity=lumi,\n",
    "        include_xsec=False,\n",
    "    )\n",
    "\n",
    "    p_values[\"ALICES\"] = p_values_expected_alices\n",
    "    mle[\"ALICES\"] = best_fit_expected_alices\n",
    "except:\n",
    "    print(\"no ALICES\")"
   ]
  },
  {
   "cell_type": "markdown",
   "metadata": {},
   "source": [
    "and the ALICES estimator which only used the observable `pt_j1`"
   ]
  },
  {
   "cell_type": "code",
   "execution_count": 84,
   "metadata": {},
   "outputs": [
    {
     "name": "stderr",
     "output_type": "stream",
     "text": [
      "00:37 madminer.limits.asym INFO    Generating Asimov data\n",
      "00:37 madminer.limits.asym INFO    Expected events: 24.370138451593256\n",
      "00:37 madminer.limits.asym INFO    Calculating p-values for 24.370138451593256 expected events in mode ml without rate information\n",
      "00:37 madminer.limits.asym INFO    Evaluating likelihood on a regular grid with 625 parameter points\n",
      "00:37 madminer.limits.asym INFO    Loading kinematic likelihood ratio estimator\n"
     ]
    },
    {
     "name": "stdout",
     "output_type": "stream",
     "text": [
      "no ALICES_pt\n"
     ]
    }
   ],
   "source": [
    "try:\n",
    "    theta_grid, p_values_expected_alices_pt, best_fit_expected_alices_pt, _, _, _ = limits.expected_limits(\n",
    "        mode=\"ml\",\n",
    "        model_file='/data_CMS/cms/cortinovis/smeftsim/models_sme_hw_hbox/alices_pt',\n",
    "        theta_true=[0.,0.],\n",
    "        grid_ranges=grid_ranges,\n",
    "        grid_resolutions=grid_resolutions,\n",
    "        luminosity=lumi,\n",
    "        include_xsec=False,\n",
    "    )\n",
    "\n",
    "    p_values[\"ALICES_pt\"] = p_values_expected_alices_pt\n",
    "    mle[\"ALICES_pt\"] = best_fit_expected_alices_pt\n",
    "except:\n",
    "    print(\"no ALICES_pt\")"
   ]
  },
  {
   "cell_type": "markdown",
   "metadata": {},
   "source": [
    "## 4. Expected limits based on score estimators"
   ]
  },
  {
   "cell_type": "markdown",
   "metadata": {},
   "source": [
    "To get p-values from a SALLY estimator, we have to use histograms of the estimated score:"
   ]
  },
  {
   "cell_type": "code",
   "execution_count": 84,
   "metadata": {},
   "outputs": [
    {
     "name": "stderr",
     "output_type": "stream",
     "text": [
      "19:55 madminer.limits.asym INFO    Generating Asimov data\n",
      "19:55 madminer.limits.asym INFO    Expected events: 20.308448709661047\n",
      "19:55 madminer.limits.asym INFO    Calculating p-values for 20.308448709661047 expected events in mode sally without rate information\n",
      "19:55 madminer.limits.asym INFO    Evaluating likelihood on a regular grid with 625 parameter points\n",
      "19:55 madminer.limits.asym INFO    Loading score estimator and setting all components up as summary statistics\n",
      "19:55 madminer.ml.base     INFO    Loading model from /data_CMS/cms/cortinovis/smeftsim/models_sme_hw_hbox/sally\n",
      "19:55 madminer.limits.asym INFO    Creating histograms of 2 summary statistics. Using (8, 8) bins each, or 64 in total.\n",
      "19:55 madminer.limits.asym INFO    Determining fixed adaptive histogram binning for all points on grid\n",
      "19:55 madminer.analysis.da WARNING Requested 100000 events, but only 11038 available\n",
      "19:55 madminer.analysis.da WARNING Requested 100000 events, but only 11038 available\n",
      "19:55 madminer.limits.asym INFO    Calculating kinematic log likelihood with histograms\n",
      "19:55 madminer.limits.asym INFO    Calculating p-values\n"
     ]
    }
   ],
   "source": [
    "try:\n",
    "    theta_grid, p_values_expected_sally, best_fit_expected_sally, _, _, (histos, observed, observed_weights) = limits.expected_limits(\n",
    "        mode=\"sally\",\n",
    "        model_file='/data_CMS/cms/cortinovis/smeftsim/models_sme_hw_hbox/sally',\n",
    "        theta_true=[0.,0.],\n",
    "        grid_ranges=grid_ranges,\n",
    "        grid_resolutions=grid_resolutions,\n",
    "        luminosity=lumi,\n",
    "        include_xsec=False,\n",
    "        return_asimov=True,\n",
    "    )\n",
    "    p_values[\"SALLY\"] = p_values_expected_sally\n",
    "    mle[\"SALLY\"] = best_fit_expected_sally\n",
    "except: \n",
    "    print(\"no SALLY\")"
   ]
  },
  {
   "cell_type": "markdown",
   "metadata": {},
   "source": [
    "Let's have a look at the underlying 2D histograms:"
   ]
  },
  {
   "cell_type": "code",
   "execution_count": 85,
   "metadata": {},
   "outputs": [
    {
     "data": {
      "image/png": "[encoded data removed]",
      "text/plain": [
       "<Figure size 720x864 with 10 Axes>"
      ]
     },
     "metadata": {
      "needs_background": "light"
     },
     "output_type": "display_data"
    }
   ],
   "source": [
    "indices = [12 + i * 25 for i in [0,6,12,18,24]]\n",
    "\n",
    "fig = plot_histograms(\n",
    "    histos=[histos[i] for i in indices],\n",
    "    observed=observed[0,:100,:],\n",
    "    observed_weights=observed_weights[:100],\n",
    "    histo_labels=[r\"$\\theta_0 = {:.2f}$\".format(theta_grid[i,0]) for i in indices],\n",
    "    xlabel=r'$\\hat{t}_0(x)$',\n",
    "    ylabel=r'$\\hat{t}_1(x)$',\n",
    "    xrange=(-3.,.5),\n",
    "    yrange=(-3.,3.),\n",
    "    log=True,\n",
    "    zrange=(1.e-3,1.),\n",
    "    markersize=10.\n",
    ")\n",
    "    "
   ]
  },
  {
   "cell_type": "markdown",
   "metadata": {},
   "source": [
    "## 5. Expected limits based on likelihood estimators"
   ]
  },
  {
   "cell_type": "code",
   "execution_count": 87,
   "metadata": {},
   "outputs": [
    {
     "name": "stderr",
     "output_type": "stream",
     "text": [
      "00:37 madminer.limits.asym INFO    Generating Asimov data\n",
      "00:37 madminer.limits.asym INFO    Expected events: 24.370138451593256\n",
      "00:37 madminer.limits.asym INFO    Calculating p-values for 24.370138451593256 expected events in mode ml without rate information\n",
      "00:37 madminer.limits.asym INFO    Evaluating likelihood on a regular grid with 625 parameter points\n",
      "00:37 madminer.limits.asym INFO    Loading kinematic likelihood ratio estimator\n"
     ]
    },
    {
     "name": "stdout",
     "output_type": "stream",
     "text": [
      "no SCANDAL\n"
     ]
    }
   ],
   "source": [
    "try:\n",
    "    theta_grid, p_values_expected_scandal, best_fit_expected_scandal, _, _, _ = limits.expected_limits(\n",
    "        mode=\"ml\",\n",
    "        model_file='/data_CMS/cms/cortinovis/smeftsim/models_sme_hw_hbox/scandal',\n",
    "        theta_true=[0.,0.],\n",
    "        grid_ranges=grid_ranges,\n",
    "        grid_resolutions=grid_resolutions,\n",
    "        luminosity=lumi,\n",
    "        include_xsec=False,\n",
    "    )\n",
    "\n",
    "    p_values[\"SCANDAL\"] = p_values_expected_scandal\n",
    "    mle[\"SCANDAL\"] = best_fit_expected_scandal\n",
    "except:\n",
    "    print(\"no SCANDAL\")"
   ]
  },
  {
   "cell_type": "markdown",
   "metadata": {},
   "source": [
    "## 6. Toy signal"
   ]
  },
  {
   "cell_type": "markdown",
   "metadata": {},
   "source": [
    "In addition to these expected limits (based on the SM), let us inject a mock signal. We first generate the data:"
   ]
  },
  {
   "cell_type": "code",
   "execution_count": 60,
   "metadata": {},
   "outputs": [
    {
     "name": "stderr",
     "output_type": "stream",
     "text": [
      "19:39 madminer.analysis.da INFO    Loading data from /data_CMS/cms/cortinovis/smeftsim/data_sme_hw_hbox/delphes_data_shuffled.h5\n",
      "19:39 madminer.analysis.da INFO    Found 2 parameters\n",
      "19:39 madminer.analysis.da INFO    Did not find nuisance parameters\n",
      "19:39 madminer.analysis.da INFO    Found 6 benchmarks, of which 6 physical\n",
      "19:39 madminer.analysis.da INFO    Found 12 observables\n",
      "19:39 madminer.analysis.da INFO    Found 13797 events\n",
      "19:39 madminer.analysis.da INFO      6983 signal events sampled from benchmark sm\n",
      "19:39 madminer.analysis.da INFO      1949 signal events sampled from benchmark w\n",
      "19:39 madminer.analysis.da INFO      2079 signal events sampled from benchmark neg_w\n",
      "19:39 madminer.analysis.da INFO      1398 signal events sampled from benchmark ww\n",
      "19:39 madminer.analysis.da INFO      1388 signal events sampled from benchmark neg_ww\n",
      "19:39 madminer.analysis.da INFO    Found morphing setup with 6 components\n",
      "19:39 madminer.analysis.da INFO    Did not find nuisance morphing setup\n",
      "19:39 madminer.sampling.sa INFO    Extracting evaluation sample. Sampling according to [0.5 0.5]\n",
      "19:39 madminer.sampling.sa INFO    Starting sampling serially\n",
      "19:39 madminer.sampling.sa INFO    Sampling from parameter point 1 / 1\n",
      "19:39 madminer.sampling.sa WARNING Large statistical uncertainty on the total cross section when sampling from theta = [0.5 0.5]: (0.000058 +/- 0.000094) pb (163.09210427990533 %). Skipping these warnings in the future...\n",
      "19:39 madminer.sampling.sa INFO    Effective number of samples: mean 28.556695235006497, with individual thetas ranging from 28.556695235006504 to 28.556695235006504\n"
     ]
    }
   ],
   "source": [
    "sampler = SampleAugmenter('/data_CMS/cms/cortinovis/smeftsim/data_sme_hw_hbox/delphes_data_shuffled.h5')\n",
    "x_observed, _, _ = sampler.sample_test(\n",
    "    theta=sampling.morphing_point([0.5,0.5]),\n",
    "    n_samples=100,\n",
    "    folder=None,\n",
    "    filename=None,\n",
    ")"
   ]
  },
  {
   "cell_type": "code",
   "execution_count": 61,
   "metadata": {},
   "outputs": [
    {
     "name": "stderr",
     "output_type": "stream",
     "text": [
      "19:39 madminer.limits.asym INFO    Calculating p-values for 100 expected events in mode ml without rate information\n",
      "19:39 madminer.limits.asym INFO    Evaluating likelihood on a regular grid with 625 parameter points\n",
      "19:39 madminer.limits.asym INFO    Loading kinematic likelihood ratio estimator\n",
      "19:39 madminer.ml.base     INFO    Loading model from /data_CMS/cms/cortinovis/smeftsim/models_sme_hw_hbox/alices\n",
      "19:39 madminer.limits.asym INFO    Calculating kinematic log likelihood ratio with estimator\n",
      "19:39 madminer.limits.asym INFO    Calculating p-values\n"
     ]
    }
   ],
   "source": [
    "_, p_values_observed, best_fit_observed, _, _, _ = limits.observed_limits(\n",
    "    x_observed=x_observed,\n",
    "    mode=\"ml\",\n",
    "    model_file='/data_CMS/cms/cortinovis/smeftsim/models_sme_hw_hbox/alices',\n",
    "    grid_ranges=grid_ranges,\n",
    "    grid_resolutions=grid_resolutions,\n",
    "    luminosity=lumi,\n",
    "    include_xsec=False,\n",
    ")\n",
    "\n",
    "p_values[\"ALICES (observed)\"] = p_values_observed\n",
    "mle[\"ALICES (observed)\"] = best_fit_observed"
   ]
  },
  {
   "cell_type": "markdown",
   "metadata": {},
   "source": [
    "## 7. Plot"
   ]
  },
  {
   "cell_type": "markdown",
   "metadata": {},
   "source": [
    "Let's plot the results:"
   ]
  },
  {
   "cell_type": "code",
   "execution_count": 87,
   "metadata": {},
   "outputs": [
    {
     "data": {
      "image/png": "[encoded data removed]",
      "text/plain": [
       "<Figure size 432x360 with 2 Axes>"
      ]
     },
     "metadata": {
      "needs_background": "light"
     },
     "output_type": "display_data"
    },
    {
     "name": "stdout",
     "output_type": "stream",
     "text": [
      "luminosity:  2500.0  ifb\n"
     ]
    }
   ],
   "source": [
    "show = \"SALLY\"\n",
    "\n",
    "bin0_size = (grid_ranges[0][1] - grid_ranges[0][0])/(grid_resolutions[0] - 1)\n",
    "edges0 = np.linspace(grid_ranges[0][0] - bin0_size/2, grid_ranges[0][1] + bin0_size/2, grid_resolutions[0] + 1)\n",
    "\n",
    "bin1_size = (grid_ranges[1][1] - grid_ranges[1][0])/(grid_resolutions[0] - 1)\n",
    "edges1 = np.linspace(grid_ranges[1][0] - bin1_size/2, grid_ranges[1][1] + bin1_size/2, grid_resolutions[0] + 1)\n",
    "\n",
    "centers0 = np.linspace(grid_ranges[0][0], grid_ranges[0][1], grid_resolutions[0])\n",
    "centers1 = np.linspace(grid_ranges[1][0], grid_ranges[1][1], grid_resolutions[0])\n",
    "\n",
    "fig = plt.figure(figsize=(6,5))\n",
    "ax = plt.gca()\n",
    "\n",
    "cmin, cmax = 1.e-2, 1.\n",
    "\n",
    "pcm = ax.pcolormesh(\n",
    "    edges0, edges1, p_values[show].reshape((grid_resolutions[0], grid_resolutions[1])).T,\n",
    "    norm=matplotlib.colors.LogNorm(vmin=cmin, vmax=cmax),\n",
    "    cmap='Greys_r'\n",
    ")\n",
    "cbar = fig.colorbar(pcm, ax=ax, extend='both')\n",
    "\n",
    "for i, (label, p_value) in enumerate(six.iteritems(p_values)):\n",
    "    plt.contour(\n",
    "        centers0, centers1, p_value.reshape((grid_resolutions[0], grid_resolutions[1])).T,\n",
    "        levels=[0.32],\n",
    "        linestyles='-', colors='C{}'.format(i)\n",
    "    )\n",
    "    plt.scatter(\n",
    "        theta_grid[mle[label]][0], theta_grid[mle[label]][1],\n",
    "        s=80., color='C{}'.format(i), marker='*',\n",
    "        label=label\n",
    "    )\n",
    "\n",
    "plt.legend()\n",
    "\n",
    "plt.xlabel(r'$\\theta_0$')\n",
    "plt.ylabel(r'$\\theta_1$')\n",
    "cbar.set_label('Expected p-value ({})'.format(show))\n",
    "\n",
    "plt.tight_layout()\n",
    "plt.show()\n",
    "\n",
    "print('luminosity: ', lumi/1000, ' ifb')"
   ]
  },
  {
   "cell_type": "markdown",
   "metadata": {},
   "source": [
    "### Save results"
   ]
  },
  {
   "cell_type": "markdown",
   "metadata": {},
   "source": [
    "Let's save the results to later compare them to results obtained in other notebooks. "
   ]
  },
  {
   "cell_type": "code",
   "execution_count": null,
   "metadata": {},
   "outputs": [],
   "source": [
    "np.save(\"/data_CMS/cms/cortinovis/smeftsim/models_sme_hw_hbox/limits.npy\", [p_values,mle])"
   ]
  },
  {
   "cell_type": "code",
   "execution_count": null,
   "metadata": {},
   "outputs": [],
   "source": []
  }
 ],
 "metadata": {
  "kernelspec": {
   "display_name": "Python 3",
   "language": "python",
   "name": "python3"
  },
  "language_info": {
   "codemirror_mode": {
    "name": "ipython",
    "version": 3
   },
   "file_extension": ".py",
   "mimetype": "text/x-python",
   "name": "python",
   "nbconvert_exporter": "python",
   "pygments_lexer": "ipython3",
   "version": "3.7.0"
  }
 },
 "nbformat": 4,
 "nbformat_minor": 2
}
