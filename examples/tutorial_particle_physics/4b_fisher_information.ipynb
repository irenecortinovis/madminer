{
 "cells": [
  {
   "cell_type": "markdown",
   "metadata": {},
   "source": [
    "# MadMiner particle physics tutorial\n",
    "\n",
    "# Part 4b: The Fisher information\n",
    "\n",
    "Johann Brehmer, Felix Kling, Irina Espejo, and Kyle Cranmer 2018-2019"
   ]
  },
  {
   "cell_type": "markdown",
   "metadata": {},
   "source": [
    "## 0. Preparations"
   ]
  },
  {
   "cell_type": "code",
   "execution_count": 17,
   "metadata": {},
   "outputs": [],
   "source": [
    "from __future__ import absolute_import, division, print_function, unicode_literals\n",
    "\n",
    "import six\n",
    "import logging\n",
    "import numpy as np\n",
    "import matplotlib\n",
    "from matplotlib import pyplot as plt\n",
    "%matplotlib inline\n",
    "\n",
    "from madminer.fisherinformation import FisherInformation\n",
    "from madminer.plotting import plot_fisher_information_contours_2d\n"
   ]
  },
  {
   "cell_type": "code",
   "execution_count": 18,
   "metadata": {},
   "outputs": [],
   "source": [
    "# MadMiner output\n",
    "logging.basicConfig(\n",
    "    format='%(asctime)-5.5s %(name)-20.20s %(levelname)-7.7s %(message)s',\n",
    "    datefmt='%H:%M',\n",
    "    level=logging.INFO\n",
    ")\n",
    "\n",
    "# Output of all other modules (e.g. matplotlib)\n",
    "for key in logging.Logger.manager.loggerDict:\n",
    "    if \"madminer\" not in key:\n",
    "        logging.getLogger(key).setLevel(logging.WARNING)"
   ]
  },
  {
   "cell_type": "markdown",
   "metadata": {},
   "source": [
    "## 1. Calculating the Fisher information from a SALLY model"
   ]
  },
  {
   "cell_type": "markdown",
   "metadata": {},
   "source": [
    "We can use SALLY estimators (see part 3b of this tutorial) not just to define optimal observables, but also to calculate the (expected) Fisher information in a process. In `madminer.fisherinformation` we provide the `FisherInformation` class that makes this more convenient."
   ]
  },
  {
   "cell_type": "code",
   "execution_count": 19,
   "metadata": {},
   "outputs": [
    {
     "name": "stderr",
     "output_type": "stream",
     "text": [
      "17:02 madminer.analysis.da INFO    Loading data from data_pp/delphes_data_shuffled.h5\n",
      "17:02 madminer.analysis.da INFO    Found 2 parameters\n",
      "17:02 madminer.analysis.da INFO    Did not find nuisance parameters\n",
      "17:02 madminer.analysis.da INFO    Found 6 benchmarks, of which 6 physical\n",
      "17:02 madminer.analysis.da INFO    Found 12 observables\n",
      "17:02 madminer.analysis.da INFO    Found 116651 events\n",
      "17:02 madminer.analysis.da INFO      60564 signal events sampled from benchmark sm\n",
      "17:02 madminer.analysis.da INFO      14606 signal events sampled from benchmark w\n",
      "17:02 madminer.analysis.da INFO      14611 signal events sampled from benchmark neg_w\n",
      "17:02 madminer.analysis.da INFO      13316 signal events sampled from benchmark ww\n",
      "17:02 madminer.analysis.da INFO      13554 signal events sampled from benchmark neg_ww\n",
      "17:02 madminer.analysis.da INFO    Found morphing setup with 6 components\n",
      "17:02 madminer.analysis.da INFO    Did not find nuisance morphing setup\n"
     ]
    }
   ],
   "source": [
    "# fisher = FisherInformation('data/lhe_data_shuffled.h5')\n",
    "fisher = FisherInformation('data_pp/delphes_data_shuffled.h5')"
   ]
  },
  {
   "cell_type": "markdown",
   "metadata": {},
   "source": [
    "This class provides different functions:\n",
    "- `rate_information()` calculates the Fisher information in total rates,\n",
    "- `histo_information()` calculates the Fisher information in 1D histograms,\n",
    "- `histo_information_2d()` calculates the Fisher information in 2D histograms,\n",
    "- `full_information()` calculates the full detector-level Fisher information using a SALLY estimator, and\n",
    "- `truth_information()` calculates the truth-level Fisher information.\n",
    "\n",
    "Here we use the SALLY approach:"
   ]
  },
  {
   "cell_type": "code",
   "execution_count": 20,
   "metadata": {},
   "outputs": [
    {
     "name": "stderr",
     "output_type": "stream",
     "text": [
      "17:02 madminer.ml.base     INFO    Loading model from models/sally\n",
      "17:02 madminer.fisherinfor INFO    Found 2 parameters in Score Estimator model, matching 2 physical parameters in MadMiner file\n",
      "17:02 madminer.fisherinfor INFO    Evaluating rate Fisher information\n",
      "17:03 madminer.fisherinfor INFO    Evaluating kinematic Fisher information on batch 1 / 1\n",
      "17:03 madminer.ml.base     INFO    Loading evaluation data\n",
      "17:03 madminer.ml.base     INFO    Calculating Fisher information\n"
     ]
    },
    {
     "name": "stdout",
     "output_type": "stream",
     "text": [
      "Fisher information after 300 ifb:\n",
      "[[4.10166856e+02 3.82112605e-02]\n",
      " [3.82112605e-02 2.37897254e-04]]\n"
     ]
    }
   ],
   "source": [
    "info_sally, _ = fisher.full_information(\n",
    "    theta=[0.,0.],\n",
    "    model_file='models/sally',\n",
    "    luminosity=300.*1000.,\n",
    ")\n",
    "\n",
    "print('Fisher information after 300 ifb:\\n{}'.format(info_sally))"
   ]
  },
  {
   "cell_type": "markdown",
   "metadata": {},
   "source": [
    "For comparison, we can calculate the Fisher information in the histogram of observables:"
   ]
  },
  {
   "cell_type": "code",
   "execution_count": 21,
   "metadata": {},
   "outputs": [
    {
     "name": "stderr",
     "output_type": "stream",
     "text": [
      "17:03 madminer.fisherinfor INFO    Bins with largest statistical uncertainties on rates:\n",
      "17:03 madminer.fisherinfor INFO      Bin 1: (0.00725 +/- 0.00122) fb (17 %)\n",
      "17:03 madminer.fisherinfor INFO      Bin 3: (1.06702 +/- 0.08213) fb (8 %)\n",
      "17:03 madminer.fisherinfor INFO      Bin 5: (0.50303 +/- 0.01840) fb (4 %)\n",
      "17:03 madminer.fisherinfor INFO      Bin 2: (0.72809 +/- 0.02477) fb (3 %)\n",
      "17:03 madminer.fisherinfor INFO      Bin 4: (0.90237 +/- 0.02529) fb (3 %)\n"
     ]
    },
    {
     "name": "stdout",
     "output_type": "stream",
     "text": [
      "Histogram Fisher information after 300 ifb:\n",
      "[[3.21486227e+02 9.82834420e-06]\n",
      " [9.82834420e-06 3.00541195e-13]]\n"
     ]
    }
   ],
   "source": [
    "info_histo_1d, cov_histo_1d = fisher.histo_information(\n",
    "    theta=[0.,0.],\n",
    "    luminosity=300.*1000.,\n",
    "    observable=\"pt_j1\",\n",
    "    bins=[30.,100.,200.,400.],\n",
    "    histrange=[30.,400.],\n",
    ")\n",
    "\n",
    "print('Histogram Fisher information after 300 ifb:\\n{}'.format(info_histo_1d))"
   ]
  },
  {
   "cell_type": "markdown",
   "metadata": {},
   "source": [
    "We can do the same thing in 2D:"
   ]
  },
  {
   "cell_type": "code",
   "execution_count": 22,
   "metadata": {},
   "outputs": [
    {
     "name": "stderr",
     "output_type": "stream",
     "text": [
      "17:03 madminer.fisherinfor INFO    Bins with largest statistical uncertainties on rates:\n",
      "17:03 madminer.fisherinfor INFO      Bin (1, 4): (0.00096 +/- 0.00068) fb (71 %)\n",
      "17:03 madminer.fisherinfor INFO      Bin (1, 3): (0.00182 +/- 0.00077) fb (43 %)\n",
      "17:03 madminer.fisherinfor INFO      Bin (1, 2): (0.00126 +/- 0.00037) fb (29 %)\n",
      "17:03 madminer.fisherinfor INFO      Bin (3, 2): (0.35930 +/- 0.07881) fb (22 %)\n",
      "17:03 madminer.fisherinfor INFO      Bin (1, 1): (0.00321 +/- 0.00053) fb (17 %)\n"
     ]
    },
    {
     "name": "stdout",
     "output_type": "stream",
     "text": [
      "Histogram Fisher information after 300 ifb:\n",
      "[[3.22179737e+02 9.85255831e-06]\n",
      " [9.85255831e-06 3.01420727e-13]]\n"
     ]
    }
   ],
   "source": [
    "info_histo_2d, cov_histo_2d = fisher.histo_information_2d(\n",
    "    theta=[0.,0.],\n",
    "    luminosity=300.*1000.,\n",
    "    observable1=\"pt_j1\",\n",
    "    bins1=[30.,100.,200.,400.],\n",
    "    histrange1=[30.,400.],\n",
    "    observable2=\"delta_phi_jj\",\n",
    "    bins2=5,\n",
    "    histrange2=[0,6.2],\n",
    ")\n",
    "\n",
    "print('Histogram Fisher information after 300 ifb:\\n{}'.format(info_histo_2d))"
   ]
  },
  {
   "cell_type": "markdown",
   "metadata": {},
   "source": [
    "## 2. Calculating the Fisher information from a SALLY model"
   ]
  },
  {
   "cell_type": "markdown",
   "metadata": {},
   "source": [
    "We can also calculate the Fisher Information using an ALICES model"
   ]
  },
  {
   "cell_type": "code",
   "execution_count": 23,
   "metadata": {},
   "outputs": [
    {
     "name": "stderr",
     "output_type": "stream",
     "text": [
      "17:03 madminer.ml.base     INFO    Loading model from models/alices\n",
      "17:03 madminer.fisherinfor INFO    Found 2 parameters in Parameterized Ratio Estimator model, matching 2 physical parameters in MadMiner file\n",
      "17:03 madminer.fisherinfor INFO    Evaluating rate Fisher information\n",
      "17:03 madminer.fisherinfor INFO    Evaluating kinematic Fisher information on batch 1 / 1\n",
      "17:03 madminer.ml.base     INFO    Loading evaluation data\n",
      "17:03 madminer.ml.base     INFO    Calculating Fisher information\n"
     ]
    },
    {
     "name": "stdout",
     "output_type": "stream",
     "text": [
      "Fisher information using ALICES after 300 ifb:\n",
      "[[ 4.07171620e+02 -3.57622840e-01]\n",
      " [-3.57622840e-01  4.91292115e-02]]\n"
     ]
    }
   ],
   "source": [
    "info_alices, _ = fisher.full_information(\n",
    "    theta=[0.,0.],\n",
    "    model_file='models/alices',\n",
    "    luminosity=300.*1000.,\n",
    ")\n",
    "\n",
    "print('Fisher information using ALICES after 300 ifb:\\n{}'.format(info_alices))"
   ]
  },
  {
   "cell_type": "markdown",
   "metadata": {},
   "source": [
    "## 3. Plot Fisher distances"
   ]
  },
  {
   "cell_type": "markdown",
   "metadata": {},
   "source": [
    "We also provide a convenience function to plot contours of constant Fisher distance `d^2(theta, theta_ref) = I_ij(theta_ref) * (theta-theta_ref)_i * (theta-theta_ref)_j`:"
   ]
  },
  {
   "cell_type": "code",
   "execution_count": 24,
   "metadata": {},
   "outputs": [
    {
     "data": {
      "image/png": "[encoded data removed]",
      "text/plain": [
       "<Figure size 360x360 with 1 Axes>"
      ]
     },
     "metadata": {
      "needs_background": "light"
     },
     "output_type": "display_data"
    }
   ],
   "source": [
    "_ = plot_fisher_information_contours_2d(\n",
    "    [info_sally, info_histo_1d, info_histo_2d,info_alices],\n",
    "    [None, cov_histo_1d, cov_histo_2d,None],\n",
    "    inline_labels=[\"SALLY\", \"1d\", \"2d\",\"ALICES\"],\n",
    "    xrange=(-0.3,0.3),\n",
    "    yrange=(-0.3,0.3)\n",
    ")"
   ]
  }
 ],
 "metadata": {
  "kernelspec": {
   "display_name": "Python 3",
   "language": "python",
   "name": "python3"
  },
  "language_info": {
   "codemirror_mode": {
    "name": "ipython",
    "version": 3
   },
   "file_extension": ".py",
   "mimetype": "text/x-python",
   "name": "python",
   "nbconvert_exporter": "python",
   "pygments_lexer": "ipython3",
   "version": "3.7.0"
  }
 },
 "nbformat": 4,
 "nbformat_minor": 2
}
