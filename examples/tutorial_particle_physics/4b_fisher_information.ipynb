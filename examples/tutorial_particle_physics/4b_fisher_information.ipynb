{
 "cells": [
  {
   "cell_type": "markdown",
   "metadata": {},
   "source": [
    "# MadMiner particle physics tutorial\n",
    "\n",
    "# Part 4b: The Fisher information\n",
    "\n",
    "Johann Brehmer, Felix Kling, Irina Espejo, and Kyle Cranmer 2018-2019"
   ]
  },
  {
   "cell_type": "markdown",
   "metadata": {},
   "source": [
    "## 0. Preparations"
   ]
  },
  {
   "cell_type": "code",
   "execution_count": 1,
   "metadata": {},
   "outputs": [],
   "source": [
    "from __future__ import absolute_import, division, print_function, unicode_literals\n",
    "\n",
    "import six\n",
    "import logging\n",
    "import numpy as np\n",
    "import matplotlib\n",
    "from matplotlib import pyplot as plt\n",
    "%matplotlib inline\n",
    "\n",
    "from madminer.fisherinformation import FisherInformation\n",
    "from madminer.plotting import plot_fisher_information_contours_2d\n"
   ]
  },
  {
   "cell_type": "code",
   "execution_count": 2,
   "metadata": {},
   "outputs": [],
   "source": [
    "# MadMiner output\n",
    "logging.basicConfig(\n",
    "    format='%(asctime)-5.5s %(name)-20.20s %(levelname)-7.7s %(message)s',\n",
    "    datefmt='%H:%M',\n",
    "    level=logging.INFO\n",
    ")\n",
    "\n",
    "# Output of all other modules (e.g. matplotlib)\n",
    "for key in logging.Logger.manager.loggerDict:\n",
    "    if \"madminer\" not in key:\n",
    "        logging.getLogger(key).setLevel(logging.WARNING)"
   ]
  },
  {
   "cell_type": "markdown",
   "metadata": {},
   "source": [
    "## 1. Calculating the Fisher information from a SALLY model"
   ]
  },
  {
   "cell_type": "markdown",
   "metadata": {},
   "source": [
    "We can use SALLY estimators (see part 3b of this tutorial) not just to define optimal observables, but also to calculate the (expected) Fisher information in a process. In `madminer.fisherinformation` we provide the `FisherInformation` class that makes this more convenient."
   ]
  },
  {
   "cell_type": "code",
   "execution_count": 3,
   "metadata": {},
   "outputs": [
    {
     "name": "stderr",
     "output_type": "stream",
     "text": [
      "18:38 madminer.analysis    INFO    Loading data from data/lhe_data_shuffled.h5\n",
      "18:38 madminer.analysis    INFO    Found 2 parameters\n",
      "18:38 madminer.analysis    INFO    Did not find nuisance parameters\n",
      "18:38 madminer.analysis    INFO    Found 6 benchmarks, of which 6 physical\n",
      "18:38 madminer.analysis    INFO    Found 3 observables\n",
      "18:38 madminer.analysis    INFO    Found 89995 events\n",
      "18:38 madminer.analysis    INFO      49995 signal events sampled from benchmark sm\n",
      "18:38 madminer.analysis    INFO      10000 signal events sampled from benchmark w\n",
      "18:38 madminer.analysis    INFO      10000 signal events sampled from benchmark neg_w\n",
      "18:38 madminer.analysis    INFO      10000 signal events sampled from benchmark ww\n",
      "18:38 madminer.analysis    INFO      10000 signal events sampled from benchmark neg_ww\n",
      "18:38 madminer.analysis    INFO    Found morphing setup with 6 components\n",
      "18:38 madminer.analysis    INFO    Did not find nuisance morphing setup\n"
     ]
    }
   ],
   "source": [
    "fisher = FisherInformation('data/lhe_data_shuffled.h5')\n",
    "# fisher = FisherInformation('data/delphes_data_shuffled.h5')"
   ]
  },
  {
   "cell_type": "markdown",
   "metadata": {},
   "source": [
    "This class provides different functions:\n",
    "- `rate_information()` calculates the Fisher information in total rates,\n",
    "- `histo_information()` calculates the Fisher information in 1D histograms,\n",
    "- `histo_information_2d()` calculates the Fisher information in 2D histograms,\n",
    "- `full_information()` calculates the full detector-level Fisher information using a SALLY estimator, and\n",
    "- `truth_information()` calculates the truth-level Fisher information.\n",
    "\n",
    "Here we use the SALLY approach:"
   ]
  },
  {
   "cell_type": "code",
   "execution_count": 4,
   "metadata": {},
   "outputs": [
    {
     "name": "stderr",
     "output_type": "stream",
     "text": [
      "18:38 madminer.ml          INFO    Loading model from models/sally\n",
      "18:38 madminer.fisherinfor INFO    Found 2 parameters in Score Estimator model, matching 2 physical parameters in MadMiner file\n",
      "18:38 madminer.fisherinfor INFO    Evaluating rate Fisher information\n",
      "18:38 madminer.fisherinfor INFO    Evaluating kinematic Fisher information on batch 1 / 1\n",
      "18:38 madminer.ml          INFO    Loading evaluation data\n",
      "18:38 madminer.ml          INFO    Starting score evaluation\n",
      "18:38 madminer.ml          INFO    Calculating Fisher information\n"
     ]
    },
    {
     "name": "stdout",
     "output_type": "stream",
     "text": [
      "Fisher information after 300 ifb:\n",
      "[[151.60857815   3.8275252 ]\n",
      " [  3.8275252  111.4493973 ]]\n"
     ]
    }
   ],
   "source": [
    "info_sally, _ = fisher.full_information(\n",
    "    theta=[0.,0.],\n",
    "    model_file='models/sally',\n",
    "    luminosity=300.*1000.,\n",
    ")\n",
    "\n",
    "print('Fisher information after 300 ifb:\\n{}'.format(info_sally))"
   ]
  },
  {
   "cell_type": "markdown",
   "metadata": {},
   "source": [
    "For comparison, we can calculate the Fisher information in the histogram of observables:"
   ]
  },
  {
   "cell_type": "code",
   "execution_count": 5,
   "metadata": {},
   "outputs": [
    {
     "name": "stderr",
     "output_type": "stream",
     "text": [
      "18:38 madminer.fisherinfor INFO    Bins with largest statistical uncertainties on rates:\n",
      "18:38 madminer.fisherinfor INFO      Bin 1: (0.01773 +/- 0.00265) fb (15 %)\n",
      "18:38 madminer.fisherinfor INFO      Bin 5: (0.00617 +/- 0.00023) fb (4 %)\n",
      "18:38 madminer.fisherinfor INFO      Bin 2: (0.61342 +/- 0.01452) fb (2 %)\n",
      "18:38 madminer.fisherinfor INFO      Bin 3: (0.33385 +/- 0.00623) fb (2 %)\n",
      "18:38 madminer.fisherinfor INFO      Bin 4: (0.07269 +/- 0.00127) fb (2 %)\n"
     ]
    },
    {
     "name": "stdout",
     "output_type": "stream",
     "text": [
      "Histogram Fisher information after 300 ifb:\n",
      "[[1.21812340e+02 2.69517631e+00]\n",
      " [2.69517631e+00 7.19146139e-02]]\n"
     ]
    }
   ],
   "source": [
    "info_histo_1d, cov_histo_1d = fisher.histo_information(\n",
    "    theta=[0.,0.],\n",
    "    luminosity=300.*1000.,\n",
    "    observable=\"pt_j1\",\n",
    "    bins=[30.,100.,200.,400.],\n",
    "    histrange=[30.,400.],\n",
    ")\n",
    "\n",
    "print('Histogram Fisher information after 300 ifb:\\n{}'.format(info_histo_1d))"
   ]
  },
  {
   "cell_type": "markdown",
   "metadata": {},
   "source": [
    "We can do the same thing in 2D:"
   ]
  },
  {
   "cell_type": "code",
   "execution_count": 6,
   "metadata": {},
   "outputs": [
    {
     "name": "stderr",
     "output_type": "stream",
     "text": [
      "18:38 madminer.fisherinfor INFO    Bins with largest statistical uncertainties on rates:\n",
      "18:38 madminer.fisherinfor INFO      Bin (1, 2): (0.00373 +/- 0.00127) fb (34 %)\n",
      "18:38 madminer.fisherinfor INFO      Bin (1, 3): (0.00564 +/- 0.00189) fb (34 %)\n",
      "18:38 madminer.fisherinfor INFO      Bin (1, 1): (0.00756 +/- 0.00135) fb (18 %)\n",
      "18:38 madminer.fisherinfor INFO      Bin (1, 4): (0.00081 +/- 0.00010) fb (12 %)\n",
      "18:38 madminer.fisherinfor INFO      Bin (5, 2): (0.00098 +/- 0.00011) fb (11 %)\n"
     ]
    },
    {
     "name": "stdout",
     "output_type": "stream",
     "text": [
      "Histogram Fisher information after 300 ifb:\n",
      "[[134.29754271   5.07340032]\n",
      " [  5.07340032  88.1906973 ]]\n"
     ]
    },
    {
     "name": "stderr",
     "output_type": "stream",
     "text": [
      "/home/llr/cms/cortinovis/.local/lib/python3.7/site-packages/madminer/fisherinformation.py:1187: RuntimeWarning: divide by zero encountered in true_divide\n",
      "  inv_sigma = sanitize_array(1.0 / sigma)  # Shape (n_events,)\n"
     ]
    }
   ],
   "source": [
    "info_histo_2d, cov_histo_2d = fisher.histo_information_2d(\n",
    "    theta=[0.,0.],\n",
    "    luminosity=300.*1000.,\n",
    "    observable1=\"pt_j1\",\n",
    "    bins1=[30.,100.,200.,400.],\n",
    "    histrange1=[30.,400.],\n",
    "    observable2=\"delta_phi_jj\",\n",
    "    bins2=5,\n",
    "    histrange2=[0,6.2],\n",
    ")\n",
    "\n",
    "print('Histogram Fisher information after 300 ifb:\\n{}'.format(info_histo_2d))"
   ]
  },
  {
   "cell_type": "markdown",
   "metadata": {},
   "source": [
    "## 2. Calculating the Fisher information from a SALLY model"
   ]
  },
  {
   "cell_type": "markdown",
   "metadata": {},
   "source": [
    "We can also calculate the Fisher Information using an ALICES model"
   ]
  },
  {
   "cell_type": "code",
   "execution_count": 7,
   "metadata": {},
   "outputs": [
    {
     "name": "stderr",
     "output_type": "stream",
     "text": [
      "18:38 madminer.ml          INFO    Loading model from models/alices\n",
      "18:38 madminer.fisherinfor INFO    Found 2 parameters in Parameterized Ratio Estimator model, matching 2 physical parameters in MadMiner file\n",
      "18:39 madminer.fisherinfor INFO    Evaluating rate Fisher information\n",
      "18:39 madminer.fisherinfor INFO    Evaluating kinematic Fisher information on batch 1 / 1\n",
      "18:39 madminer.ml          INFO    Loading evaluation data\n",
      "18:39 madminer.ml          INFO    Loading evaluation data\n",
      "18:39 madminer.ml          INFO    Starting ratio evaluation\n",
      "18:39 madminer.ml          INFO    Evaluation done\n",
      "18:39 madminer.ml          INFO    Calculating Fisher information\n"
     ]
    },
    {
     "name": "stdout",
     "output_type": "stream",
     "text": [
      "Fisher information using ALICES after 300 ifb:\n",
      "[[120.03572354   2.02383656]\n",
      " [  2.02383656 100.93283483]]\n"
     ]
    }
   ],
   "source": [
    "info_alices, _ = fisher.full_information(\n",
    "    theta=[0.,0.],\n",
    "    model_file='models/alices',\n",
    "    luminosity=300.*1000.,\n",
    ")\n",
    "\n",
    "print('Fisher information using ALICES after 300 ifb:\\n{}'.format(info_alices))"
   ]
  },
  {
   "cell_type": "markdown",
   "metadata": {},
   "source": [
    "## 3. Plot Fisher distances"
   ]
  },
  {
   "cell_type": "markdown",
   "metadata": {},
   "source": [
    "We also provide a convenience function to plot contours of constant Fisher distance `d^2(theta, theta_ref) = I_ij(theta_ref) * (theta-theta_ref)_i * (theta-theta_ref)_j`:"
   ]
  },
  {
   "cell_type": "code",
   "execution_count": 8,
   "metadata": {},
   "outputs": [
    {
     "name": "stderr",
     "output_type": "stream",
     "text": [
      "/opt/exp_soft/llr/python/3.7.0/el7/lib/python3.7/site-packages/matplotlib/contour.py:1000: UserWarning: The following kwargs were not used by contour: 'label'\n",
      "  s)\n",
      "/opt/exp_soft/llr/python/3.7.0/el7/lib/python3.7/site-packages/matplotlib/figure.py:98: MatplotlibDeprecationWarning: \n",
      "Adding an axes using the same arguments as a previous axes currently reuses the earlier instance.  In a future version, a new instance will always be created and returned.  Meanwhile, this warning can be suppressed, and the future behavior ensured, by passing a unique label to each axes instance.\n",
      "  \"Adding an axes using the same arguments as a previous axes \"\n"
     ]
    },
    {
     "data": {
      "image/png": "[encoded data removed]",
      "text/plain": [
       "<Figure size 360x360 with 1 Axes>"
      ]
     },
     "metadata": {
      "needs_background": "light"
     },
     "output_type": "display_data"
    }
   ],
   "source": [
    "_ = plot_fisher_information_contours_2d(\n",
    "    [info_sally, info_histo_1d, info_histo_2d,info_alices],\n",
    "    [None, cov_histo_1d, cov_histo_2d,None],\n",
    "    inline_labels=[\"SALLY\", \"1d\", \"2d\",\"ALICES\"],\n",
    "    xrange=(-0.3,0.3),\n",
    "    yrange=(-0.3,0.3)\n",
    ")"
   ]
  }
 ],
 "metadata": {
  "kernelspec": {
   "display_name": "Python 3",
   "language": "python",
   "name": "python3"
  },
  "language_info": {
   "codemirror_mode": {
    "name": "ipython",
    "version": 3
   },
   "file_extension": ".py",
   "mimetype": "text/x-python",
   "name": "python",
   "nbconvert_exporter": "python",
   "pygments_lexer": "ipython3",
   "version": "3.7.0"
  }
 },
 "nbformat": 4,
 "nbformat_minor": 2
}
